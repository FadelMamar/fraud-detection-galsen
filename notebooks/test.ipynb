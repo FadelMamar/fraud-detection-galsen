{
 "cells": [
  {
   "cell_type": "code",
   "execution_count": null,
   "id": "b2e1fd9f",
   "metadata": {},
   "outputs": [],
   "source": []
  },
  {
   "cell_type": "markdown",
   "id": "790b881f",
   "metadata": {},
   "source": [
    "# Data loading"
   ]
  },
  {
   "cell_type": "code",
   "execution_count": null,
   "id": "18691d82",
   "metadata": {},
   "outputs": [],
   "source": [
    "# from fraudetect.dataset import load_data\n"
   ]
  },
  {
   "cell_type": "markdown",
   "id": "50279e89",
   "metadata": {},
   "source": [
    "# Feature engineering"
   ]
  },
  {
   "cell_type": "code",
   "execution_count": null,
   "id": "d2e63674",
   "metadata": {},
   "outputs": [],
   "source": [
    "from fraudetect import import_from_path, sample_cfg\n",
    "\n",
    "configs = import_from_path(\n",
    "    \"hyp_search_conf\", r\"D:\\fraud-detection-galsen\\tools\\hyp_search_conf.py\"\n",
    ")"
   ]
  },
  {
   "cell_type": "code",
   "execution_count": null,
   "id": "592bf6b8",
   "metadata": {},
   "outputs": [],
   "source": [
    "from fraudetect.features import (\n",
    "    fit_outliers_detectors,\n",
    "    concat_outliers_probs_pyod,\n",
    "    load_transforms_pyod,\n",
    ")\n",
    "from fraudetect.detectors import get_detector, instantiate_detector\n",
    "\n",
    "model_list = list()\n",
    "# names = configs.outliers_detectors.keys()\n",
    "names = [\"cblof\", \"iforest\"]\n",
    "\n",
    "outliers_det_configs = []\n",
    "for name in sorted(names):\n",
    "    detector, cfg = get_detector(name=name, config=configs.outliers_detectors)\n",
    "    cfg = sample_cfg(cfg)\n",
    "    detector = instantiate_detector(detector, cfg)\n",
    "    model_list.append(detector)\n",
    "\n",
    "    cfg[\"detector\"] = configs.outliers_detectors[name][\"detector\"]\n",
    "    outliers_det_configs.append((name, cfg))\n",
    "\n",
    "model_list = fit_outliers_detectors(model_list, X_train)\n",
    "X_t = concat_outliers_probs_pyod(\n",
    "    fitted_detector_list=model_list,\n",
    "    X=X_train,\n",
    "    method=\"linear\",\n",
    "    add_confidence=True,\n",
    ")\n",
    "\n",
    "outliers_det_configs = OrderedDict(outliers_det_configs)\n",
    "transform = load_transforms_pyod(\n",
    "    X_train=X_train,\n",
    "    outliers_det_configs=outliers_det_configs,\n",
    "    method=\"linear\",\n",
    "    add_confidence=False,\n",
    ")"
   ]
  },
  {
   "cell_type": "code",
   "execution_count": null,
   "id": "22a54ed5",
   "metadata": {},
   "outputs": [],
   "source": []
  },
  {
   "cell_type": "code",
   "execution_count": null,
   "id": "725587ec",
   "metadata": {},
   "outputs": [],
   "source": []
  }
 ],
 "metadata": {
  "language_info": {
   "name": "python"
  }
 },
 "nbformat": 4,
 "nbformat_minor": 5
}

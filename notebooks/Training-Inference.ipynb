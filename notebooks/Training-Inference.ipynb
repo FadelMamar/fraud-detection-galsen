{
 "cells": [
  {
   "cell_type": "markdown",
   "id": "c4b75a61",
   "metadata": {},
   "source": []
  },
  {
   "cell_type": "markdown",
   "id": "da71afbd",
   "metadata": {},
   "source": [
    "# Training"
   ]
  },
  {
   "cell_type": "code",
   "execution_count": null,
   "id": "5d862243",
   "metadata": {},
   "outputs": [],
   "source": []
  },
  {
   "cell_type": "markdown",
   "id": "1c72b55b",
   "metadata": {},
   "source": [
    "## Catboost"
   ]
  },
  {
   "cell_type": "code",
   "execution_count": null,
   "id": "ac968e2a",
   "metadata": {},
   "outputs": [],
   "source": [
    "from fraudetect.dataset import load_data\n",
    "from fraudetect.preprocessing.preprocessing import  load_workflow\n",
    "from fraudetect.preprocessing import get_train_val_split\n",
    "from sklearn.metrics import f1_score\n",
    "\n",
    "from imblearn.combine import SMOTEENN, SMOTETomek\n",
    "\n",
    "from catboost import CatBoostClassifier, Pool, EShapCalcType, EFeaturesSelectionAlgorithm\n",
    "import numpy as np"
   ]
  },
  {
   "cell_type": "code",
   "execution_count": null,
   "id": "81f01d31",
   "metadata": {},
   "outputs": [],
   "source": [
    "cols_to_drop = [\n",
    "                'CurrencyCode',\n",
    "                'CountryCode',\n",
    "                'BatchId',\n",
    "                # 'CUSTOMER_ID',\n",
    "                'TRANSACTION_ID',\n",
    "                'TX_DATETIME',\n",
    "                'TX_TIME_DAYS',\n",
    "                'SubscriptionId',\n",
    "                # 'AccountId',\n",
    "                # 'CustomerUID'\n",
    "                ]\n",
    "\n",
    "\n",
    "interaction_cat_cols= [ \n",
    "                        'ChannelId',\n",
    "                        'PricingStrategy',\n",
    "                        'ProductId',\n",
    "                        'ProductCategory',\n",
    "                        'ProviderId'\n",
    "                    ]\n",
    "\n",
    "uid_cols=['AccountId','CUSTOMER_ID'] # [None,]\n",
    "\n",
    "uid_col_name=\"CustomerUID\"\n",
    "\n",
    "cat_similarity_encode = None # ['ProductCategory',] # None"
   ]
  },
  {
   "cell_type": "code",
   "execution_count": null,
   "id": "b7139753",
   "metadata": {},
   "outputs": [],
   "source": [
    "workflow = load_workflow(\n",
    "        classifier=None,\n",
    "        cols_to_drop=cols_to_drop,\n",
    "        pca_n_components=20,\n",
    "        detector_list=None,\n",
    "        n_splits=5,\n",
    "        cv_gap=5000,\n",
    "        scoring=\"f1\",\n",
    "        onehot_threshold=9,\n",
    "        session_gap_minutes=2448,\n",
    "        uid_cols=uid_cols,\n",
    "        uid_col_name=uid_col_name,\n",
    "        add_fraud_rate_features = True,\n",
    "        reorder_by=['TX_DATETIME','AccountId'],\n",
    "        behavioral_drift_cols=[\n",
    "            'CustomerUID',\n",
    "        ],\n",
    "        feature_selector_name = 'selectkbest', # None selectkbest smartcorrelated\n",
    "        feature_select_estimator=None,\n",
    "        corr_method=\"spearman\", # spearman\n",
    "        corr_threshold = 0.81,\n",
    "        top_k_best=45,\n",
    "        windows_size_in_days=[1, 3, 7, 30],\n",
    "        cat_encoding_method= \"catboost\",\n",
    "        cat_similarity_encode=cat_similarity_encode,\n",
    "        nlp_model_name='en_core_web_md',\n",
    "        add_poly_interactions=True,\n",
    "        add_cum_features=True,\n",
    "        n_clusters=5,\n",
    "        interaction_cat_cols=interaction_cat_cols,\n",
    "        poly_degree=1,\n",
    "        poly_cat_encoder_name=\"count\",\n",
    "        add_fft=False,\n",
    "        add_seasonal_features=False,\n",
    "        use_nystrom=False,\n",
    "        nystroem_components=20,\n",
    "        use_sincos=True,\n",
    "        use_spline=False,\n",
    "        add_imputer=False,\n",
    "        do_pca=False,\n",
    "        n_jobs=2,\n",
    ")\n",
    "workflow"
   ]
  },
  {
   "cell_type": "code",
   "execution_count": null,
   "id": "8cdc959a",
   "metadata": {},
   "outputs": [],
   "source": [
    "workflow_prep = workflow[:7]\n",
    "workflow_prep"
   ]
  },
  {
   "cell_type": "code",
   "execution_count": null,
   "id": "c37f22d4",
   "metadata": {},
   "outputs": [],
   "source": [
    "train_data = load_data(r\"D:\\fraud-detection-galsen\\data\\training.csv\")\n",
    "\n",
    "X_train, y_train, X_val, y_val = get_train_val_split(train_data=train_data,\n",
    "                                                            val_window_days=30,\n",
    "                                                            id_column='AccountId'\n",
    "                                                        )\n",
    "\n"
   ]
  },
  {
   "cell_type": "code",
   "execution_count": null,
   "id": "fb4c3bc9",
   "metadata": {},
   "outputs": [],
   "source": [
    "X_t = workflow_prep.fit_transform(X_train, y_train)"
   ]
  },
  {
   "cell_type": "code",
   "execution_count": null,
   "id": "a00efef4",
   "metadata": {},
   "outputs": [],
   "source": [
    "X_t.dtypes"
   ]
  },
  {
   "cell_type": "code",
   "execution_count": null,
   "id": "50337df2",
   "metadata": {},
   "outputs": [],
   "source": [
    "X_t.info()"
   ]
  },
  {
   "cell_type": "code",
   "execution_count": null,
   "id": "09bfec24",
   "metadata": {},
   "outputs": [],
   "source": [
    "cat_features = X_t.columns.isin(X_t.select_dtypes(include=['category','string','object']).columns)\n",
    "cat_features = np.where(cat_features == True)[0]\n",
    "cat_features"
   ]
  },
  {
   "cell_type": "code",
   "execution_count": null,
   "id": "74d5c0a1",
   "metadata": {},
   "outputs": [],
   "source": [
    "X_t_val = workflow_prep.transform(X_val)"
   ]
  },
  {
   "cell_type": "code",
   "execution_count": null,
   "id": "2b4c2687",
   "metadata": {},
   "outputs": [],
   "source": [
    "X_t_val.info()"
   ]
  },
  {
   "cell_type": "code",
   "execution_count": null,
   "id": "ecb737f0",
   "metadata": {},
   "outputs": [],
   "source": [
    "feature_names = X_t.columns.tolist()"
   ]
  },
  {
   "cell_type": "code",
   "execution_count": null,
   "id": "22e3abdc",
   "metadata": {},
   "outputs": [],
   "source": [
    "# Feature selection\n",
    "\n",
    "train_pool = Pool(data=X_t,\n",
    "          label=y_train,\n",
    "          feature_names=feature_names,\n",
    "          timestamp=X_train['TX_DATETIME'].diff().dt.total_seconds().fillna(0).astype(float)/60   \n",
    "    )\n",
    "\n",
    "val_pool = Pool(X_t_val,\n",
    "                y_val,\n",
    "                feature_names=feature_names,\n",
    "                timestamp=X_val['TX_DATETIME'].diff().dt.total_seconds().fillna(0).astype(float)/60                \n",
    "    )\n",
    "\n",
    "model = CatBoostClassifier(depth=2,\n",
    "                         iterations=1000,\n",
    "                         eval_metric='F1:use_weights=false',\n",
    "                         custom_metric=['F1:use_weights=false'],\n",
    "                         early_stopping_rounds=50,\n",
    "                         learning_rate=1e-1,\n",
    "                         loss_function='Logloss',\n",
    "                         scale_pos_weight=1e3,\n",
    "                         subsample=0.5,\n",
    "                         use_best_model=True,\n",
    "                         rsm=0.2,\n",
    "                         l2_leaf_reg=1e4\n",
    "                    )\n",
    "\n",
    "# Select features\n",
    "summary = model.select_features(\n",
    "    train_pool,\n",
    "    eval_set=val_pool,\n",
    "    features_for_select=list(range(X_t.shape[1])),\n",
    "    num_features_to_select=50,\n",
    "    steps=3,\n",
    "    algorithm=EFeaturesSelectionAlgorithm.RecursiveByShapValues,\n",
    "    shap_calc_type=EShapCalcType.Regular,\n",
    "    train_final_model=True,\n",
    "    logging_level='Silent',\n",
    "    plot=False\n",
    ")\n",
    "\n",
    "selected_features_indices = summary['selected_features']\n",
    "\n",
    "## get score\n",
    "scores = list()\n",
    "for i in range(model.tree_count_-1):\n",
    "   y_pred_val = model.predict(val_pool,\n",
    "                              prediction_type='Class',\n",
    "                              ntree_start=i,\n",
    "                              ntree_end=model.get_best_iteration()\n",
    "                           )\n",
    "\n",
    "   score = f1_score(y_true=y_val,\n",
    "            y_pred=y_pred_val\n",
    "            )\n",
    "   \n",
    "   scores.append(score)\n",
    "\n",
    "scores[np.argmax(scores)]\n"
   ]
  },
  {
   "cell_type": "code",
   "execution_count": null,
   "id": "bb89a0b3",
   "metadata": {},
   "outputs": [],
   "source": [
    "np.argmax(scores)"
   ]
  },
  {
   "cell_type": "code",
   "execution_count": null,
   "id": "94660e9f",
   "metadata": {},
   "outputs": [],
   "source": [
    "model.get_best_iteration()"
   ]
  },
  {
   "cell_type": "code",
   "execution_count": null,
   "id": "14aedfa4",
   "metadata": {},
   "outputs": [],
   "source": [
    "summary.keys()"
   ]
  },
  {
   "cell_type": "code",
   "execution_count": null,
   "id": "1c1fd45d",
   "metadata": {},
   "outputs": [],
   "source": [
    "selected_features_indices"
   ]
  },
  {
   "cell_type": "code",
   "execution_count": null,
   "id": "f18ec5e3",
   "metadata": {},
   "outputs": [],
   "source": [
    "model.eval_metrics(val_pool,\n",
    "                   metrics=['F1:use_weights=false'],\n",
    "                   ntree_start=0,\n",
    "                   ntree_end=model.get_best_iteration()\n",
    "                   )"
   ]
  },
  {
   "cell_type": "code",
   "execution_count": null,
   "id": "8d11ba04",
   "metadata": {},
   "outputs": [],
   "source": [
    "model.get_best_iteration()"
   ]
  },
  {
   "cell_type": "code",
   "execution_count": null,
   "id": "5b4c7b10",
   "metadata": {},
   "outputs": [],
   "source": [
    "model.tree_count_"
   ]
  },
  {
   "cell_type": "code",
   "execution_count": null,
   "id": "304267ec",
   "metadata": {},
   "outputs": [],
   "source": [
    "scores = list()\n",
    "for i in range(model.tree_count_-1):\n",
    "   y_pred_val = model.predict(val_pool,\n",
    "                              prediction_type='Class',\n",
    "                              ntree_start=i,\n",
    "                              ntree_end=model.get_best_iteration()\n",
    "                           )\n",
    "\n",
    "   score = f1_score(y_true=y_val,\n",
    "            y_pred=y_pred_val\n",
    "            )\n",
    "   \n",
    "   scores.append(score)\n",
    "\n",
    "scores[np.argmax(scores)]"
   ]
  },
  {
   "cell_type": "code",
   "execution_count": null,
   "id": "6e385294",
   "metadata": {},
   "outputs": [],
   "source": [
    "np.argmax(scores)"
   ]
  },
  {
   "cell_type": "code",
   "execution_count": null,
   "id": "980f5c9f",
   "metadata": {},
   "outputs": [],
   "source": [
    "model"
   ]
  },
  {
   "cell_type": "code",
   "execution_count": null,
   "id": "2d3ad685",
   "metadata": {},
   "outputs": [],
   "source": [
    "train_pool = Pool(data=X_t,\n",
    "          label=y_train.to_numpy(),\n",
    "          # feature_names=feature_names,\n",
    "          timestamp=X_train['TX_DATETIME'].diff().dt.total_seconds().fillna(0).astype(float)/60\n",
    "     )\n",
    "val_pool = Pool(X_t_val,\n",
    "                y_val,\n",
    "               #  feature_names=feature_names,\n",
    "                timestamp=X_val['TX_DATETIME'].diff().dt.total_seconds().fillna(0).astype(float)/60                \n",
    "    )\n",
    "clf = CatBoostClassifier(depth=2,\n",
    "                         iterations=1000,\n",
    "                         eval_metric='AUC:use_weights=false',\n",
    "                         custom_metric=['AUC:use_weights=false'],\n",
    "                         early_stopping_rounds=50,\n",
    "                         learning_rate=1e-1,\n",
    "                         loss_function='Logloss',\n",
    "                         scale_pos_weight=1e3,\n",
    "                         has_time=True,\n",
    "                         subsample=0.5,\n",
    "                         use_best_model=True,\n",
    "                         rsm=0.3,\n",
    "                         l2_leaf_reg=1e4,\n",
    "                         verbose=0\n",
    "                         )\n",
    "\n",
    "clf.fit(train_pool,\n",
    "        use_best_model=True,\n",
    "        eval_set=val_pool\n",
    "        )\n",
    "\n",
    "scores = list()\n",
    "for i in range(model.tree_count_-1):\n",
    "   y_pred_val = model.predict(val_pool,\n",
    "                              prediction_type='Class',\n",
    "                              ntree_start=i,\n",
    "                              ntree_end=model.get_best_iteration()\n",
    "                           )\n",
    "\n",
    "   score = f1_score(y_true=y_val,\n",
    "            y_pred=y_pred_val\n",
    "            )\n",
    "   \n",
    "   scores.append(score)\n",
    "\n",
    "scores[np.argmax(scores)],np.argmax(scores)"
   ]
  },
  {
   "cell_type": "code",
   "execution_count": null,
   "id": "0c86327a",
   "metadata": {},
   "outputs": [],
   "source": [
    "# f1_score(y_val,clf.predict(X_t_val))"
   ]
  },
  {
   "cell_type": "code",
   "execution_count": null,
   "id": "738117a8",
   "metadata": {},
   "outputs": [],
   "source": [
    "# clf.select_features(X=train_pool,\n",
    "#                     eval_set=val_pool,\n",
    "#                     num_features_to_select=50,\n",
    "                    \n",
    "#                     )"
   ]
  },
  {
   "cell_type": "code",
   "execution_count": null,
   "id": "075377cf",
   "metadata": {},
   "outputs": [],
   "source": [
    "# clf.get_feature_importance(data=val_pool,\n",
    "#                             reference_data=train_pool,\n",
    "#                             type='ShapValues'\n",
    "#                            ) "
   ]
  },
  {
   "cell_type": "markdown",
   "id": "dbc4b0f1",
   "metadata": {},
   "source": [
    "## Train-val splitting"
   ]
  },
  {
   "cell_type": "code",
   "execution_count": null,
   "id": "0ffd0f22",
   "metadata": {},
   "outputs": [],
   "source": [
    "import pandas as pd\n",
    "import numpy as np\n",
    "from datetime import timedelta\n",
    "import datetime"
   ]
  },
  {
   "cell_type": "code",
   "execution_count": null,
   "id": "68db5848",
   "metadata": {},
   "outputs": [],
   "source": [
    "def generate_rolling_group_time_splits(df, date_col, group_col,\n",
    "                                       val_window_days=30,\n",
    "                                       n_splits=4,\n",
    "                                       min_train_days=None):\n",
    "    \"\"\"\n",
    "    Generate rolling, group-aware, time-based splits (no overlap of groups).\n",
    "    \"\"\"\n",
    "    df = df.copy()\n",
    "    df[date_col] = pd.to_datetime(df[date_col])\n",
    "    df = df.sort_values(date_col).reset_index(drop=True)\n",
    "\n",
    "    min_date = df[date_col].min()\n",
    "    max_date = df[date_col].max()\n",
    "    total_days = (max_date - min_date).days\n",
    "\n",
    "    max_shift = total_days - val_window_days\n",
    "    if max_shift <= 0:\n",
    "        raise ValueError(\"Not enough span for the given val_window_days\")\n",
    "\n",
    "    shifts = np.linspace(0, max_shift, n_splits)\n",
    "    splits = []\n",
    "\n",
    "    for shift in shifts:\n",
    "        val_start = min_date + timedelta(days=int(shift))\n",
    "        val_end   = val_start + timedelta(days=val_window_days)\n",
    "\n",
    "        if min_train_days is not None:\n",
    "            min_train_date = val_start - timedelta(days=min_train_days)\n",
    "            train_mask = (df[date_col] < val_start) & (df[date_col] >= min_train_date)\n",
    "        else:\n",
    "            train_mask = (df[date_col] < val_start)\n",
    "        val_mask = (df[date_col] >= val_start) & (df[date_col] < val_end)\n",
    "\n",
    "        train_groups = set(df.loc[train_mask, group_col])\n",
    "        val_groups   = set(df.loc[val_mask,   group_col])\n",
    "        overlap = train_groups & val_groups\n",
    "        if overlap:\n",
    "            val_mask &= ~df[group_col].isin(overlap)\n",
    "\n",
    "        train_idx = df[train_mask].index.to_list()\n",
    "        val_idx   = df[val_mask].index.to_list()\n",
    "        splits.append((train_idx, val_idx))\n",
    "\n",
    "    return splits"
   ]
  },
  {
   "cell_type": "code",
   "execution_count": null,
   "id": "787bc1b3",
   "metadata": {},
   "outputs": [],
   "source": [
    "train_data = load_data(r\"D:\\fraud-detection-galsen\\data\\training.csv\")\n",
    "\n",
    "X_train = train_data.drop(columns=['TX_FRAUD'])\n",
    "y_train = train_data['TX_FRAUD']"
   ]
  },
  {
   "cell_type": "code",
   "execution_count": null,
   "id": "7713e8ec",
   "metadata": {},
   "outputs": [],
   "source": [
    "X_train.columns"
   ]
  },
  {
   "cell_type": "code",
   "execution_count": null,
   "id": "27ded916",
   "metadata": {},
   "outputs": [],
   "source": [
    "splits = generate_rolling_group_time_splits(X_train, 'TX_DATETIME', 'AccountId',\n",
    "                                    val_window_days=30,\n",
    "                                    n_splits=3,\n",
    "                                    min_train_days=None\n",
    "                                )\n"
   ]
  },
  {
   "cell_type": "code",
   "execution_count": null,
   "id": "22390402",
   "metadata": {},
   "outputs": [],
   "source": [
    "train_idx, _ = splits[1]\n",
    "\n",
    "_, val_idx = splits[2]\n",
    "\n",
    "np.intersect1d(train_idx,val_idx)"
   ]
  },
  {
   "cell_type": "code",
   "execution_count": null,
   "id": "e5700893",
   "metadata": {},
   "outputs": [],
   "source": [
    "len(train_idx), len(val_idx)"
   ]
  },
  {
   "cell_type": "code",
   "execution_count": null,
   "id": "85e1f820",
   "metadata": {},
   "outputs": [],
   "source": [
    "df_train = train_data.iloc[train_idx,:]\n",
    "df_val = train_data.iloc[val_idx,:]"
   ]
  },
  {
   "cell_type": "code",
   "execution_count": null,
   "id": "f5c5eff8",
   "metadata": {},
   "outputs": [],
   "source": [
    "df_train['TX_DATETIME'].min(),  df_train['TX_DATETIME'].max()"
   ]
  },
  {
   "cell_type": "code",
   "execution_count": null,
   "id": "008ddcb0",
   "metadata": {},
   "outputs": [],
   "source": [
    "df_val['TX_DATETIME'].min(),df_val['TX_DATETIME'].max()"
   ]
  },
  {
   "cell_type": "code",
   "execution_count": null,
   "id": "904e8033",
   "metadata": {},
   "outputs": [],
   "source": [
    "df_train.nunique()"
   ]
  },
  {
   "cell_type": "code",
   "execution_count": null,
   "id": "98776d5b",
   "metadata": {},
   "outputs": [],
   "source": [
    "df_val.nunique()"
   ]
  },
  {
   "cell_type": "code",
   "execution_count": null,
   "id": "6d917d60",
   "metadata": {},
   "outputs": [],
   "source": [
    "np.intersect1d(df_train['AccountId'], df_val['AccountId']).shape"
   ]
  },
  {
   "cell_type": "code",
   "execution_count": null,
   "id": "66d77fb7",
   "metadata": {},
   "outputs": [],
   "source": [
    "def get_train_delay_test_set(\n",
    "    transactions_df,\n",
    "    delta_train=7,\n",
    "    delta_delay=7,\n",
    "    delta_test=7,\n",
    "    sampling_ratio=1.0,\n",
    "    random_state=0,\n",
    "):\n",
    "    transactions_df.sort_values(\"TX_DATETIME\", inplace=True, ascending=True)\n",
    "    start_date_training = transactions_df[\"TX_DATETIME\"].iloc[-1]  # last date of the dataset\n",
    "    start_date_training = start_date_training + datetime.timedelta(\n",
    "        days=-(delta_delay + delta_test + delta_train)\n",
    "    )\n",
    "\n",
    "    # Get the training set data\n",
    "    train_df = transactions_df[\n",
    "        (transactions_df.TX_DATETIME >= start_date_training)\n",
    "        & (\n",
    "            transactions_df.TX_DATETIME\n",
    "            < start_date_training + datetime.timedelta(days=delta_train)\n",
    "        )\n",
    "    ]\n",
    "\n",
    "    # Get the delay set data\n",
    "    delay_df = transactions_df[\n",
    "        (\n",
    "            transactions_df.TX_DATETIME\n",
    "            >= start_date_training + datetime.timedelta(days=delta_train)\n",
    "        )\n",
    "        & (\n",
    "            transactions_df.TX_DATETIME\n",
    "            < start_date_training\n",
    "            + datetime.timedelta(days=delta_train)\n",
    "            + +datetime.timedelta(days=delta_delay)\n",
    "        )\n",
    "    ]\n",
    "\n",
    "    # Get the test set data\n",
    "    test_df = []\n",
    "\n",
    "    # Note: Cards known to be compromised after the delay period are removed from the test set\n",
    "    # That is, for each test day, all frauds known at (test_day-delay_period) are removed\n",
    "\n",
    "    # First, get known defrauded customers from the training set\n",
    "    known_defrauded_customers = set(train_df[train_df.TX_FRAUD == 1].AccountId)\n",
    "\n",
    "    # Get the relative starting day of training set (easier than TX_DATETIME to collect test data)\n",
    "    start_tx_time_days_training = train_df.TX_TIME_DAYS.min()\n",
    "\n",
    "    # Then, for each day of the test set\n",
    "    for day in range(delta_test):\n",
    "        # Get test data for that day\n",
    "        test_df_day = transactions_df[\n",
    "            transactions_df.TX_TIME_DAYS\n",
    "            == start_tx_time_days_training + delta_train + delta_delay + day\n",
    "        ]\n",
    "\n",
    "        # Compromised cards from that test day, minus the delay period, are added to the pool of known defrauded customers\n",
    "        test_df_day_delay_period = transactions_df[\n",
    "            transactions_df.TX_TIME_DAYS\n",
    "            == start_tx_time_days_training + delta_train + day - 1\n",
    "        ]\n",
    "\n",
    "        new_defrauded_customers = set(\n",
    "            test_df_day_delay_period[test_df_day_delay_period.TX_FRAUD == 1].AccountId\n",
    "        )\n",
    "        known_defrauded_customers = known_defrauded_customers.union(\n",
    "            new_defrauded_customers\n",
    "        )\n",
    "\n",
    "        test_df_day = test_df_day[\n",
    "            ~test_df_day.AccountId.isin(known_defrauded_customers)\n",
    "        ]\n",
    "\n",
    "        test_df.append(test_df_day)\n",
    "\n",
    "    test_df = pd.concat(test_df)\n",
    "\n",
    "    # If subsample\n",
    "    if sampling_ratio < 1:\n",
    "        train_df_frauds = train_df[train_df.TX_FRAUD == 1].sample(\n",
    "            frac=sampling_ratio, random_state=random_state\n",
    "        )\n",
    "        train_df_genuine = train_df[train_df.TX_FRAUD == 0].sample(\n",
    "            frac=sampling_ratio, random_state=random_state\n",
    "        )\n",
    "        train_df = pd.concat([train_df_frauds, train_df_genuine])\n",
    "\n",
    "    # Sort data sets by ascending order of transaction ID\n",
    "    train_df = train_df.sort_values(\"TRANSACTION_ID\")\n",
    "    test_df = test_df.sort_values(\"TRANSACTION_ID\")\n",
    "\n",
    "    return (train_df, delay_df, test_df)"
   ]
  },
  {
   "cell_type": "code",
   "execution_count": null,
   "id": "230a2611",
   "metadata": {},
   "outputs": [],
   "source": [
    "(train_df, _ ,test_df) = get_train_delay_test_set(train_data,delta_train=40,delta_delay=10,delta_test=20,)"
   ]
  },
  {
   "cell_type": "code",
   "execution_count": null,
   "id": "be361f6a",
   "metadata": {},
   "outputs": [],
   "source": [
    "np.intersect1d(train_df['AccountId'], test_df['AccountId']).shape"
   ]
  },
  {
   "cell_type": "code",
   "execution_count": null,
   "id": "e5ef72c6",
   "metadata": {},
   "outputs": [],
   "source": [
    "train_df['AccountId'].nunique()"
   ]
  },
  {
   "cell_type": "markdown",
   "id": "cd55e028",
   "metadata": {},
   "source": [
    "## Skorch "
   ]
  },
  {
   "cell_type": "code",
   "execution_count": null,
   "id": "7aca70bf",
   "metadata": {},
   "outputs": [],
   "source": [
    "cols_to_drop = [\n",
    "                'CurrencyCode',\n",
    "                'CountryCode',\n",
    "                'BatchId',\n",
    "                # 'CUSTOMER_ID',\n",
    "                'TRANSACTION_ID',\n",
    "                'TX_DATETIME',\n",
    "                'TX_TIME_DAYS',\n",
    "                'SubscriptionId',\n",
    "                # 'AccountId',\n",
    "                # 'CustomerUID'\n",
    "                ]\n",
    "\n",
    "\n",
    "interaction_cat_cols= [ \n",
    "                        'ChannelId',\n",
    "                        'PricingStrategy',\n",
    "                        'ProductId',\n",
    "                        'ProductCategory',\n",
    "                        'ProviderId'\n",
    "                    ]\n",
    "\n",
    "uid_cols=['AccountId','CUSTOMER_ID'] # [None,]\n",
    "\n",
    "uid_col_name=\"CustomerUID\"\n",
    "\n",
    "cat_similarity_encode = None # ['ProductCategory',] # None"
   ]
  },
  {
   "cell_type": "code",
   "execution_count": null,
   "id": "46a664e0",
   "metadata": {},
   "outputs": [],
   "source": [
    "workflow = load_workflow(\n",
    "        classifier=None,\n",
    "        cols_to_drop=cols_to_drop,\n",
    "        pca_n_components=20,\n",
    "        detector_list=None,\n",
    "        n_splits=5,\n",
    "        cv_gap=5000,\n",
    "        scoring=\"f1\",\n",
    "        onehot_threshold=9,\n",
    "        session_gap_minutes=2448,\n",
    "        uid_cols=uid_cols,\n",
    "        uid_col_name=uid_col_name,\n",
    "        add_fraud_rate_features = True,\n",
    "        reorder_by=['TX_DATETIME','AccountId'],\n",
    "        behavioral_drift_cols=[\n",
    "            'CustomerUID',\n",
    "        ],\n",
    "        feature_selector_name = 'selectkbest', # None selectkbest smartcorrelated\n",
    "        feature_select_estimator=None,\n",
    "        corr_method=\"spearman\", # spearman\n",
    "        corr_threshold = 0.81,\n",
    "        top_k_best=45,\n",
    "        windows_size_in_days=[1, 3, 7, 30],\n",
    "        cat_encoding_method= \"woe\",\n",
    "        cat_similarity_encode=cat_similarity_encode,\n",
    "        nlp_model_name='en_core_web_md',\n",
    "        add_poly_interactions=True,\n",
    "        add_cum_features=True,\n",
    "        n_clusters=0,\n",
    "        interaction_cat_cols=interaction_cat_cols,\n",
    "        poly_degree=1,\n",
    "        poly_cat_encoder_name=\"count\",\n",
    "        add_fft=False,\n",
    "        add_seasonal_features=False,\n",
    "        use_nystrom=False,\n",
    "        nystroem_components=20,\n",
    "        use_sincos=True,\n",
    "        use_spline=False,\n",
    "        add_imputer=False,\n",
    "        do_pca=False,\n",
    "        n_jobs=2,\n",
    ")\n",
    "workflow"
   ]
  },
  {
   "cell_type": "code",
   "execution_count": null,
   "id": "14cd29e1",
   "metadata": {},
   "outputs": [],
   "source": [
    "import torch\n",
    "from torch.utils.data import Dataset,DataLoader\n",
    "import numpy as np\n",
    "import pandas as pd\n",
    "from tqdm import tqdm\n",
    "\n",
    "class GroupedTimeSeriesDataset(Dataset):\n",
    "    def __init__(self, \n",
    "                 X,\n",
    "                 y,\n",
    "                 t,\n",
    "                 col_group,\n",
    "                 sampler=None,\n",
    "                 mode='train',\n",
    "                 dimension=1,\n",
    "                 seq_len=16, \n",
    "                 overlap=0.2):\n",
    "        \n",
    "        self.seq_len = seq_len\n",
    "        self.samples = []\n",
    "        self.mode = mode\n",
    "\n",
    "        self.sampler = sampler\n",
    "\n",
    "        # Calculate step size based on overlap\n",
    "        step_size = max(1, int(seq_len * (1 - overlap)))\n",
    "\n",
    "        self.dimension = dimension\n",
    "\n",
    "        # fit preprocessor on the entire dataset     \n",
    "        # print('Fitting preprocessor on the entire dataset...')  \n",
    "                \n",
    "        X_preprocessed = pd.DataFrame(np.array(X),columns=[f\"col_{i}\" for i in range(X.shape[1])]).convert_dtypes()\n",
    "        X_preprocessed['group_key'] = np.array(col_group)\n",
    "        X_preprocessed['TX_DATETIME'] = np.array(t) \n",
    "        X_preprocessed['TX_FRAUD'] = np.array(y) \n",
    "\n",
    "        self.X_preprocessed = X_preprocessed\n",
    "\n",
    "        # print(X_preprocessed.isna().sum().sum())\n",
    "\n",
    "        # Group by AccountId\n",
    "        grouped = (self.X_preprocessed\n",
    "                   .sort_values(by=['TX_DATETIME'])\n",
    "                   .drop(columns=['TX_DATETIME'])\n",
    "                   .groupby('group_key'))\n",
    "\n",
    "        for _, group in tqdm(grouped,desc=\"Processing groups\"):\n",
    "            \n",
    "            # Extract features and targets\n",
    "            \n",
    "            features = group.drop(columns=['TX_FRAUD','group_key']).values.astype(np.float32)\n",
    "            targets = group['TX_FRAUD'].values.astype(np.int8)\n",
    "\n",
    "            # Generate sliding windows\n",
    "            for i in range(0, len(group) - seq_len + 1, step_size):\n",
    "                x_seq = features[i:i+seq_len,:]\n",
    "                y_seq = targets[i:i+seq_len]  # target at the end of the sequence\n",
    "                self.samples.append((x_seq, y_seq))\n",
    "\n",
    "    def __len__(self):\n",
    "        return len(self.samples)\n",
    "\n",
    "    def __getitem__(self, idx):\n",
    "\n",
    "        (x_seq, y_seq) = self.samples[idx] \n",
    "        \n",
    "        # # to torch.Tensor\n",
    "        x_seq = torch.tensor(x_seq, dtype=torch.float32).t()\n",
    "        y_seq =  torch.tensor(y_seq, dtype=torch.float32)\n",
    "\n",
    "        if self.dimension==2:\n",
    "            x_seq = x_seq.unsqueeze(0)\n",
    "            y_seq = torch.ones_like(x_seq)*y_seq\n",
    "\n",
    "        return x_seq, y_seq\n"
   ]
  },
  {
   "cell_type": "code",
   "execution_count": null,
   "id": "93641abd",
   "metadata": {},
   "outputs": [],
   "source": [
    "train_data = load_data(r\"D:\\fraud-detection-galsen\\data\\training.csv\")\n",
    "\n",
    "# X_train = train_data.drop(columns=['TX_FRAUD'])\n",
    "# y_train = train_data['TX_FRAUD']"
   ]
  },
  {
   "cell_type": "code",
   "execution_count": null,
   "id": "9497b48b",
   "metadata": {},
   "outputs": [],
   "source": [
    "X_train, y_train, X_val, y_val = get_train_val_split(train_data=train_data,\n",
    "                                                            val_window_days=30,\n",
    "                                                            id_column='AccountId'\n",
    "                                                        )"
   ]
  },
  {
   "cell_type": "code",
   "execution_count": null,
   "id": "c73ae0ec",
   "metadata": {},
   "outputs": [],
   "source": [
    "X_train.dtypes"
   ]
  },
  {
   "cell_type": "code",
   "execution_count": null,
   "id": "ebb66afa",
   "metadata": {},
   "outputs": [],
   "source": [
    "# X_ = X_train.copy()\n",
    "# X_['TX_DATETIME'] = X_['TX_DATETIME'].diff().dt.total_seconds().fillna(0)\n",
    "# X_.drop(columns=['Value','TRANSACTION_ID','BatchId','TX_TIME_DAYS'],inplace=True)"
   ]
  },
  {
   "cell_type": "code",
   "execution_count": null,
   "id": "8a49970c",
   "metadata": {},
   "outputs": [],
   "source": [
    "# # resampler\n",
    "# x_train_resampled, y_train_resampled = SMOTENC('auto',sampling_strategy=0.4).fit_resample(X_,\n",
    "#                                                                       y_train.copy()\n",
    "#                                                                       )"
   ]
  },
  {
   "cell_type": "code",
   "execution_count": null,
   "id": "98f6bb77",
   "metadata": {},
   "outputs": [],
   "source": [
    "# x_train_resampled['TX_DATETIME'] = pd.to_datetime(x_train_resampled['TX_DATETIME'])"
   ]
  },
  {
   "cell_type": "code",
   "execution_count": null,
   "id": "da970ad7",
   "metadata": {},
   "outputs": [],
   "source": [
    "# x_train_resampled['Value'] = x_train_resampled['TX_AMOUNT'].apply(abs) "
   ]
  },
  {
   "cell_type": "code",
   "execution_count": null,
   "id": "28db37f6",
   "metadata": {},
   "outputs": [],
   "source": [
    "# x_train_resampled.nunique()"
   ]
  },
  {
   "cell_type": "code",
   "execution_count": null,
   "id": "a47a03b4",
   "metadata": {},
   "outputs": [],
   "source": [
    "# x_t_resampled = workflow.fit_transform(x_train_resampled, y_train_resampled)"
   ]
  },
  {
   "cell_type": "code",
   "execution_count": null,
   "id": "e36f1cf0",
   "metadata": {},
   "outputs": [],
   "source": [
    "X_t = workflow.fit_transform(X_train, y_train)"
   ]
  },
  {
   "cell_type": "code",
   "execution_count": null,
   "id": "1fccf73e",
   "metadata": {},
   "outputs": [],
   "source": [
    "np.isnan(X_t).sum().sum()"
   ]
  },
  {
   "cell_type": "code",
   "execution_count": null,
   "id": "09e6b693",
   "metadata": {},
   "outputs": [],
   "source": [
    "# X_t = X_t.convert_dtypes()\n",
    "# X_t.info()"
   ]
  },
  {
   "cell_type": "code",
   "execution_count": null,
   "id": "9d028306",
   "metadata": {},
   "outputs": [],
   "source": [
    "# Resampling\n",
    "resampler = SMOTEENN(sampling_strategy=0.15,)\n",
    "resampler.fit(X_t,y_train)"
   ]
  },
  {
   "cell_type": "code",
   "execution_count": null,
   "id": "19a0e3dd",
   "metadata": {},
   "outputs": [],
   "source": [
    "train_dataset = GroupedTimeSeriesDataset(\n",
    "                                   X=X_t,\n",
    "                                   y=y_train,  \n",
    "                                   t=X_train['TX_DATETIME'],  \n",
    "                                   col_group=X_train['AccountId'].astype(str) + \"_\" + X_train['CUSTOMER_ID'].astype(str),\n",
    "                                   sampler=resampler,\n",
    "                                   dimension=1,                        \n",
    "                                   seq_len=16,\n",
    "                                   overlap=0.2\n",
    "                                  )"
   ]
  },
  {
   "cell_type": "code",
   "execution_count": null,
   "id": "5d5f5098",
   "metadata": {},
   "outputs": [],
   "source": [
    "train_dataset[0]"
   ]
  },
  {
   "cell_type": "code",
   "execution_count": null,
   "id": "4e7483f0",
   "metadata": {},
   "outputs": [],
   "source": [
    "X_t_val = workflow.transform(X=X_val)"
   ]
  },
  {
   "cell_type": "code",
   "execution_count": null,
   "id": "dcd0a34c",
   "metadata": {},
   "outputs": [],
   "source": [
    "y_pred_val = clf.predict(X_t_val)\n",
    "\n",
    "f1_score(y_pred=y_pred_val, y_true=y_val)"
   ]
  },
  {
   "cell_type": "code",
   "execution_count": null,
   "id": "254feeaf",
   "metadata": {},
   "outputs": [],
   "source": []
  },
  {
   "cell_type": "code",
   "execution_count": null,
   "id": "b7f56b01",
   "metadata": {},
   "outputs": [],
   "source": [
    "val_dataset = GroupedTimeSeriesDataset(\n",
    "                                   X=X_t_val,\n",
    "                                   y=y_val,  \n",
    "                                   t=X_val['TX_DATETIME'],  \n",
    "                                   col_group=X_val['AccountId'],    \n",
    "                                   dimension=2,                    \n",
    "                                   seq_len=64,\n",
    "                                   overlap=0.2\n",
    "                                  )"
   ]
  },
  {
   "cell_type": "code",
   "execution_count": null,
   "id": "0c6d2967",
   "metadata": {},
   "outputs": [],
   "source": [
    "import torch.nn as nn\n",
    "import torch\n",
    "from unet.unet import UNet1D, UNet\n",
    "import numpy as np\n",
    "from skorch import NeuralNetClassifier, NeuralNet\n",
    "from skorch.callbacks import EpochScoring,EarlyStopping\n",
    "from skorch.helper import predefined_split\n",
    "\n",
    "class UNetFraudClassifier(nn.Module):\n",
    "    def __init__(self, in_channels, out_classes=1,dimensions=2, num_encoding_blocks=3):\n",
    "        super().__init__()\n",
    "        self.unet = UNet(\n",
    "            in_channels=in_channels,\n",
    "            out_classes=out_classes,\n",
    "            dimensions=dimensions,\n",
    "            out_channels_first_layer=2**num_encoding_blocks,\n",
    "            num_encoding_blocks=num_encoding_blocks,\n",
    "            dropout=0.2,\n",
    "            normalization='batch',\n",
    "            pooling_type='max',\n",
    "            upsampling_type='conv',\n",
    "            padding=1,\n",
    "            activation='ReLU'\n",
    "        )\n",
    "        # self.softmax = nn.LogSoftmax(dim=1)\n",
    "\n",
    "    def forward(self, x):\n",
    "        x = self.unet(x)\n",
    "        return x #.squeeze(1) #, self.softmax(x)"
   ]
  },
  {
   "cell_type": "code",
   "execution_count": null,
   "id": "1c46ae0d",
   "metadata": {},
   "outputs": [],
   "source": [
    "unet = UNetFraudClassifier(in_channels=1, out_classes=1,num_encoding_blocks=3)\n",
    "\n",
    "sum(p.numel() for p in unet.parameters() if p.requires_grad)"
   ]
  },
  {
   "cell_type": "code",
   "execution_count": null,
   "id": "e442dab1",
   "metadata": {},
   "outputs": [],
   "source": [
    "unet(torch.rand((1,1,64,64))).shape"
   ]
  },
  {
   "cell_type": "code",
   "execution_count": null,
   "id": "bd04877d",
   "metadata": {},
   "outputs": [],
   "source": [
    "x,y=train_dataset[0]"
   ]
  },
  {
   "cell_type": "code",
   "execution_count": null,
   "id": "2d242141",
   "metadata": {},
   "outputs": [],
   "source": [
    "x.shape, y.shape"
   ]
  },
  {
   "cell_type": "code",
   "execution_count": null,
   "id": "704bc8b6",
   "metadata": {},
   "outputs": [],
   "source": [
    "unet(x.unsqueeze(0)).shape"
   ]
  },
  {
   "cell_type": "code",
   "execution_count": null,
   "id": "cdb054a1",
   "metadata": {},
   "outputs": [],
   "source": [
    "sk_unet = NeuralNet(\n",
    "            UNetFraudClassifier,\n",
    "            module__in_channels=1,\n",
    "            module__out_classes=1,\n",
    "            module__num_encoding_blocks=3,\n",
    "            criterion=nn.BCEWithLogitsLoss(pos_weight=torch.Tensor([50.])),\n",
    "            optimizer=torch.optim.Adam,\n",
    "            optimizer__weight_decay=1e-3,\n",
    "            lr=5e-4,\n",
    "            max_epochs=100,\n",
    "            batch_size=16,\n",
    "            warm_start=True,\n",
    "            train_split=predefined_split(val_dataset),\n",
    "            iterator_train__shuffle=True,\n",
    "            device='cuda' if torch.cuda.is_available() else 'cpu',\n",
    "            # callbacks=[EarlyStopping(monitor='valid_loss',patience=20,lower_is_better=True,load_best=True),\n",
    "                    #    EpochScoring(scoring='f1',lower_is_better=False)\n",
    "                       #]\n",
    "        )\n",
    "\n",
    "sk_unet.fit(train_dataset)"
   ]
  },
  {
   "cell_type": "code",
   "execution_count": null,
   "id": "bd4bf419",
   "metadata": {},
   "outputs": [],
   "source": [
    "sk_unet.predict_proba(val_dataset).shape"
   ]
  },
  {
   "cell_type": "code",
   "execution_count": null,
   "id": "bef0ba45",
   "metadata": {},
   "outputs": [],
   "source": []
  },
  {
   "cell_type": "markdown",
   "id": "171a7ee8",
   "metadata": {},
   "source": [
    "### Dimensionality reduction"
   ]
  },
  {
   "cell_type": "markdown",
   "id": "976147a7",
   "metadata": {},
   "source": [
    "There are interesting methods to try:\n",
    "- AlignedUMAP -> https://umap-learn.readthedocs.io/en/latest/aligned_umap_politics_demo.html\n",
    "- autoencoders (e.g. VAE)\n"
   ]
  },
  {
   "cell_type": "code",
   "execution_count": null,
   "id": "6608fe61",
   "metadata": {},
   "outputs": [],
   "source": [
    "from pyod.models.vae import VAE\n",
    "import umap\n",
    "from fraudetect.dataset import load_data\n",
    "from fraudetect.preprocessing import load_workflow\n",
    "from fraudetect.config import COLUMNS_TO_DROP\n",
    "from sklearn.pipeline import make_pipeline\n",
    "from sklearn.preprocessing import minmax_scale\n",
    "import joblib\n",
    "import numpy as np"
   ]
  },
  {
   "cell_type": "code",
   "execution_count": null,
   "id": "53bcc211",
   "metadata": {},
   "outputs": [],
   "source": [
    "# load data\n",
    "\n",
    "raw_data_train = load_data(\"../data/training.csv\")\n",
    "\n",
    "raw_data_pred = load_data(\"../data/test.csv\")"
   ]
  },
  {
   "cell_type": "code",
   "execution_count": null,
   "id": "a72af226",
   "metadata": {},
   "outputs": [],
   "source": [
    "# preprocessor\n",
    "data_preprocessor = load_workflow(\n",
    "    classifier=None,\n",
    "    cols_to_drop=COLUMNS_TO_DROP,\n",
    "    pca_n_components=80,\n",
    "    detector_list=None,  # model_list,\n",
    "    session_gap_minutes=60 * 3,\n",
    "    uid_cols=[\n",
    "        None,\n",
    "    ],\n",
    "    add_imputer=False,\n",
    "    reorder_by=['TX_DATETIME'],\n",
    "    feature_selector_name='None',  # \"selectkbest\",\n",
    "    top_k_best=50,\n",
    "    windows_size_in_days=[1, 7, 30],\n",
    "    cat_encoding_method='binary',\n",
    "    imputer_n_neighbors=9,\n",
    "    n_clusters=0,\n",
    "    do_pca=False,\n",
    "    verbose=True,\n",
    "    n_jobs=1,\n",
    "    add_fft=False,\n",
    "    add_seasonal_features=False,\n",
    "    use_nystrom=False,\n",
    "    nystroem_components=20,\n",
    "    nystroem_kernel=\"poly\",\n",
    "    use_sincos=False,\n",
    "    use_spline=True,\n",
    "    spline_degree=3,\n",
    "    spline_n_knots=6,\n",
    ")\n",
    "\n",
    "# Data\n",
    "y_train = raw_data_train[\"TX_FRAUD\"]\n",
    "X_train = raw_data_train.drop(columns=['TX_FRAUD'])\n"
   ]
  },
  {
   "cell_type": "code",
   "execution_count": null,
   "id": "f19972b0",
   "metadata": {},
   "outputs": [],
   "source": [
    "y_train"
   ]
  },
  {
   "cell_type": "code",
   "execution_count": null,
   "id": "f227a768",
   "metadata": {},
   "outputs": [],
   "source": [
    "X_train.head()"
   ]
  },
  {
   "cell_type": "code",
   "execution_count": null,
   "id": "e55677f9",
   "metadata": {},
   "outputs": [],
   "source": [
    "data_preprocessor"
   ]
  },
  {
   "cell_type": "code",
   "execution_count": null,
   "id": "305a380c",
   "metadata": {},
   "outputs": [],
   "source": [
    "X_t = data_preprocessor.fit_transform(X=X_train,y=y_train)"
   ]
  },
  {
   "cell_type": "code",
   "execution_count": null,
   "id": "0262b225",
   "metadata": {},
   "outputs": [],
   "source": [
    "from sklearn.base import TransformerMixin, BaseEstimator"
   ]
  },
  {
   "cell_type": "code",
   "execution_count": null,
   "id": "6cbeb575",
   "metadata": {},
   "outputs": [],
   "source": [
    "def get_params(estimator:BaseEstimator|TransformerMixin):\n",
    "    \n",
    "    params = estimator.get_params()\n",
    "\n",
    "    if not all([isinstance(v,BaseEstimator) for v in params.values()]):\n",
    "        return params\n",
    "    \n",
    "    elif not all([isinstance(v,TransformerMixin) for v in params.values()]):\n",
    "        return params\n",
    "\n",
    "    elif 'steps' in params.key():\n",
    "        for v in params['steps']:\n",
    "            if isinstance(v,BaseEstimator) or isinstance(v,TransformerMixin):\n",
    "                return get_params(v)"
   ]
  },
  {
   "cell_type": "code",
   "execution_count": null,
   "id": "d2f2c7a4",
   "metadata": {},
   "outputs": [],
   "source": [
    "data_preprocessor[0].get_params()"
   ]
  },
  {
   "cell_type": "code",
   "execution_count": null,
   "id": "ab948f17",
   "metadata": {},
   "outputs": [],
   "source": [
    "data_preprocessor.get_params()"
   ]
  },
  {
   "cell_type": "code",
   "execution_count": null,
   "id": "2187a100",
   "metadata": {},
   "outputs": [],
   "source": [
    "# non - fraudulent\n",
    "X_normal = X_train.loc[y_train<1.,:].reset_index(drop=True)\n",
    "X_normal.head()"
   ]
  },
  {
   "cell_type": "code",
   "execution_count": null,
   "id": "f207bbe3",
   "metadata": {},
   "outputs": [],
   "source": [
    "y_normal = y_train.loc[y_train<1].reset_index(drop=True)\n",
    "y_normal"
   ]
  },
  {
   "cell_type": "code",
   "execution_count": null,
   "id": "b0794496",
   "metadata": {},
   "outputs": [],
   "source": [
    "X_normal_preprocessed = data_preprocessor.fit_transform(X=X_normal,y=y_normal)\n",
    "\n",
    "\n",
    "X_normal_preprocessed\n"
   ]
  },
  {
   "cell_type": "code",
   "execution_count": null,
   "id": "be1c5a81",
   "metadata": {},
   "outputs": [],
   "source": [
    "X_train_preprocessed = data_preprocessor.transform(X=X_train)\n",
    "X_train_preprocessed"
   ]
  },
  {
   "cell_type": "code",
   "execution_count": null,
   "id": "ec2c9de0",
   "metadata": {},
   "outputs": [],
   "source": [
    "np.isnan(X_normal_preprocessed).sum()"
   ]
  },
  {
   "cell_type": "markdown",
   "id": "9a4aca4f",
   "metadata": {},
   "source": [
    "#### VAE"
   ]
  },
  {
   "cell_type": "code",
   "execution_count": null,
   "id": "b272c440",
   "metadata": {},
   "outputs": [],
   "source": [
    "# VAE model\n",
    "vae_autoencoder = VAE(contamination=1e-3,verbose=2,epoch_num=30,\n",
    "                      batch_norm=True,\n",
    "                      latent_dim=10,\n",
    "                      optimizer_params={'weight_decay': 1e-04},\n",
    "                      output_activation_name='relu',\n",
    "                      random_state=41\n",
    "                      )\n",
    "vae_autoencoder"
   ]
  },
  {
   "cell_type": "code",
   "execution_count": null,
   "id": "418813d7",
   "metadata": {},
   "outputs": [],
   "source": [
    "vae_autoencoder.load('../models/vae_autoencoder.joblib')"
   ]
  },
  {
   "cell_type": "code",
   "execution_count": null,
   "id": "6e684774",
   "metadata": {},
   "outputs": [],
   "source": [
    "# fit and save\n",
    "X_normal_preprocessed_scaled = minmax_scale(X_normal_preprocessed,feature_range=(0,1))\n",
    "\n",
    "vae_autoencoder.fit(X_normal_preprocessed_scaled)"
   ]
  },
  {
   "cell_type": "code",
   "execution_count": null,
   "id": "573a982d",
   "metadata": {},
   "outputs": [],
   "source": [
    "# save\n",
    "vae_autoencoder.save('../models/vae_autoencoder.joblib')"
   ]
  },
  {
   "cell_type": "markdown",
   "id": "f9e47c32",
   "metadata": {},
   "source": [
    "#### UMAP"
   ]
  },
  {
   "cell_type": "code",
   "execution_count": null,
   "id": "bc184e4a",
   "metadata": {},
   "outputs": [],
   "source": [
    "# umap\n",
    "import pandas as pd\n",
    "from umap import AlignedUMAP"
   ]
  },
  {
   "cell_type": "code",
   "execution_count": null,
   "id": "8ccfd7c1",
   "metadata": {},
   "outputs": [],
   "source": [
    "\n",
    "\n",
    "# 1) Suppose you have a DataFrame `df` with:\n",
    "#    - 'AccountId', 'TransactionStartTime' (datetime), plus feature columns\n",
    "feature_cols = ['Amount', 'TimeSinceLastTxn', 'Txn1hCount']  # your engineered features\n",
    "\n",
    "# 2) Create two time slices\n",
    "df['ts'] = pd.to_datetime(df['TransactionStartTime'])\n",
    "slice1 = df[(df.ts >= '2024-01-01') & (df.ts < '2024-04-01')]\n",
    "slice2 = df[(df.ts >= '2024-04-01') & (df.ts < '2024-07-01')]\n",
    "\n",
    "# 3) Extract feature matrices and account labels\n",
    "X1, ids1 = slice1[feature_cols].values, slice1['AccountId'].values\n",
    "X2, ids2 = slice2[feature_cols].values, slice2['AccountId'].values\n",
    "\n",
    "# 4) Build alignment map: list of (index_in_X1, index_in_X2) for shared accounts\n",
    "alignment = []\n",
    "for i, acct in enumerate(ids1):\n",
    "    if acct in ids2:\n",
    "        j = list(ids2).index(acct)\n",
    "        alignment.append((i, j))\n",
    "\n",
    "# 5) Run AlignedUMAP\n",
    "au = AlignedUMAP(\n",
    "    n_neighbors=15,\n",
    "    n_components=2,\n",
    "    alignment_window_size=1\n",
    ")\n",
    "embeddings = au.fit_transform([X1, X2], alignment=alignment)\n",
    "\n",
    "# `embeddings` is a list of two (N1×2) and (N2×2) arrays\n",
    "emb1, emb2 = embeddings\n",
    "\n",
    "# 6) (Optional) merge back for plotting\n",
    "out1 = pd.DataFrame(emb1, columns=['x','y'], index=slice1.index)\n",
    "out2 = pd.DataFrame(emb2, columns=['x','y'], index=slice2.index)\n",
    "viz1 = slice1.join(out1); viz2 = slice2.join(out2)\n"
   ]
  },
  {
   "cell_type": "code",
   "execution_count": null,
   "id": "487186b0",
   "metadata": {},
   "outputs": [],
   "source": []
  },
  {
   "cell_type": "markdown",
   "id": "cf4e5f7f",
   "metadata": {},
   "source": [
    "# Inference"
   ]
  },
  {
   "cell_type": "markdown",
   "id": "960315f5",
   "metadata": {},
   "source": []
  },
  {
   "cell_type": "code",
   "execution_count": null,
   "id": "2c9622fd",
   "metadata": {},
   "outputs": [],
   "source": [
    "import joblib\n",
    "from fraudetect.config import load_args_from_json\n",
    "from fraudetect.dataset import load_data\n",
    "from fraudetect.preprocessing import get_train_val_split\n",
    "from pathlib import Path\n",
    "# from fraudetect.preprocessing import FraudFeatureEngineer, FeatureEncoding\n",
    "# from fraudetect.dataset import MyDatamodule, load_data\n",
    "# from fraudetect.config import Arguments\n",
    "import pandas as pd\n",
    "from datetime import datetime, date\n",
    "from sklearn.model_selection import (TimeSeriesSplit,\n",
    "                                     TunedThresholdClassifierCV)\n",
    "from sklearn.calibration import CalibratedClassifierCV\n",
    "from sklearn.ensemble import (\n",
    "    StackingClassifier,VotingClassifier\n",
    ")\n",
    "from sklearn.frozen import FrozenEstimator\n",
    "import os\n",
    "import json\n",
    "import numpy as np\n",
    "from sklearn.linear_model import LogisticRegression, LogisticRegressionCV\n",
    "from catboost import Pool\n",
    "from sklearn.metrics import f1_score\n"
   ]
  },
  {
   "cell_type": "code",
   "execution_count": 41,
   "id": "513726a2",
   "metadata": {},
   "outputs": [
    {
     "data": {
      "text/html": [
       "<style>#sk-container-id-4 {\n",
       "  /* Definition of color scheme common for light and dark mode */\n",
       "  --sklearn-color-text: #000;\n",
       "  --sklearn-color-text-muted: #666;\n",
       "  --sklearn-color-line: gray;\n",
       "  /* Definition of color scheme for unfitted estimators */\n",
       "  --sklearn-color-unfitted-level-0: #fff5e6;\n",
       "  --sklearn-color-unfitted-level-1: #f6e4d2;\n",
       "  --sklearn-color-unfitted-level-2: #ffe0b3;\n",
       "  --sklearn-color-unfitted-level-3: chocolate;\n",
       "  /* Definition of color scheme for fitted estimators */\n",
       "  --sklearn-color-fitted-level-0: #f0f8ff;\n",
       "  --sklearn-color-fitted-level-1: #d4ebff;\n",
       "  --sklearn-color-fitted-level-2: #b3dbfd;\n",
       "  --sklearn-color-fitted-level-3: cornflowerblue;\n",
       "\n",
       "  /* Specific color for light theme */\n",
       "  --sklearn-color-text-on-default-background: var(--sg-text-color, var(--theme-code-foreground, var(--jp-content-font-color1, black)));\n",
       "  --sklearn-color-background: var(--sg-background-color, var(--theme-background, var(--jp-layout-color0, white)));\n",
       "  --sklearn-color-border-box: var(--sg-text-color, var(--theme-code-foreground, var(--jp-content-font-color1, black)));\n",
       "  --sklearn-color-icon: #696969;\n",
       "\n",
       "  @media (prefers-color-scheme: dark) {\n",
       "    /* Redefinition of color scheme for dark theme */\n",
       "    --sklearn-color-text-on-default-background: var(--sg-text-color, var(--theme-code-foreground, var(--jp-content-font-color1, white)));\n",
       "    --sklearn-color-background: var(--sg-background-color, var(--theme-background, var(--jp-layout-color0, #111)));\n",
       "    --sklearn-color-border-box: var(--sg-text-color, var(--theme-code-foreground, var(--jp-content-font-color1, white)));\n",
       "    --sklearn-color-icon: #878787;\n",
       "  }\n",
       "}\n",
       "\n",
       "#sk-container-id-4 {\n",
       "  color: var(--sklearn-color-text);\n",
       "}\n",
       "\n",
       "#sk-container-id-4 pre {\n",
       "  padding: 0;\n",
       "}\n",
       "\n",
       "#sk-container-id-4 input.sk-hidden--visually {\n",
       "  border: 0;\n",
       "  clip: rect(1px 1px 1px 1px);\n",
       "  clip: rect(1px, 1px, 1px, 1px);\n",
       "  height: 1px;\n",
       "  margin: -1px;\n",
       "  overflow: hidden;\n",
       "  padding: 0;\n",
       "  position: absolute;\n",
       "  width: 1px;\n",
       "}\n",
       "\n",
       "#sk-container-id-4 div.sk-dashed-wrapped {\n",
       "  border: 1px dashed var(--sklearn-color-line);\n",
       "  margin: 0 0.4em 0.5em 0.4em;\n",
       "  box-sizing: border-box;\n",
       "  padding-bottom: 0.4em;\n",
       "  background-color: var(--sklearn-color-background);\n",
       "}\n",
       "\n",
       "#sk-container-id-4 div.sk-container {\n",
       "  /* jupyter's `normalize.less` sets `[hidden] { display: none; }`\n",
       "     but bootstrap.min.css set `[hidden] { display: none !important; }`\n",
       "     so we also need the `!important` here to be able to override the\n",
       "     default hidden behavior on the sphinx rendered scikit-learn.org.\n",
       "     See: https://github.com/scikit-learn/scikit-learn/issues/21755 */\n",
       "  display: inline-block !important;\n",
       "  position: relative;\n",
       "}\n",
       "\n",
       "#sk-container-id-4 div.sk-text-repr-fallback {\n",
       "  display: none;\n",
       "}\n",
       "\n",
       "div.sk-parallel-item,\n",
       "div.sk-serial,\n",
       "div.sk-item {\n",
       "  /* draw centered vertical line to link estimators */\n",
       "  background-image: linear-gradient(var(--sklearn-color-text-on-default-background), var(--sklearn-color-text-on-default-background));\n",
       "  background-size: 2px 100%;\n",
       "  background-repeat: no-repeat;\n",
       "  background-position: center center;\n",
       "}\n",
       "\n",
       "/* Parallel-specific style estimator block */\n",
       "\n",
       "#sk-container-id-4 div.sk-parallel-item::after {\n",
       "  content: \"\";\n",
       "  width: 100%;\n",
       "  border-bottom: 2px solid var(--sklearn-color-text-on-default-background);\n",
       "  flex-grow: 1;\n",
       "}\n",
       "\n",
       "#sk-container-id-4 div.sk-parallel {\n",
       "  display: flex;\n",
       "  align-items: stretch;\n",
       "  justify-content: center;\n",
       "  background-color: var(--sklearn-color-background);\n",
       "  position: relative;\n",
       "}\n",
       "\n",
       "#sk-container-id-4 div.sk-parallel-item {\n",
       "  display: flex;\n",
       "  flex-direction: column;\n",
       "}\n",
       "\n",
       "#sk-container-id-4 div.sk-parallel-item:first-child::after {\n",
       "  align-self: flex-end;\n",
       "  width: 50%;\n",
       "}\n",
       "\n",
       "#sk-container-id-4 div.sk-parallel-item:last-child::after {\n",
       "  align-self: flex-start;\n",
       "  width: 50%;\n",
       "}\n",
       "\n",
       "#sk-container-id-4 div.sk-parallel-item:only-child::after {\n",
       "  width: 0;\n",
       "}\n",
       "\n",
       "/* Serial-specific style estimator block */\n",
       "\n",
       "#sk-container-id-4 div.sk-serial {\n",
       "  display: flex;\n",
       "  flex-direction: column;\n",
       "  align-items: center;\n",
       "  background-color: var(--sklearn-color-background);\n",
       "  padding-right: 1em;\n",
       "  padding-left: 1em;\n",
       "}\n",
       "\n",
       "\n",
       "/* Toggleable style: style used for estimator/Pipeline/ColumnTransformer box that is\n",
       "clickable and can be expanded/collapsed.\n",
       "- Pipeline and ColumnTransformer use this feature and define the default style\n",
       "- Estimators will overwrite some part of the style using the `sk-estimator` class\n",
       "*/\n",
       "\n",
       "/* Pipeline and ColumnTransformer style (default) */\n",
       "\n",
       "#sk-container-id-4 div.sk-toggleable {\n",
       "  /* Default theme specific background. It is overwritten whether we have a\n",
       "  specific estimator or a Pipeline/ColumnTransformer */\n",
       "  background-color: var(--sklearn-color-background);\n",
       "}\n",
       "\n",
       "/* Toggleable label */\n",
       "#sk-container-id-4 label.sk-toggleable__label {\n",
       "  cursor: pointer;\n",
       "  display: flex;\n",
       "  width: 100%;\n",
       "  margin-bottom: 0;\n",
       "  padding: 0.5em;\n",
       "  box-sizing: border-box;\n",
       "  text-align: center;\n",
       "  align-items: start;\n",
       "  justify-content: space-between;\n",
       "  gap: 0.5em;\n",
       "}\n",
       "\n",
       "#sk-container-id-4 label.sk-toggleable__label .caption {\n",
       "  font-size: 0.6rem;\n",
       "  font-weight: lighter;\n",
       "  color: var(--sklearn-color-text-muted);\n",
       "}\n",
       "\n",
       "#sk-container-id-4 label.sk-toggleable__label-arrow:before {\n",
       "  /* Arrow on the left of the label */\n",
       "  content: \"▸\";\n",
       "  float: left;\n",
       "  margin-right: 0.25em;\n",
       "  color: var(--sklearn-color-icon);\n",
       "}\n",
       "\n",
       "#sk-container-id-4 label.sk-toggleable__label-arrow:hover:before {\n",
       "  color: var(--sklearn-color-text);\n",
       "}\n",
       "\n",
       "/* Toggleable content - dropdown */\n",
       "\n",
       "#sk-container-id-4 div.sk-toggleable__content {\n",
       "  max-height: 0;\n",
       "  max-width: 0;\n",
       "  overflow: hidden;\n",
       "  text-align: left;\n",
       "  /* unfitted */\n",
       "  background-color: var(--sklearn-color-unfitted-level-0);\n",
       "}\n",
       "\n",
       "#sk-container-id-4 div.sk-toggleable__content.fitted {\n",
       "  /* fitted */\n",
       "  background-color: var(--sklearn-color-fitted-level-0);\n",
       "}\n",
       "\n",
       "#sk-container-id-4 div.sk-toggleable__content pre {\n",
       "  margin: 0.2em;\n",
       "  border-radius: 0.25em;\n",
       "  color: var(--sklearn-color-text);\n",
       "  /* unfitted */\n",
       "  background-color: var(--sklearn-color-unfitted-level-0);\n",
       "}\n",
       "\n",
       "#sk-container-id-4 div.sk-toggleable__content.fitted pre {\n",
       "  /* unfitted */\n",
       "  background-color: var(--sklearn-color-fitted-level-0);\n",
       "}\n",
       "\n",
       "#sk-container-id-4 input.sk-toggleable__control:checked~div.sk-toggleable__content {\n",
       "  /* Expand drop-down */\n",
       "  max-height: 200px;\n",
       "  max-width: 100%;\n",
       "  overflow: auto;\n",
       "}\n",
       "\n",
       "#sk-container-id-4 input.sk-toggleable__control:checked~label.sk-toggleable__label-arrow:before {\n",
       "  content: \"▾\";\n",
       "}\n",
       "\n",
       "/* Pipeline/ColumnTransformer-specific style */\n",
       "\n",
       "#sk-container-id-4 div.sk-label input.sk-toggleable__control:checked~label.sk-toggleable__label {\n",
       "  color: var(--sklearn-color-text);\n",
       "  background-color: var(--sklearn-color-unfitted-level-2);\n",
       "}\n",
       "\n",
       "#sk-container-id-4 div.sk-label.fitted input.sk-toggleable__control:checked~label.sk-toggleable__label {\n",
       "  background-color: var(--sklearn-color-fitted-level-2);\n",
       "}\n",
       "\n",
       "/* Estimator-specific style */\n",
       "\n",
       "/* Colorize estimator box */\n",
       "#sk-container-id-4 div.sk-estimator input.sk-toggleable__control:checked~label.sk-toggleable__label {\n",
       "  /* unfitted */\n",
       "  background-color: var(--sklearn-color-unfitted-level-2);\n",
       "}\n",
       "\n",
       "#sk-container-id-4 div.sk-estimator.fitted input.sk-toggleable__control:checked~label.sk-toggleable__label {\n",
       "  /* fitted */\n",
       "  background-color: var(--sklearn-color-fitted-level-2);\n",
       "}\n",
       "\n",
       "#sk-container-id-4 div.sk-label label.sk-toggleable__label,\n",
       "#sk-container-id-4 div.sk-label label {\n",
       "  /* The background is the default theme color */\n",
       "  color: var(--sklearn-color-text-on-default-background);\n",
       "}\n",
       "\n",
       "/* On hover, darken the color of the background */\n",
       "#sk-container-id-4 div.sk-label:hover label.sk-toggleable__label {\n",
       "  color: var(--sklearn-color-text);\n",
       "  background-color: var(--sklearn-color-unfitted-level-2);\n",
       "}\n",
       "\n",
       "/* Label box, darken color on hover, fitted */\n",
       "#sk-container-id-4 div.sk-label.fitted:hover label.sk-toggleable__label.fitted {\n",
       "  color: var(--sklearn-color-text);\n",
       "  background-color: var(--sklearn-color-fitted-level-2);\n",
       "}\n",
       "\n",
       "/* Estimator label */\n",
       "\n",
       "#sk-container-id-4 div.sk-label label {\n",
       "  font-family: monospace;\n",
       "  font-weight: bold;\n",
       "  display: inline-block;\n",
       "  line-height: 1.2em;\n",
       "}\n",
       "\n",
       "#sk-container-id-4 div.sk-label-container {\n",
       "  text-align: center;\n",
       "}\n",
       "\n",
       "/* Estimator-specific */\n",
       "#sk-container-id-4 div.sk-estimator {\n",
       "  font-family: monospace;\n",
       "  border: 1px dotted var(--sklearn-color-border-box);\n",
       "  border-radius: 0.25em;\n",
       "  box-sizing: border-box;\n",
       "  margin-bottom: 0.5em;\n",
       "  /* unfitted */\n",
       "  background-color: var(--sklearn-color-unfitted-level-0);\n",
       "}\n",
       "\n",
       "#sk-container-id-4 div.sk-estimator.fitted {\n",
       "  /* fitted */\n",
       "  background-color: var(--sklearn-color-fitted-level-0);\n",
       "}\n",
       "\n",
       "/* on hover */\n",
       "#sk-container-id-4 div.sk-estimator:hover {\n",
       "  /* unfitted */\n",
       "  background-color: var(--sklearn-color-unfitted-level-2);\n",
       "}\n",
       "\n",
       "#sk-container-id-4 div.sk-estimator.fitted:hover {\n",
       "  /* fitted */\n",
       "  background-color: var(--sklearn-color-fitted-level-2);\n",
       "}\n",
       "\n",
       "/* Specification for estimator info (e.g. \"i\" and \"?\") */\n",
       "\n",
       "/* Common style for \"i\" and \"?\" */\n",
       "\n",
       ".sk-estimator-doc-link,\n",
       "a:link.sk-estimator-doc-link,\n",
       "a:visited.sk-estimator-doc-link {\n",
       "  float: right;\n",
       "  font-size: smaller;\n",
       "  line-height: 1em;\n",
       "  font-family: monospace;\n",
       "  background-color: var(--sklearn-color-background);\n",
       "  border-radius: 1em;\n",
       "  height: 1em;\n",
       "  width: 1em;\n",
       "  text-decoration: none !important;\n",
       "  margin-left: 0.5em;\n",
       "  text-align: center;\n",
       "  /* unfitted */\n",
       "  border: var(--sklearn-color-unfitted-level-1) 1pt solid;\n",
       "  color: var(--sklearn-color-unfitted-level-1);\n",
       "}\n",
       "\n",
       ".sk-estimator-doc-link.fitted,\n",
       "a:link.sk-estimator-doc-link.fitted,\n",
       "a:visited.sk-estimator-doc-link.fitted {\n",
       "  /* fitted */\n",
       "  border: var(--sklearn-color-fitted-level-1) 1pt solid;\n",
       "  color: var(--sklearn-color-fitted-level-1);\n",
       "}\n",
       "\n",
       "/* On hover */\n",
       "div.sk-estimator:hover .sk-estimator-doc-link:hover,\n",
       ".sk-estimator-doc-link:hover,\n",
       "div.sk-label-container:hover .sk-estimator-doc-link:hover,\n",
       ".sk-estimator-doc-link:hover {\n",
       "  /* unfitted */\n",
       "  background-color: var(--sklearn-color-unfitted-level-3);\n",
       "  color: var(--sklearn-color-background);\n",
       "  text-decoration: none;\n",
       "}\n",
       "\n",
       "div.sk-estimator.fitted:hover .sk-estimator-doc-link.fitted:hover,\n",
       ".sk-estimator-doc-link.fitted:hover,\n",
       "div.sk-label-container:hover .sk-estimator-doc-link.fitted:hover,\n",
       ".sk-estimator-doc-link.fitted:hover {\n",
       "  /* fitted */\n",
       "  background-color: var(--sklearn-color-fitted-level-3);\n",
       "  color: var(--sklearn-color-background);\n",
       "  text-decoration: none;\n",
       "}\n",
       "\n",
       "/* Span, style for the box shown on hovering the info icon */\n",
       ".sk-estimator-doc-link span {\n",
       "  display: none;\n",
       "  z-index: 9999;\n",
       "  position: relative;\n",
       "  font-weight: normal;\n",
       "  right: .2ex;\n",
       "  padding: .5ex;\n",
       "  margin: .5ex;\n",
       "  width: min-content;\n",
       "  min-width: 20ex;\n",
       "  max-width: 50ex;\n",
       "  color: var(--sklearn-color-text);\n",
       "  box-shadow: 2pt 2pt 4pt #999;\n",
       "  /* unfitted */\n",
       "  background: var(--sklearn-color-unfitted-level-0);\n",
       "  border: .5pt solid var(--sklearn-color-unfitted-level-3);\n",
       "}\n",
       "\n",
       ".sk-estimator-doc-link.fitted span {\n",
       "  /* fitted */\n",
       "  background: var(--sklearn-color-fitted-level-0);\n",
       "  border: var(--sklearn-color-fitted-level-3);\n",
       "}\n",
       "\n",
       ".sk-estimator-doc-link:hover span {\n",
       "  display: block;\n",
       "}\n",
       "\n",
       "/* \"?\"-specific style due to the `<a>` HTML tag */\n",
       "\n",
       "#sk-container-id-4 a.estimator_doc_link {\n",
       "  float: right;\n",
       "  font-size: 1rem;\n",
       "  line-height: 1em;\n",
       "  font-family: monospace;\n",
       "  background-color: var(--sklearn-color-background);\n",
       "  border-radius: 1rem;\n",
       "  height: 1rem;\n",
       "  width: 1rem;\n",
       "  text-decoration: none;\n",
       "  /* unfitted */\n",
       "  color: var(--sklearn-color-unfitted-level-1);\n",
       "  border: var(--sklearn-color-unfitted-level-1) 1pt solid;\n",
       "}\n",
       "\n",
       "#sk-container-id-4 a.estimator_doc_link.fitted {\n",
       "  /* fitted */\n",
       "  border: var(--sklearn-color-fitted-level-1) 1pt solid;\n",
       "  color: var(--sklearn-color-fitted-level-1);\n",
       "}\n",
       "\n",
       "/* On hover */\n",
       "#sk-container-id-4 a.estimator_doc_link:hover {\n",
       "  /* unfitted */\n",
       "  background-color: var(--sklearn-color-unfitted-level-3);\n",
       "  color: var(--sklearn-color-background);\n",
       "  text-decoration: none;\n",
       "}\n",
       "\n",
       "#sk-container-id-4 a.estimator_doc_link.fitted:hover {\n",
       "  /* fitted */\n",
       "  background-color: var(--sklearn-color-fitted-level-3);\n",
       "}\n",
       "</style><div id=\"sk-container-id-4\" class=\"sk-top-container\"><div class=\"sk-text-repr-fallback\"><pre>Pipeline(steps=[(&#x27;feature_engineer&#x27;,\n",
       "                 FraudFeatureEngineer(behavioral_drift_cols=[&#x27;CustomerUID&#x27;],\n",
       "                                      reorder_by=[&#x27;TX_DATETIME&#x27;, &#x27;AccountId&#x27;],\n",
       "                                      session_gap_minutes=2448, use_sincos=True,\n",
       "                                      windows_size_in_days=(1, 3, 7, 30))),\n",
       "                (&#x27;feature_engineer_2&#x27;,\n",
       "                 AdvancedFeatureEngineer(cat_encoding_kwargs={&#x27;base&#x27;: 4,\n",
       "                                                              &#x27;drop_invariant&#x27;: False,\n",
       "                                                              &#x27;handle_missing&#x27;: &#x27;value&#x27;,\n",
       "                                                              &#x27;handle_unknown&#x27;:...\n",
       "                                 cat_encoding_method=&#x27;woe&#x27;,\n",
       "                                 imputer_n_neighbors=9, onehot_threshold=6)),\n",
       "                (&#x27;to_df_0&#x27;, ToDataframe()),\n",
       "                (&#x27;feature_selector&#x27;,\n",
       "                 SelectKBest(score_func=&lt;function mutual_info_classif at 0x000001D369F32980&gt;)),\n",
       "                (&#x27;to_df_2&#x27;, ToDataframe()),\n",
       "                (&#x27;model&#x27;,\n",
       "                 GradientBoostingClassifier(criterion=&#x27;squared_error&#x27;,\n",
       "                                            learning_rate=0.023,\n",
       "                                            max_features=&#x27;sqrt&#x27;,\n",
       "                                            min_samples_leaf=3,\n",
       "                                            n_estimators=165,\n",
       "                                            subsample=0.95))])</pre><b>In a Jupyter environment, please rerun this cell to show the HTML representation or trust the notebook. <br />On GitHub, the HTML representation is unable to render, please try loading this page with nbviewer.org.</b></div><div class=\"sk-container\" hidden><div class=\"sk-item sk-dashed-wrapped\"><div class=\"sk-label-container\"><div class=\"sk-label fitted sk-toggleable\"><input class=\"sk-toggleable__control sk-hidden--visually\" id=\"sk-estimator-id-35\" type=\"checkbox\" ><label for=\"sk-estimator-id-35\" class=\"sk-toggleable__label fitted sk-toggleable__label-arrow\"><div><div>Pipeline</div></div><div><a class=\"sk-estimator-doc-link fitted\" rel=\"noreferrer\" target=\"_blank\" href=\"https://scikit-learn.org/1.6/modules/generated/sklearn.pipeline.Pipeline.html\">?<span>Documentation for Pipeline</span></a><span class=\"sk-estimator-doc-link fitted\">i<span>Fitted</span></span></div></label><div class=\"sk-toggleable__content fitted\"><pre>Pipeline(steps=[(&#x27;feature_engineer&#x27;,\n",
       "                 FraudFeatureEngineer(behavioral_drift_cols=[&#x27;CustomerUID&#x27;],\n",
       "                                      reorder_by=[&#x27;TX_DATETIME&#x27;, &#x27;AccountId&#x27;],\n",
       "                                      session_gap_minutes=2448, use_sincos=True,\n",
       "                                      windows_size_in_days=(1, 3, 7, 30))),\n",
       "                (&#x27;feature_engineer_2&#x27;,\n",
       "                 AdvancedFeatureEngineer(cat_encoding_kwargs={&#x27;base&#x27;: 4,\n",
       "                                                              &#x27;drop_invariant&#x27;: False,\n",
       "                                                              &#x27;handle_missing&#x27;: &#x27;value&#x27;,\n",
       "                                                              &#x27;handle_unknown&#x27;:...\n",
       "                                 cat_encoding_method=&#x27;woe&#x27;,\n",
       "                                 imputer_n_neighbors=9, onehot_threshold=6)),\n",
       "                (&#x27;to_df_0&#x27;, ToDataframe()),\n",
       "                (&#x27;feature_selector&#x27;,\n",
       "                 SelectKBest(score_func=&lt;function mutual_info_classif at 0x000001D369F32980&gt;)),\n",
       "                (&#x27;to_df_2&#x27;, ToDataframe()),\n",
       "                (&#x27;model&#x27;,\n",
       "                 GradientBoostingClassifier(criterion=&#x27;squared_error&#x27;,\n",
       "                                            learning_rate=0.023,\n",
       "                                            max_features=&#x27;sqrt&#x27;,\n",
       "                                            min_samples_leaf=3,\n",
       "                                            n_estimators=165,\n",
       "                                            subsample=0.95))])</pre></div> </div></div><div class=\"sk-serial\"><div class=\"sk-item\"><div class=\"sk-estimator fitted sk-toggleable\"><input class=\"sk-toggleable__control sk-hidden--visually\" id=\"sk-estimator-id-36\" type=\"checkbox\" ><label for=\"sk-estimator-id-36\" class=\"sk-toggleable__label fitted sk-toggleable__label-arrow\"><div><div>FraudFeatureEngineer</div></div></label><div class=\"sk-toggleable__content fitted\"><pre>FraudFeatureEngineer(behavioral_drift_cols=[&#x27;CustomerUID&#x27;],\n",
       "                     reorder_by=[&#x27;TX_DATETIME&#x27;, &#x27;AccountId&#x27;],\n",
       "                     session_gap_minutes=2448, use_sincos=True,\n",
       "                     windows_size_in_days=(1, 3, 7, 30))</pre></div> </div></div><div class=\"sk-item\"><div class=\"sk-estimator fitted sk-toggleable\"><input class=\"sk-toggleable__control sk-hidden--visually\" id=\"sk-estimator-id-37\" type=\"checkbox\" ><label for=\"sk-estimator-id-37\" class=\"sk-toggleable__label fitted sk-toggleable__label-arrow\"><div><div>AdvancedFeatureEngineer</div></div></label><div class=\"sk-toggleable__content fitted\"><pre>AdvancedFeatureEngineer(cat_encoding_kwargs={&#x27;base&#x27;: 4, &#x27;drop_invariant&#x27;: False,\n",
       "                                             &#x27;handle_missing&#x27;: &#x27;value&#x27;,\n",
       "                                             &#x27;handle_unknown&#x27;: &#x27;value&#x27;,\n",
       "                                             &#x27;hash_method&#x27;: &#x27;md5&#x27;,\n",
       "                                             &#x27;hash_n_components&#x27;: 6,\n",
       "                                             &#x27;return_df&#x27;: True,\n",
       "                                             &#x27;woe_randomized&#x27;: True,\n",
       "                                             &#x27;woe_regularization&#x27;: 1.0,\n",
       "                                             &#x27;woe_sigma&#x27;: 0.05},\n",
       "                        max_period=72, min_period=6, n_freqs=5,\n",
       "                        reorder_by=[&#x27;TX_DATETIME&#x27;, &#x27;AccountId&#x27;])</pre></div> </div></div><div class=\"sk-item\"><div class=\"sk-estimator fitted sk-toggleable\"><input class=\"sk-toggleable__control sk-hidden--visually\" id=\"sk-estimator-id-38\" type=\"checkbox\" ><label for=\"sk-estimator-id-38\" class=\"sk-toggleable__label fitted sk-toggleable__label-arrow\"><div><div>DropFeatures</div></div></label><div class=\"sk-toggleable__content fitted\"><pre>DropFeatures(features_to_drop=[&#x27;CurrencyCode&#x27;, &#x27;CountryCode&#x27;, &#x27;SubscriptionId&#x27;,\n",
       "                               &#x27;BatchId&#x27;, &#x27;TRANSACTION_ID&#x27;, &#x27;TX_DATETIME&#x27;,\n",
       "                               &#x27;TX_TIME_DAYS&#x27;])</pre></div> </div></div><div class=\"sk-item\"><div class=\"sk-estimator fitted sk-toggleable\"><input class=\"sk-toggleable__control sk-hidden--visually\" id=\"sk-estimator-id-39\" type=\"checkbox\" ><label for=\"sk-estimator-id-39\" class=\"sk-toggleable__label fitted sk-toggleable__label-arrow\"><div><div>DropConstantFeatures</div></div></label><div class=\"sk-toggleable__content fitted\"><pre>DropConstantFeatures(missing_values=&#x27;ignore&#x27;, tol=1.0)</pre></div> </div></div><div class=\"sk-item\"><div class=\"sk-estimator fitted sk-toggleable\"><input class=\"sk-toggleable__control sk-hidden--visually\" id=\"sk-estimator-id-40\" type=\"checkbox\" ><label for=\"sk-estimator-id-40\" class=\"sk-toggleable__label fitted sk-toggleable__label-arrow\"><div><div>DropDuplicateFeatures</div></div></label><div class=\"sk-toggleable__content fitted\"><pre>DropDuplicateFeatures()</pre></div> </div></div><div class=\"sk-item\"><div class=\"sk-estimator fitted sk-toggleable\"><input class=\"sk-toggleable__control sk-hidden--visually\" id=\"sk-estimator-id-41\" type=\"checkbox\" ><label for=\"sk-estimator-id-41\" class=\"sk-toggleable__label fitted sk-toggleable__label-arrow\"><div><div>FeatureEncoding</div></div></label><div class=\"sk-toggleable__content fitted\"><pre>FeatureEncoding(cat_encoding_kwargs={&#x27;base&#x27;: 4, &#x27;drop_invariant&#x27;: False,\n",
       "                                     &#x27;handle_missing&#x27;: &#x27;value&#x27;,\n",
       "                                     &#x27;handle_unknown&#x27;: &#x27;value&#x27;,\n",
       "                                     &#x27;hash_method&#x27;: &#x27;md5&#x27;,\n",
       "                                     &#x27;hash_n_components&#x27;: 6, &#x27;return_df&#x27;: True,\n",
       "                                     &#x27;woe_randomized&#x27;: True,\n",
       "                                     &#x27;woe_regularization&#x27;: 1.0,\n",
       "                                     &#x27;woe_sigma&#x27;: 0.05},\n",
       "                cat_encoding_method=&#x27;woe&#x27;, imputer_n_neighbors=9,\n",
       "                onehot_threshold=6)</pre></div> </div></div><div class=\"sk-item\"><div class=\"sk-estimator fitted sk-toggleable\"><input class=\"sk-toggleable__control sk-hidden--visually\" id=\"sk-estimator-id-42\" type=\"checkbox\" ><label for=\"sk-estimator-id-42\" class=\"sk-toggleable__label fitted sk-toggleable__label-arrow\"><div><div>ToDataframe</div></div></label><div class=\"sk-toggleable__content fitted\"><pre>ToDataframe()</pre></div> </div></div><div class=\"sk-item\"><div class=\"sk-estimator fitted sk-toggleable\"><input class=\"sk-toggleable__control sk-hidden--visually\" id=\"sk-estimator-id-43\" type=\"checkbox\" ><label for=\"sk-estimator-id-43\" class=\"sk-toggleable__label fitted sk-toggleable__label-arrow\"><div><div>SelectKBest</div></div><div><a class=\"sk-estimator-doc-link fitted\" rel=\"noreferrer\" target=\"_blank\" href=\"https://scikit-learn.org/1.6/modules/generated/sklearn.feature_selection.SelectKBest.html\">?<span>Documentation for SelectKBest</span></a></div></label><div class=\"sk-toggleable__content fitted\"><pre>SelectKBest(score_func=&lt;function mutual_info_classif at 0x000001D369F32980&gt;)</pre></div> </div></div><div class=\"sk-item\"><div class=\"sk-estimator fitted sk-toggleable\"><input class=\"sk-toggleable__control sk-hidden--visually\" id=\"sk-estimator-id-44\" type=\"checkbox\" ><label for=\"sk-estimator-id-44\" class=\"sk-toggleable__label fitted sk-toggleable__label-arrow\"><div><div>ToDataframe</div></div></label><div class=\"sk-toggleable__content fitted\"><pre>ToDataframe()</pre></div> </div></div><div class=\"sk-item\"><div class=\"sk-estimator fitted sk-toggleable\"><input class=\"sk-toggleable__control sk-hidden--visually\" id=\"sk-estimator-id-45\" type=\"checkbox\" ><label for=\"sk-estimator-id-45\" class=\"sk-toggleable__label fitted sk-toggleable__label-arrow\"><div><div>GradientBoostingClassifier</div></div><div><a class=\"sk-estimator-doc-link fitted\" rel=\"noreferrer\" target=\"_blank\" href=\"https://scikit-learn.org/1.6/modules/generated/sklearn.ensemble.GradientBoostingClassifier.html\">?<span>Documentation for GradientBoostingClassifier</span></a></div></label><div class=\"sk-toggleable__content fitted\"><pre>GradientBoostingClassifier(criterion=&#x27;squared_error&#x27;, learning_rate=0.023,\n",
       "                           max_features=&#x27;sqrt&#x27;, min_samples_leaf=3,\n",
       "                           n_estimators=165, subsample=0.95)</pre></div> </div></div></div></div></div></div>"
      ],
      "text/plain": [
       "Pipeline(steps=[('feature_engineer',\n",
       "                 FraudFeatureEngineer(behavioral_drift_cols=['CustomerUID'],\n",
       "                                      reorder_by=['TX_DATETIME', 'AccountId'],\n",
       "                                      session_gap_minutes=2448, use_sincos=True,\n",
       "                                      windows_size_in_days=(1, 3, 7, 30))),\n",
       "                ('feature_engineer_2',\n",
       "                 AdvancedFeatureEngineer(cat_encoding_kwargs={'base': 4,\n",
       "                                                              'drop_invariant': False,\n",
       "                                                              'handle_missing': 'value',\n",
       "                                                              'handle_unknown':...\n",
       "                                 cat_encoding_method='woe',\n",
       "                                 imputer_n_neighbors=9, onehot_threshold=6)),\n",
       "                ('to_df_0', ToDataframe()),\n",
       "                ('feature_selector',\n",
       "                 SelectKBest(score_func=<function mutual_info_classif at 0x000001D369F32980>)),\n",
       "                ('to_df_2', ToDataframe()),\n",
       "                ('model',\n",
       "                 GradientBoostingClassifier(criterion='squared_error',\n",
       "                                            learning_rate=0.023,\n",
       "                                            max_features='sqrt',\n",
       "                                            min_samples_leaf=3,\n",
       "                                            n_estimators=165,\n",
       "                                            subsample=0.95))])"
      ]
     },
     "execution_count": 41,
     "metadata": {},
     "output_type": "execute_result"
    }
   ],
   "source": [
    "\n",
    "clf_path = r\"D:\\fraud-detection-galsen\\runs-optuna\\ensemble-trees-3_2025-04-27_22-14_best-run.joblib\"\n",
    "    \n",
    "clf = joblib.load(clf_path)\n",
    "\n",
    "clf # 5 models for each cross-val split"
   ]
  },
  {
   "cell_type": "code",
   "execution_count": null,
   "id": "7970081f",
   "metadata": {},
   "outputs": [],
   "source": [
    "# joblib.load(r\"D:\\fraud-detection-galsen\\runs-optuna\\decisionTree_2025-04-20_03-41.joblib\")"
   ]
  },
  {
   "cell_type": "code",
   "execution_count": null,
   "id": "e21c86ec",
   "metadata": {},
   "outputs": [],
   "source": [
    "# args, cfg = load_args_from_json(\n",
    "#     r\"D:\\fraud-detection-galsen\\runs-optuna\\ensemble-trees-1_2025-04-21_20-00.json\"\n",
    "# )"
   ]
  },
  {
   "cell_type": "code",
   "execution_count": null,
   "id": "d7de2f0c",
   "metadata": {},
   "outputs": [],
   "source": [
    "# clf = run[0][0]\n",
    "# clf"
   ]
  },
  {
   "cell_type": "code",
   "execution_count": null,
   "id": "10e2d255",
   "metadata": {},
   "outputs": [],
   "source": [
    "# args.__dict__"
   ]
  },
  {
   "cell_type": "code",
   "execution_count": 42,
   "id": "927bef60",
   "metadata": {},
   "outputs": [],
   "source": [
    "raw_data_train = load_data(\"../data/training.csv\")\n",
    "\n",
    "raw_data_pred = load_data(\"../data/test.csv\")"
   ]
  },
  {
   "cell_type": "code",
   "execution_count": 43,
   "id": "dd328fa7",
   "metadata": {},
   "outputs": [
    {
     "data": {
      "text/plain": [
       "Index(['TRANSACTION_ID', 'BatchId', 'AccountId', 'SubscriptionId',\n",
       "       'CUSTOMER_ID', 'CurrencyCode', 'CountryCode', 'ProviderId', 'ProductId',\n",
       "       'ProductCategory', 'ChannelId', 'TX_AMOUNT', 'Value', 'TX_DATETIME',\n",
       "       'PricingStrategy', 'TX_FRAUD', 'TX_TIME_DAYS'],\n",
       "      dtype='object')"
      ]
     },
     "execution_count": 43,
     "metadata": {},
     "output_type": "execute_result"
    }
   ],
   "source": [
    "raw_data_train.columns"
   ]
  },
  {
   "cell_type": "code",
   "execution_count": null,
   "id": "d09aaed2",
   "metadata": {},
   "outputs": [],
   "source": [
    "raw_data_pred.shape"
   ]
  },
  {
   "cell_type": "code",
   "execution_count": 44,
   "id": "8be90e0a",
   "metadata": {},
   "outputs": [
    {
     "name": "stdout",
     "output_type": "stream",
     "text": [
      "Number of common AccountId between train&val:  (7,)\n"
     ]
    }
   ],
   "source": [
    "X_train, y_train, X_val, y_val = get_train_val_split(train_data=raw_data_train,\n",
    "                                                            val_window_days=30,\n",
    "                                                            id_column='AccountId'\n",
    "                                                        )"
   ]
  },
  {
   "cell_type": "code",
   "execution_count": null,
   "id": "ce52b245",
   "metadata": {},
   "outputs": [],
   "source": [
    "preprocessor = clf[:-1]\n",
    "\n",
    "val_pool = Pool(preprocessor.transform(X_val),\n",
    "                y_val,\n",
    "                timestamp=X_val['TX_DATETIME'].diff().dt.total_seconds().fillna(0).astype(float)/60\n",
    "            )"
   ]
  },
  {
   "cell_type": "code",
   "execution_count": null,
   "id": "0cf3e6dc",
   "metadata": {},
   "outputs": [],
   "source": [
    "model = clf[-1]\n",
    "\n",
    "scores = list()\n",
    "for i in range(model.tree_count_-1):\n",
    "    y_pred_val = model.predict( val_pool,\n",
    "                                prediction_type='Class',\n",
    "                                ntree_start=i,\n",
    "                                ntree_end=model.get_best_iteration()\n",
    "                            )\n",
    "    score = f1_score(y_true=y_val,\n",
    "                y_pred=y_pred_val\n",
    "                )\n",
    "    scores.append(score)\n",
    "\n",
    "fitness = scores[np.argmax(scores)] \n",
    "\n",
    "fitness, np.argmax(scores), model.get_best_iteration()"
   ]
  },
  {
   "cell_type": "code",
   "execution_count": 45,
   "id": "9f4ebc92",
   "metadata": {},
   "outputs": [
    {
     "data": {
      "text/plain": [
       "array([0., 0., 0., ..., 0., 0., 0.], shape=(45019,))"
      ]
     },
     "execution_count": 45,
     "metadata": {},
     "output_type": "execute_result"
    }
   ],
   "source": [
    "y_pred_origin = clf.predict(raw_data_pred,\n",
    "                            # prediction_type='Class',\n",
    "                            # ntree_start=np.argmax(scores),\n",
    "                            # ntree_end=model.get_best_iteration()\n",
    "                            )\n",
    "y_pred_origin"
   ]
  },
  {
   "cell_type": "code",
   "execution_count": 50,
   "id": "cee6fb6c",
   "metadata": {},
   "outputs": [
    {
     "data": {
      "text/plain": [
       "np.float64(61.0)"
      ]
     },
     "execution_count": 50,
     "metadata": {},
     "output_type": "execute_result"
    }
   ],
   "source": [
    "# y_pred_origin = clf.predict(raw_data_pred)\n",
    "\n",
    "y_pred_origin.sum()"
   ]
  },
  {
   "cell_type": "code",
   "execution_count": 47,
   "id": "7aa12b76",
   "metadata": {},
   "outputs": [
    {
     "data": {
      "text/plain": [
       "((27842, 16), (8065, 16))"
      ]
     },
     "execution_count": 47,
     "metadata": {},
     "output_type": "execute_result"
    }
   ],
   "source": [
    "X_train.shape,X_val.shape"
   ]
  },
  {
   "cell_type": "code",
   "execution_count": null,
   "id": "5af41c57",
   "metadata": {},
   "outputs": [],
   "source": [
    "# cv=TimeSeriesSplit(n_splits=3,gap=10000)\n",
    "\n",
    "# # Stacking\n",
    "# final_estimator=LogisticRegressionCV(Cs=np.logspace(1,4,5),cv=cv,\n",
    "#                                         scoring='average_precision',\n",
    "#                                         solver='liblinear',\n",
    "#                                         )\n",
    "# clf_stacking =  StackingClassifier([(str(i),pipe) for i,pipe in enumerate(run)],\n",
    "#                                     final_estimator=final_estimator,\n",
    "#                                         n_jobs=5,\n",
    "#                                         cv='prefit')\n",
    "\n",
    "# clf_stacking.fit(X=X,y=y)\n",
    "# y_pred_stacked = clf_stacking.predict(raw_data_pred)"
   ]
  },
  {
   "cell_type": "code",
   "execution_count": null,
   "id": "058bbc58",
   "metadata": {},
   "outputs": [],
   "source": [
    "# clf_voting =  VotingClassifier([(str(i),FrozenEstimator(pipe)) for i,pipe in enumerate(run)],\n",
    "#                                voting='soft',\n",
    "#                                 n_jobs=5,)\n",
    "\n",
    "# clf_voting"
   ]
  },
  {
   "cell_type": "code",
   "execution_count": null,
   "id": "c74c1943",
   "metadata": {},
   "outputs": [],
   "source": [
    "# clf_voting.fit(X=X,y=y)"
   ]
  },
  {
   "cell_type": "code",
   "execution_count": null,
   "id": "1ded8241",
   "metadata": {},
   "outputs": [],
   "source": [
    "# y_pred_voting = clf_voting.predict_proba(raw_data_pred)"
   ]
  },
  {
   "cell_type": "code",
   "execution_count": null,
   "id": "a363385b",
   "metadata": {},
   "outputs": [],
   "source": [
    "# y_pred_voting #= y_pred_voting.argmax(axis=1)\n",
    "# y_pred_voting.sum(), y_pred_voting.sum()/y_pred_voting.shape[0]"
   ]
  },
  {
   "cell_type": "code",
   "execution_count": null,
   "id": "d94ae1ce",
   "metadata": {},
   "outputs": [],
   "source": [
    "# y_pred_stacked.sum(), y_pred_stacked.sum()/y_pred_stacked.shape[0]"
   ]
  },
  {
   "cell_type": "code",
   "execution_count": null,
   "id": "28e3f39e",
   "metadata": {},
   "outputs": [],
   "source": [
    "# calibrated model\n",
    "# clf_calibrated = CalibratedClassifierCV(FrozenEstimator(clf),\n",
    "#                                  method='sigmoid',\n",
    "#                                  n_jobs=2,\n",
    "#                                  ensemble=True,\n",
    "#                                  cv=TimeSeriesSplit(n_splits=3),\n",
    "#                               )\n",
    "\n",
    "# clf_calibrated.fit(X_val,y_val)\n",
    "# y_pred_calibrated = clf_calibrated.predict(raw_data_pred)\n",
    "# y_pred_calibrated.sum()"
   ]
  },
  {
   "cell_type": "code",
   "execution_count": 48,
   "id": "5a8d8a11",
   "metadata": {},
   "outputs": [
    {
     "data": {
      "text/plain": [
       "np.float64(59.0)"
      ]
     },
     "execution_count": 48,
     "metadata": {},
     "output_type": "execute_result"
    }
   ],
   "source": [
    "# tuning threshold\n",
    "cfl_tuned = TunedThresholdClassifierCV(estimator=clf,\n",
    "                                       scoring='f1',\n",
    "                                       cv='prefit',\n",
    "                                       refit=False\n",
    "                                       )\n",
    "cfl_tuned.fit(X_val,y_val)\n",
    "y_pred_tuned = cfl_tuned.predict(raw_data_pred)\n",
    "y_pred_tuned.sum()"
   ]
  },
  {
   "cell_type": "code",
   "execution_count": 49,
   "id": "ee15e48a",
   "metadata": {},
   "outputs": [
    {
     "data": {
      "text/plain": [
       "np.float64(-2.0)"
      ]
     },
     "execution_count": 49,
     "metadata": {},
     "output_type": "execute_result"
    }
   ],
   "source": [
    "(y_pred_tuned - y_pred_origin).sum()"
   ]
  },
  {
   "cell_type": "code",
   "execution_count": 51,
   "id": "efc5e39c",
   "metadata": {},
   "outputs": [
    {
     "data": {
      "text/html": [
       "<div>\n",
       "<style scoped>\n",
       "    .dataframe tbody tr th:only-of-type {\n",
       "        vertical-align: middle;\n",
       "    }\n",
       "\n",
       "    .dataframe tbody tr th {\n",
       "        vertical-align: top;\n",
       "    }\n",
       "\n",
       "    .dataframe thead th {\n",
       "        text-align: right;\n",
       "    }\n",
       "</style>\n",
       "<table border=\"1\" class=\"dataframe\">\n",
       "  <thead>\n",
       "    <tr style=\"text-align: right;\">\n",
       "      <th></th>\n",
       "      <th>TransactionId</th>\n",
       "      <th>BatchId</th>\n",
       "      <th>AccountId</th>\n",
       "      <th>SubscriptionId</th>\n",
       "      <th>CustomerId</th>\n",
       "      <th>CurrencyCode</th>\n",
       "      <th>CountryCode</th>\n",
       "      <th>ProviderId</th>\n",
       "      <th>ProductId</th>\n",
       "      <th>ProductCategory</th>\n",
       "      <th>ChannelId</th>\n",
       "      <th>Amount</th>\n",
       "      <th>Value</th>\n",
       "      <th>TransactionStartTime</th>\n",
       "      <th>PricingStrategy</th>\n",
       "    </tr>\n",
       "  </thead>\n",
       "  <tbody>\n",
       "    <tr>\n",
       "      <th>0</th>\n",
       "      <td>TransactionId_50600</td>\n",
       "      <td>BatchId_35028</td>\n",
       "      <td>AccountId_2441</td>\n",
       "      <td>SubscriptionId_4426</td>\n",
       "      <td>CustomerId_2857</td>\n",
       "      <td>UGX</td>\n",
       "      <td>256</td>\n",
       "      <td>ProviderId_5</td>\n",
       "      <td>ProductId_3</td>\n",
       "      <td>airtime</td>\n",
       "      <td>ChannelId_3</td>\n",
       "      <td>1000.0</td>\n",
       "      <td>1000</td>\n",
       "      <td>2019-02-13T10:01:40Z</td>\n",
       "      <td>4</td>\n",
       "    </tr>\n",
       "    <tr>\n",
       "      <th>1</th>\n",
       "      <td>TransactionId_95109</td>\n",
       "      <td>BatchId_45139</td>\n",
       "      <td>AccountId_3439</td>\n",
       "      <td>SubscriptionId_2643</td>\n",
       "      <td>CustomerId_3874</td>\n",
       "      <td>UGX</td>\n",
       "      <td>256</td>\n",
       "      <td>ProviderId_5</td>\n",
       "      <td>ProductId_15</td>\n",
       "      <td>financial_services</td>\n",
       "      <td>ChannelId_3</td>\n",
       "      <td>2000.0</td>\n",
       "      <td>2000</td>\n",
       "      <td>2019-02-13T10:02:12Z</td>\n",
       "      <td>2</td>\n",
       "    </tr>\n",
       "    <tr>\n",
       "      <th>2</th>\n",
       "      <td>TransactionId_47357</td>\n",
       "      <td>BatchId_74887</td>\n",
       "      <td>AccountId_4841</td>\n",
       "      <td>SubscriptionId_3829</td>\n",
       "      <td>CustomerId_2857</td>\n",
       "      <td>UGX</td>\n",
       "      <td>256</td>\n",
       "      <td>ProviderId_4</td>\n",
       "      <td>ProductId_6</td>\n",
       "      <td>financial_services</td>\n",
       "      <td>ChannelId_2</td>\n",
       "      <td>-50.0</td>\n",
       "      <td>50</td>\n",
       "      <td>2019-02-13T10:02:30Z</td>\n",
       "      <td>2</td>\n",
       "    </tr>\n",
       "    <tr>\n",
       "      <th>3</th>\n",
       "      <td>TransactionId_28185</td>\n",
       "      <td>BatchId_11025</td>\n",
       "      <td>AccountId_2685</td>\n",
       "      <td>SubscriptionId_4626</td>\n",
       "      <td>CustomerId_3105</td>\n",
       "      <td>UGX</td>\n",
       "      <td>256</td>\n",
       "      <td>ProviderId_5</td>\n",
       "      <td>ProductId_10</td>\n",
       "      <td>airtime</td>\n",
       "      <td>ChannelId_3</td>\n",
       "      <td>3000.0</td>\n",
       "      <td>3000</td>\n",
       "      <td>2019-02-13T10:02:38Z</td>\n",
       "      <td>4</td>\n",
       "    </tr>\n",
       "    <tr>\n",
       "      <th>4</th>\n",
       "      <td>TransactionId_22140</td>\n",
       "      <td>BatchId_29804</td>\n",
       "      <td>AccountId_4841</td>\n",
       "      <td>SubscriptionId_3829</td>\n",
       "      <td>CustomerId_3105</td>\n",
       "      <td>UGX</td>\n",
       "      <td>256</td>\n",
       "      <td>ProviderId_4</td>\n",
       "      <td>ProductId_6</td>\n",
       "      <td>financial_services</td>\n",
       "      <td>ChannelId_2</td>\n",
       "      <td>-60.0</td>\n",
       "      <td>60</td>\n",
       "      <td>2019-02-13T10:02:58Z</td>\n",
       "      <td>2</td>\n",
       "    </tr>\n",
       "  </tbody>\n",
       "</table>\n",
       "</div>"
      ],
      "text/plain": [
       "         TransactionId        BatchId       AccountId       SubscriptionId  \\\n",
       "0  TransactionId_50600  BatchId_35028  AccountId_2441  SubscriptionId_4426   \n",
       "1  TransactionId_95109  BatchId_45139  AccountId_3439  SubscriptionId_2643   \n",
       "2  TransactionId_47357  BatchId_74887  AccountId_4841  SubscriptionId_3829   \n",
       "3  TransactionId_28185  BatchId_11025  AccountId_2685  SubscriptionId_4626   \n",
       "4  TransactionId_22140  BatchId_29804  AccountId_4841  SubscriptionId_3829   \n",
       "\n",
       "        CustomerId CurrencyCode  CountryCode    ProviderId     ProductId  \\\n",
       "0  CustomerId_2857          UGX          256  ProviderId_5   ProductId_3   \n",
       "1  CustomerId_3874          UGX          256  ProviderId_5  ProductId_15   \n",
       "2  CustomerId_2857          UGX          256  ProviderId_4   ProductId_6   \n",
       "3  CustomerId_3105          UGX          256  ProviderId_5  ProductId_10   \n",
       "4  CustomerId_3105          UGX          256  ProviderId_4   ProductId_6   \n",
       "\n",
       "      ProductCategory    ChannelId  Amount  Value  TransactionStartTime  \\\n",
       "0             airtime  ChannelId_3  1000.0   1000  2019-02-13T10:01:40Z   \n",
       "1  financial_services  ChannelId_3  2000.0   2000  2019-02-13T10:02:12Z   \n",
       "2  financial_services  ChannelId_2   -50.0     50  2019-02-13T10:02:30Z   \n",
       "3             airtime  ChannelId_3  3000.0   3000  2019-02-13T10:02:38Z   \n",
       "4  financial_services  ChannelId_2   -60.0     60  2019-02-13T10:02:58Z   \n",
       "\n",
       "   PricingStrategy  \n",
       "0                4  \n",
       "1                2  \n",
       "2                2  \n",
       "3                4  \n",
       "4                2  "
      ]
     },
     "execution_count": 51,
     "metadata": {},
     "output_type": "execute_result"
    }
   ],
   "source": [
    "test_data = pd.read_csv(\"../data/test.csv\")\n",
    "test_data.head()"
   ]
  },
  {
   "cell_type": "code",
   "execution_count": 52,
   "id": "67c052e9",
   "metadata": {},
   "outputs": [
    {
     "data": {
      "text/html": [
       "<div>\n",
       "<style scoped>\n",
       "    .dataframe tbody tr th:only-of-type {\n",
       "        vertical-align: middle;\n",
       "    }\n",
       "\n",
       "    .dataframe tbody tr th {\n",
       "        vertical-align: top;\n",
       "    }\n",
       "\n",
       "    .dataframe thead th {\n",
       "        text-align: right;\n",
       "    }\n",
       "</style>\n",
       "<table border=\"1\" class=\"dataframe\">\n",
       "  <thead>\n",
       "    <tr style=\"text-align: right;\">\n",
       "      <th></th>\n",
       "      <th>TransactionId</th>\n",
       "      <th>FraudResult</th>\n",
       "    </tr>\n",
       "  </thead>\n",
       "  <tbody>\n",
       "    <tr>\n",
       "      <th>0</th>\n",
       "      <td>TransactionId_50600</td>\n",
       "      <td>NaN</td>\n",
       "    </tr>\n",
       "    <tr>\n",
       "      <th>1</th>\n",
       "      <td>TransactionId_95109</td>\n",
       "      <td>NaN</td>\n",
       "    </tr>\n",
       "    <tr>\n",
       "      <th>2</th>\n",
       "      <td>TransactionId_47357</td>\n",
       "      <td>NaN</td>\n",
       "    </tr>\n",
       "    <tr>\n",
       "      <th>3</th>\n",
       "      <td>TransactionId_28185</td>\n",
       "      <td>NaN</td>\n",
       "    </tr>\n",
       "    <tr>\n",
       "      <th>4</th>\n",
       "      <td>TransactionId_22140</td>\n",
       "      <td>NaN</td>\n",
       "    </tr>\n",
       "  </tbody>\n",
       "</table>\n",
       "</div>"
      ],
      "text/plain": [
       "         TransactionId  FraudResult\n",
       "0  TransactionId_50600          NaN\n",
       "1  TransactionId_95109          NaN\n",
       "2  TransactionId_47357          NaN\n",
       "3  TransactionId_28185          NaN\n",
       "4  TransactionId_22140          NaN"
      ]
     },
     "execution_count": 52,
     "metadata": {},
     "output_type": "execute_result"
    }
   ],
   "source": [
    "# make submission\n",
    "submission = pd.read_csv(\"../data/sample_submission.csv\")\n",
    "submission.head()"
   ]
  },
  {
   "cell_type": "code",
   "execution_count": 53,
   "id": "561b0a08",
   "metadata": {},
   "outputs": [
    {
     "data": {
      "text/plain": [
       "np.int64(45019)"
      ]
     },
     "execution_count": 53,
     "metadata": {},
     "output_type": "execute_result"
    }
   ],
   "source": [
    "## Great same...\n",
    "(test_data['TransactionId'] == submission['TransactionId']).sum()"
   ]
  },
  {
   "cell_type": "code",
   "execution_count": 54,
   "id": "d6b65130",
   "metadata": {},
   "outputs": [
    {
     "data": {
      "text/html": [
       "<div>\n",
       "<style scoped>\n",
       "    .dataframe tbody tr th:only-of-type {\n",
       "        vertical-align: middle;\n",
       "    }\n",
       "\n",
       "    .dataframe tbody tr th {\n",
       "        vertical-align: top;\n",
       "    }\n",
       "\n",
       "    .dataframe thead th {\n",
       "        text-align: right;\n",
       "    }\n",
       "</style>\n",
       "<table border=\"1\" class=\"dataframe\">\n",
       "  <thead>\n",
       "    <tr style=\"text-align: right;\">\n",
       "      <th></th>\n",
       "      <th>TransactionId</th>\n",
       "      <th>FraudResult</th>\n",
       "    </tr>\n",
       "  </thead>\n",
       "  <tbody>\n",
       "    <tr>\n",
       "      <th>0</th>\n",
       "      <td>TransactionId_50600</td>\n",
       "      <td>0</td>\n",
       "    </tr>\n",
       "    <tr>\n",
       "      <th>1</th>\n",
       "      <td>TransactionId_95109</td>\n",
       "      <td>0</td>\n",
       "    </tr>\n",
       "    <tr>\n",
       "      <th>2</th>\n",
       "      <td>TransactionId_47357</td>\n",
       "      <td>0</td>\n",
       "    </tr>\n",
       "    <tr>\n",
       "      <th>3</th>\n",
       "      <td>TransactionId_28185</td>\n",
       "      <td>0</td>\n",
       "    </tr>\n",
       "    <tr>\n",
       "      <th>4</th>\n",
       "      <td>TransactionId_22140</td>\n",
       "      <td>0</td>\n",
       "    </tr>\n",
       "  </tbody>\n",
       "</table>\n",
       "</div>"
      ],
      "text/plain": [
       "         TransactionId  FraudResult\n",
       "0  TransactionId_50600            0\n",
       "1  TransactionId_95109            0\n",
       "2  TransactionId_47357            0\n",
       "3  TransactionId_28185            0\n",
       "4  TransactionId_22140            0"
      ]
     },
     "execution_count": 54,
     "metadata": {},
     "output_type": "execute_result"
    }
   ],
   "source": [
    "tag = 'tuned'\n",
    "submission['FraudResult'] = y_pred_tuned\n",
    "\n",
    "submission['FraudResult'] = submission['FraudResult'].astype('int')\n",
    "submission.head()"
   ]
  },
  {
   "cell_type": "code",
   "execution_count": 55,
   "id": "aaf01a2f",
   "metadata": {},
   "outputs": [
    {
     "data": {
      "text/plain": [
       "np.int64(59)"
      ]
     },
     "execution_count": 55,
     "metadata": {},
     "output_type": "execute_result"
    }
   ],
   "source": [
    "submission['FraudResult'].sum()"
   ]
  },
  {
   "cell_type": "code",
   "execution_count": 56,
   "id": "825c0769",
   "metadata": {},
   "outputs": [
    {
     "data": {
      "text/plain": [
       "'../submissions\\\\ensemble-trees-3_2025-04-27_22-14_best-run_tuned.csv'"
      ]
     },
     "execution_count": 56,
     "metadata": {},
     "output_type": "execute_result"
    }
   ],
   "source": [
    "current_time = datetime.now().strftime(\"%H-%M\")\n",
    "# filename = f\"submission_{str(date.today())}_{current_time}.csv\"\n",
    "filename = f\"{Path(clf_path).stem}_{tag}.csv\"\n",
    "filename = os.path.join(\"../submissions\",filename)\n",
    "\n",
    "filename"
   ]
  },
  {
   "cell_type": "code",
   "execution_count": 57,
   "id": "9812c9ae",
   "metadata": {},
   "outputs": [],
   "source": [
    "submission.to_csv(filename,index=False)"
   ]
  },
  {
   "cell_type": "markdown",
   "id": "b4cc6057",
   "metadata": {},
   "source": [
    "# Performance estimation\n",
    "public test estimation"
   ]
  },
  {
   "cell_type": "code",
   "execution_count": null,
   "id": "27f05063",
   "metadata": {},
   "outputs": [],
   "source": [
    "from scipy.optimize import minimize, Bounds\n",
    "import pandas as pd\n",
    "import numpy as np"
   ]
  },
  {
   "cell_type": "code",
   "execution_count": null,
   "id": "561b13c6",
   "metadata": {},
   "outputs": [],
   "source": [
    "# load data\n",
    "y1 = pd.read_csv(r'..\\submissions\\submission_2025-04-18_18-29_EQiuFghN.csv')['FraudResult'].to_numpy()\n",
    "y2 = pd.read_csv(r'..\\submissions\\submission_2025-04-16_15-03_ZnyWKEKm.csv')['FraudResult'].to_numpy()\n",
    "y3 = pd.read_csv(r'..\\submissions\\submission_2025-04-14_23-29_roKRCvYs.csv')['FraudResult'].to_numpy()\n",
    "y4 = pd.read_csv(r'..\\submissions\\submission_2025-04-16_15-06_nDW2jSbL.csv')['FraudResult'].to_numpy()\n",
    "y5 = pd.read_csv(r'..\\submissions\\submission_2025-04-18_18-24_mTnW2tLv.csv')['FraudResult'].to_numpy()\n",
    "\n",
    "f1_scores = dict(roKRCvYs=(0,y3),\n",
    "                 ZnyWKEKm=(0.005135337,y2),\n",
    "                 nDW2jSbL=(0.26519337,y4),\n",
    "                 mTnW2tLv=(0.144092219,y5),\n",
    "                 EQiuFghN=(0.666666666,y1),                 \n",
    "                 )"
   ]
  },
  {
   "cell_type": "code",
   "execution_count": null,
   "id": "29123c4f",
   "metadata": {},
   "outputs": [],
   "source": [
    "# from sklearn.metrics import f1_score\n",
    "# def f1_score(y_truth:np.array, y_pred:np.array):\n",
    "\n",
    "#     tp = np.dot(y_truth,y_pred)\n",
    "#     fp = np.dot(1-y_truth,y_pred)\n",
    "#     fn = np.dot(y_truth,1-y_pred)\n",
    "\n",
    "#     f1 = tp/(tp + 0.5*(fp+fn) + 1e-8)\n",
    "\n",
    "#     return f1\n",
    "\n",
    "def objective(x_0:np.ndarray):\n",
    "\n",
    "    x_0 = x_0.round()\n",
    "\n",
    "    fitness = sum([(f1_score(x_0,y) - f1) for f1,y in f1_scores.values()])\n",
    "\n",
    "    return fitness\n"
   ]
  },
  {
   "cell_type": "code",
   "execution_count": null,
   "id": "aedde108",
   "metadata": {},
   "outputs": [],
   "source": [
    "x0 = sum([y for f1,y in f1_scores.values()])/len(f1_scores)\n",
    "x0"
   ]
  },
  {
   "cell_type": "code",
   "execution_count": null,
   "id": "517e4566",
   "metadata": {},
   "outputs": [],
   "source": [
    "res = minimize(objective,\n",
    "         x0=x0,\n",
    "        #  method='CG',\n",
    "         bounds=Bounds(0,1))"
   ]
  },
  {
   "cell_type": "code",
   "execution_count": null,
   "id": "a6ba24e0",
   "metadata": {},
   "outputs": [],
   "source": [
    "res"
   ]
  },
  {
   "cell_type": "code",
   "execution_count": null,
   "id": "578e67b8",
   "metadata": {},
   "outputs": [],
   "source": [
    "res.x"
   ]
  },
  {
   "cell_type": "code",
   "execution_count": null,
   "id": "05676dfd",
   "metadata": {},
   "outputs": [],
   "source": [
    "f1_score(res.x,y1)"
   ]
  }
 ],
 "metadata": {
  "kernelspec": {
   "display_name": ".venv",
   "language": "python",
   "name": "python3"
  },
  "language_info": {
   "codemirror_mode": {
    "name": "ipython",
    "version": 3
   },
   "file_extension": ".py",
   "mimetype": "text/x-python",
   "name": "python",
   "nbconvert_exporter": "python",
   "pygments_lexer": "ipython3",
   "version": "3.12.9"
  }
 },
 "nbformat": 4,
 "nbformat_minor": 5
}

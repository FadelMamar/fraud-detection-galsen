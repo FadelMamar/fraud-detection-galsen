{
 "cells": [
  {
   "cell_type": "markdown",
   "metadata": {},
   "source": [
    "# Exploratory data analysis"
   ]
  },
  {
   "cell_type": "code",
   "execution_count": 9,
   "metadata": {},
   "outputs": [],
   "source": [
    "from fraudetect.dataset import load_data"
   ]
  },
  {
   "cell_type": "code",
   "execution_count": 10,
   "metadata": {},
   "outputs": [
    {
     "name": "stdout",
     "output_type": "stream",
     "text": [
      "step: load data\n"
     ]
    },
    {
     "name": "stderr",
     "output_type": "stream",
     "text": [
      "D:\\fraud-detection-galsen\\fraudetect\\dataset.py:12: UserWarning: Parsing dates in %Y-%m-%dT%H:%M:%S%z format when dayfirst=True was specified. Pass `dayfirst=False` or specify a format to silence this warning.\n",
      "  df_data[\"TransactionStartTime\"] = pd.to_datetime(\n"
     ]
    }
   ],
   "source": [
    "df_data = load_data(\"../data/training.csv\")"
   ]
  },
  {
   "cell_type": "code",
   "execution_count": 15,
   "metadata": {},
   "outputs": [
    {
     "data": {
      "text/html": [
       "<div>\n",
       "<style scoped>\n",
       "    .dataframe tbody tr th:only-of-type {\n",
       "        vertical-align: middle;\n",
       "    }\n",
       "\n",
       "    .dataframe tbody tr th {\n",
       "        vertical-align: top;\n",
       "    }\n",
       "\n",
       "    .dataframe thead th {\n",
       "        text-align: right;\n",
       "    }\n",
       "</style>\n",
       "<table border=\"1\" class=\"dataframe\">\n",
       "  <thead>\n",
       "    <tr style=\"text-align: right;\">\n",
       "      <th></th>\n",
       "      <th>TRANSACTION_ID</th>\n",
       "      <th>BatchId</th>\n",
       "      <th>AccountId</th>\n",
       "      <th>SubscriptionId</th>\n",
       "      <th>CUSTOMER_ID</th>\n",
       "      <th>CurrencyCode</th>\n",
       "      <th>CountryCode</th>\n",
       "      <th>ProviderId</th>\n",
       "      <th>ProductId</th>\n",
       "      <th>ProductCategory</th>\n",
       "      <th>ChannelId</th>\n",
       "      <th>TX_AMOUNT</th>\n",
       "      <th>Value</th>\n",
       "      <th>TX_DATETIME</th>\n",
       "      <th>PricingStrategy</th>\n",
       "      <th>TX_FRAUD</th>\n",
       "      <th>TX_TIME_DAYS</th>\n",
       "    </tr>\n",
       "  </thead>\n",
       "  <tbody>\n",
       "    <tr>\n",
       "      <th>0</th>\n",
       "      <td>TransactionId_76871</td>\n",
       "      <td>BatchId_36123</td>\n",
       "      <td>AccountId_3957</td>\n",
       "      <td>SubscriptionId_887</td>\n",
       "      <td>CustomerId_4406</td>\n",
       "      <td>UGX</td>\n",
       "      <td>256</td>\n",
       "      <td>ProviderId_6</td>\n",
       "      <td>ProductId_10</td>\n",
       "      <td>airtime</td>\n",
       "      <td>ChannelId_3</td>\n",
       "      <td>1000.0</td>\n",
       "      <td>1000</td>\n",
       "      <td>2018-11-15 02:18:49+00:00</td>\n",
       "      <td>2</td>\n",
       "      <td>0</td>\n",
       "      <td>0</td>\n",
       "    </tr>\n",
       "    <tr>\n",
       "      <th>1</th>\n",
       "      <td>TransactionId_73770</td>\n",
       "      <td>BatchId_15642</td>\n",
       "      <td>AccountId_4841</td>\n",
       "      <td>SubscriptionId_3829</td>\n",
       "      <td>CustomerId_4406</td>\n",
       "      <td>UGX</td>\n",
       "      <td>256</td>\n",
       "      <td>ProviderId_4</td>\n",
       "      <td>ProductId_6</td>\n",
       "      <td>financial_services</td>\n",
       "      <td>ChannelId_2</td>\n",
       "      <td>-20.0</td>\n",
       "      <td>20</td>\n",
       "      <td>2018-11-15 02:19:08+00:00</td>\n",
       "      <td>2</td>\n",
       "      <td>0</td>\n",
       "      <td>0</td>\n",
       "    </tr>\n",
       "    <tr>\n",
       "      <th>2</th>\n",
       "      <td>TransactionId_26203</td>\n",
       "      <td>BatchId_53941</td>\n",
       "      <td>AccountId_4229</td>\n",
       "      <td>SubscriptionId_222</td>\n",
       "      <td>CustomerId_4683</td>\n",
       "      <td>UGX</td>\n",
       "      <td>256</td>\n",
       "      <td>ProviderId_6</td>\n",
       "      <td>ProductId_1</td>\n",
       "      <td>airtime</td>\n",
       "      <td>ChannelId_3</td>\n",
       "      <td>500.0</td>\n",
       "      <td>500</td>\n",
       "      <td>2018-11-15 02:44:21+00:00</td>\n",
       "      <td>2</td>\n",
       "      <td>0</td>\n",
       "      <td>0</td>\n",
       "    </tr>\n",
       "  </tbody>\n",
       "</table>\n",
       "</div>"
      ],
      "text/plain": [
       "        TRANSACTION_ID        BatchId       AccountId       SubscriptionId  \\\n",
       "0  TransactionId_76871  BatchId_36123  AccountId_3957   SubscriptionId_887   \n",
       "1  TransactionId_73770  BatchId_15642  AccountId_4841  SubscriptionId_3829   \n",
       "2  TransactionId_26203  BatchId_53941  AccountId_4229   SubscriptionId_222   \n",
       "\n",
       "       CUSTOMER_ID CurrencyCode  CountryCode    ProviderId     ProductId  \\\n",
       "0  CustomerId_4406          UGX          256  ProviderId_6  ProductId_10   \n",
       "1  CustomerId_4406          UGX          256  ProviderId_4   ProductId_6   \n",
       "2  CustomerId_4683          UGX          256  ProviderId_6   ProductId_1   \n",
       "\n",
       "      ProductCategory    ChannelId  TX_AMOUNT  Value  \\\n",
       "0             airtime  ChannelId_3     1000.0   1000   \n",
       "1  financial_services  ChannelId_2      -20.0     20   \n",
       "2             airtime  ChannelId_3      500.0    500   \n",
       "\n",
       "                TX_DATETIME  PricingStrategy  TX_FRAUD  TX_TIME_DAYS  \n",
       "0 2018-11-15 02:18:49+00:00                2         0             0  \n",
       "1 2018-11-15 02:19:08+00:00                2         0             0  \n",
       "2 2018-11-15 02:44:21+00:00                2         0             0  "
      ]
     },
     "execution_count": 15,
     "metadata": {},
     "output_type": "execute_result"
    }
   ],
   "source": [
    "df_data.head(3)"
   ]
  },
  {
   "cell_type": "code",
   "execution_count": 14,
   "metadata": {},
   "outputs": [
    {
     "data": {
      "text/plain": [
       "Timedelta('90 days 07:42:39')"
      ]
     },
     "execution_count": 14,
     "metadata": {},
     "output_type": "execute_result"
    }
   ],
   "source": [
    "# Time Coverage\n",
    "df_data['TX_DATETIME'].iloc[-1] - df_data['TX_DATETIME'].iloc[0]"
   ]
  },
  {
   "cell_type": "code",
   "execution_count": 19,
   "metadata": {},
   "outputs": [
    {
     "data": {
      "text/plain": [
       "0        AccountId_3957+CustomerId_4406+SubscriptionId_887\n",
       "1        AccountId_4841+CustomerId_4406+SubscriptionId_...\n",
       "2        AccountId_4229+CustomerId_4683+SubscriptionId_222\n",
       "3         AccountId_648+CustomerId_988+SubscriptionId_2185\n",
       "4        AccountId_4841+CustomerId_988+SubscriptionId_3829\n",
       "                               ...                        \n",
       "95657    AccountId_4841+CustomerId_3078+SubscriptionId_...\n",
       "95658    AccountId_3439+CustomerId_3874+SubscriptionId_...\n",
       "95659    AccountId_4841+CustomerId_3874+SubscriptionId_...\n",
       "95660    AccountId_1346+CustomerId_1709+SubscriptionId_652\n",
       "95661    AccountId_4841+CustomerId_1709+SubscriptionId_...\n",
       "Length: 95662, dtype: object"
      ]
     },
     "execution_count": 19,
     "metadata": {},
     "output_type": "execute_result"
    }
   ],
   "source": [
    "cols = ['AccountId', 'CUSTOMER_ID','SubscriptionId']\n",
    "df_demo = df_data[cols].apply(lambda x: \"+\".join(x), axis=1,raw=False,result_type='reduce')\n",
    "df_demo"
   ]
  },
  {
   "cell_type": "code",
   "execution_count": 20,
   "metadata": {},
   "outputs": [
    {
     "data": {
      "text/plain": [
       "8222"
      ]
     },
     "execution_count": 20,
     "metadata": {},
     "output_type": "execute_result"
    }
   ],
   "source": [
    "df_demo.nunique()"
   ]
  },
  {
   "cell_type": "markdown",
   "metadata": {},
   "source": [
    "## Understand features"
   ]
  },
  {
   "cell_type": "code",
   "execution_count": 5,
   "metadata": {},
   "outputs": [
    {
     "name": "stdout",
     "output_type": "stream",
     "text": [
      "<class 'pandas.core.frame.DataFrame'>\n",
      "RangeIndex: 95662 entries, 0 to 95661\n",
      "Data columns (total 16 columns):\n",
      " #   Column                Non-Null Count  Dtype              \n",
      "---  ------                --------------  -----              \n",
      " 0   TransactionId         95662 non-null  object             \n",
      " 1   BatchId               95662 non-null  object             \n",
      " 2   AccountId             95662 non-null  object             \n",
      " 3   SubscriptionId        95662 non-null  object             \n",
      " 4   CustomerId            95662 non-null  object             \n",
      " 5   CurrencyCode          95662 non-null  object             \n",
      " 6   CountryCode           95662 non-null  int64              \n",
      " 7   ProviderId            95662 non-null  object             \n",
      " 8   ProductId             95662 non-null  object             \n",
      " 9   ProductCategory       95662 non-null  object             \n",
      " 10  ChannelId             95662 non-null  object             \n",
      " 11  Amount                95662 non-null  float64            \n",
      " 12  Value                 95662 non-null  int64              \n",
      " 13  TransactionStartTime  95662 non-null  datetime64[ns, UTC]\n",
      " 14  PricingStrategy       95662 non-null  int64              \n",
      " 15  FraudResult           95662 non-null  int64              \n",
      "dtypes: datetime64[ns, UTC](1), float64(1), int64(4), object(10)\n",
      "memory usage: 11.7+ MB\n"
     ]
    }
   ],
   "source": [
    "df_data.info()"
   ]
  },
  {
   "cell_type": "code",
   "execution_count": 6,
   "metadata": {},
   "outputs": [
    {
     "data": {
      "text/plain": [
       "TransactionId           1.000000\n",
       "BatchId                 0.991083\n",
       "AccountId               0.037977\n",
       "SubscriptionId          0.037915\n",
       "CustomerId              0.039117\n",
       "CurrencyCode            0.000010\n",
       "CountryCode             0.000010\n",
       "ProviderId              0.000063\n",
       "ProductId               0.000240\n",
       "ProductCategory         0.000094\n",
       "ChannelId               0.000042\n",
       "Amount                  0.017520\n",
       "Value                   0.015858\n",
       "TransactionStartTime    0.988438\n",
       "PricingStrategy         0.000042\n",
       "FraudResult             0.000021\n",
       "dtype: float64"
      ]
     },
     "execution_count": 6,
     "metadata": {},
     "output_type": "execute_result"
    }
   ],
   "source": [
    "df_data.nunique()/len(df_data)"
   ]
  },
  {
   "cell_type": "code",
   "execution_count": 6,
   "metadata": {},
   "outputs": [
    {
     "data": {
      "text/plain": [
       "TransactionId           95662\n",
       "BatchId                 94809\n",
       "AccountId                3633\n",
       "SubscriptionId           3627\n",
       "CustomerId               3742\n",
       "CurrencyCode                1\n",
       "CountryCode                 1\n",
       "ProviderId                  6\n",
       "ProductId                  23\n",
       "ProductCategory             9\n",
       "ChannelId                   4\n",
       "Amount                   1676\n",
       "Value                    1517\n",
       "TransactionStartTime    94556\n",
       "PricingStrategy             4\n",
       "FraudResult                 2\n",
       "dtype: int64"
      ]
     },
     "execution_count": 6,
     "metadata": {},
     "output_type": "execute_result"
    }
   ],
   "source": [
    "df_data.nunique()"
   ]
  },
  {
   "cell_type": "code",
   "execution_count": 7,
   "metadata": {},
   "outputs": [
    {
     "data": {
      "text/plain": [
       "TransactionId                        object\n",
       "BatchId                              object\n",
       "AccountId                            object\n",
       "SubscriptionId                       object\n",
       "CustomerId                           object\n",
       "CurrencyCode                         object\n",
       "CountryCode                           int64\n",
       "ProviderId                           object\n",
       "ProductId                            object\n",
       "ProductCategory                      object\n",
       "ChannelId                            object\n",
       "Amount                              float64\n",
       "Value                                 int64\n",
       "TransactionStartTime    datetime64[ns, UTC]\n",
       "PricingStrategy                       int64\n",
       "FraudResult                           int64\n",
       "dtype: object"
      ]
     },
     "execution_count": 7,
     "metadata": {},
     "output_type": "execute_result"
    }
   ],
   "source": [
    "df_data.dtypes"
   ]
  },
  {
   "cell_type": "code",
   "execution_count": 8,
   "metadata": {},
   "outputs": [],
   "source": [
    "columns_to_drop = ['BatchId','CurrencyCode','CountryCode']"
   ]
  },
  {
   "cell_type": "code",
   "execution_count": 11,
   "metadata": {},
   "outputs": [
    {
     "data": {
      "text/html": [
       "<div>\n",
       "<style scoped>\n",
       "    .dataframe tbody tr th:only-of-type {\n",
       "        vertical-align: middle;\n",
       "    }\n",
       "\n",
       "    .dataframe tbody tr th {\n",
       "        vertical-align: top;\n",
       "    }\n",
       "\n",
       "    .dataframe thead th {\n",
       "        text-align: right;\n",
       "    }\n",
       "</style>\n",
       "<table border=\"1\" class=\"dataframe\">\n",
       "  <thead>\n",
       "    <tr style=\"text-align: right;\">\n",
       "      <th></th>\n",
       "      <th>CountryCode</th>\n",
       "      <th>Amount</th>\n",
       "      <th>Value</th>\n",
       "      <th>PricingStrategy</th>\n",
       "      <th>FraudResult</th>\n",
       "    </tr>\n",
       "  </thead>\n",
       "  <tbody>\n",
       "    <tr>\n",
       "      <th>count</th>\n",
       "      <td>95469.0</td>\n",
       "      <td>9.546900e+04</td>\n",
       "      <td>9.546900e+04</td>\n",
       "      <td>95469.000000</td>\n",
       "      <td>95469.0</td>\n",
       "    </tr>\n",
       "    <tr>\n",
       "      <th>mean</th>\n",
       "      <td>256.0</td>\n",
       "      <td>3.627723e+03</td>\n",
       "      <td>6.763227e+03</td>\n",
       "      <td>2.257089</td>\n",
       "      <td>0.0</td>\n",
       "    </tr>\n",
       "    <tr>\n",
       "      <th>std</th>\n",
       "      <td>0.0</td>\n",
       "      <td>4.035711e+04</td>\n",
       "      <td>3.999484e+04</td>\n",
       "      <td>0.731971</td>\n",
       "      <td>0.0</td>\n",
       "    </tr>\n",
       "    <tr>\n",
       "      <th>min</th>\n",
       "      <td>256.0</td>\n",
       "      <td>-1.000000e+06</td>\n",
       "      <td>2.000000e+00</td>\n",
       "      <td>0.000000</td>\n",
       "      <td>0.0</td>\n",
       "    </tr>\n",
       "    <tr>\n",
       "      <th>25%</th>\n",
       "      <td>256.0</td>\n",
       "      <td>-5.000000e+01</td>\n",
       "      <td>2.500000e+02</td>\n",
       "      <td>2.000000</td>\n",
       "      <td>0.0</td>\n",
       "    </tr>\n",
       "    <tr>\n",
       "      <th>50%</th>\n",
       "      <td>256.0</td>\n",
       "      <td>1.000000e+03</td>\n",
       "      <td>1.000000e+03</td>\n",
       "      <td>2.000000</td>\n",
       "      <td>0.0</td>\n",
       "    </tr>\n",
       "    <tr>\n",
       "      <th>75%</th>\n",
       "      <td>256.0</td>\n",
       "      <td>2.500000e+03</td>\n",
       "      <td>5.000000e+03</td>\n",
       "      <td>2.000000</td>\n",
       "      <td>0.0</td>\n",
       "    </tr>\n",
       "    <tr>\n",
       "      <th>max</th>\n",
       "      <td>256.0</td>\n",
       "      <td>2.400000e+06</td>\n",
       "      <td>2.400000e+06</td>\n",
       "      <td>4.000000</td>\n",
       "      <td>0.0</td>\n",
       "    </tr>\n",
       "  </tbody>\n",
       "</table>\n",
       "</div>"
      ],
      "text/plain": [
       "       CountryCode        Amount         Value  PricingStrategy  FraudResult\n",
       "count      95469.0  9.546900e+04  9.546900e+04     95469.000000      95469.0\n",
       "mean         256.0  3.627723e+03  6.763227e+03         2.257089          0.0\n",
       "std            0.0  4.035711e+04  3.999484e+04         0.731971          0.0\n",
       "min          256.0 -1.000000e+06  2.000000e+00         0.000000          0.0\n",
       "25%          256.0 -5.000000e+01  2.500000e+02         2.000000          0.0\n",
       "50%          256.0  1.000000e+03  1.000000e+03         2.000000          0.0\n",
       "75%          256.0  2.500000e+03  5.000000e+03         2.000000          0.0\n",
       "max          256.0  2.400000e+06  2.400000e+06         4.000000          0.0"
      ]
     },
     "execution_count": 11,
     "metadata": {},
     "output_type": "execute_result"
    }
   ],
   "source": [
    "stats_normal = df_data.loc[df_data['FraudResult']==0].describe()\n",
    "stats_normal"
   ]
  },
  {
   "cell_type": "code",
   "execution_count": 12,
   "metadata": {},
   "outputs": [
    {
     "data": {
      "text/html": [
       "<div>\n",
       "<style scoped>\n",
       "    .dataframe tbody tr th:only-of-type {\n",
       "        vertical-align: middle;\n",
       "    }\n",
       "\n",
       "    .dataframe tbody tr th {\n",
       "        vertical-align: top;\n",
       "    }\n",
       "\n",
       "    .dataframe thead th {\n",
       "        text-align: right;\n",
       "    }\n",
       "</style>\n",
       "<table border=\"1\" class=\"dataframe\">\n",
       "  <thead>\n",
       "    <tr style=\"text-align: right;\">\n",
       "      <th></th>\n",
       "      <th>CountryCode</th>\n",
       "      <th>Amount</th>\n",
       "      <th>Value</th>\n",
       "      <th>PricingStrategy</th>\n",
       "      <th>FraudResult</th>\n",
       "    </tr>\n",
       "  </thead>\n",
       "  <tbody>\n",
       "    <tr>\n",
       "      <th>count</th>\n",
       "      <td>193.0</td>\n",
       "      <td>1.930000e+02</td>\n",
       "      <td>1.930000e+02</td>\n",
       "      <td>193.000000</td>\n",
       "      <td>193.0</td>\n",
       "    </tr>\n",
       "    <tr>\n",
       "      <th>mean</th>\n",
       "      <td>256.0</td>\n",
       "      <td>1.535272e+06</td>\n",
       "      <td>1.561820e+06</td>\n",
       "      <td>1.704663</td>\n",
       "      <td>1.0</td>\n",
       "    </tr>\n",
       "    <tr>\n",
       "      <th>std</th>\n",
       "      <td>0.0</td>\n",
       "      <td>2.100525e+06</td>\n",
       "      <td>2.081227e+06</td>\n",
       "      <td>0.963300</td>\n",
       "      <td>0.0</td>\n",
       "    </tr>\n",
       "    <tr>\n",
       "      <th>min</th>\n",
       "      <td>256.0</td>\n",
       "      <td>-9.000000e+05</td>\n",
       "      <td>5.000000e+02</td>\n",
       "      <td>0.000000</td>\n",
       "      <td>1.0</td>\n",
       "    </tr>\n",
       "    <tr>\n",
       "      <th>25%</th>\n",
       "      <td>256.0</td>\n",
       "      <td>5.000000e+05</td>\n",
       "      <td>5.000000e+05</td>\n",
       "      <td>2.000000</td>\n",
       "      <td>1.0</td>\n",
       "    </tr>\n",
       "    <tr>\n",
       "      <th>50%</th>\n",
       "      <td>256.0</td>\n",
       "      <td>6.000000e+05</td>\n",
       "      <td>6.500000e+05</td>\n",
       "      <td>2.000000</td>\n",
       "      <td>1.0</td>\n",
       "    </tr>\n",
       "    <tr>\n",
       "      <th>75%</th>\n",
       "      <td>256.0</td>\n",
       "      <td>2.000000e+06</td>\n",
       "      <td>2.000000e+06</td>\n",
       "      <td>2.000000</td>\n",
       "      <td>1.0</td>\n",
       "    </tr>\n",
       "    <tr>\n",
       "      <th>max</th>\n",
       "      <td>256.0</td>\n",
       "      <td>9.880000e+06</td>\n",
       "      <td>9.880000e+06</td>\n",
       "      <td>4.000000</td>\n",
       "      <td>1.0</td>\n",
       "    </tr>\n",
       "  </tbody>\n",
       "</table>\n",
       "</div>"
      ],
      "text/plain": [
       "       CountryCode        Amount         Value  PricingStrategy  FraudResult\n",
       "count        193.0  1.930000e+02  1.930000e+02       193.000000        193.0\n",
       "mean         256.0  1.535272e+06  1.561820e+06         1.704663          1.0\n",
       "std            0.0  2.100525e+06  2.081227e+06         0.963300          0.0\n",
       "min          256.0 -9.000000e+05  5.000000e+02         0.000000          1.0\n",
       "25%          256.0  5.000000e+05  5.000000e+05         2.000000          1.0\n",
       "50%          256.0  6.000000e+05  6.500000e+05         2.000000          1.0\n",
       "75%          256.0  2.000000e+06  2.000000e+06         2.000000          1.0\n",
       "max          256.0  9.880000e+06  9.880000e+06         4.000000          1.0"
      ]
     },
     "execution_count": 12,
     "metadata": {},
     "output_type": "execute_result"
    }
   ],
   "source": [
    "stats_fraud = df_data.loc[df_data['FraudResult']==1].describe()\n",
    "stats_fraud"
   ]
  },
  {
   "cell_type": "code",
   "execution_count": null,
   "metadata": {},
   "outputs": [
    {
     "data": {
      "text/html": [
       "<div>\n",
       "<style scoped>\n",
       "    .dataframe tbody tr th:only-of-type {\n",
       "        vertical-align: middle;\n",
       "    }\n",
       "\n",
       "    .dataframe tbody tr th {\n",
       "        vertical-align: top;\n",
       "    }\n",
       "\n",
       "    .dataframe thead th {\n",
       "        text-align: right;\n",
       "    }\n",
       "</style>\n",
       "<table border=\"1\" class=\"dataframe\">\n",
       "  <thead>\n",
       "    <tr style=\"text-align: right;\">\n",
       "      <th></th>\n",
       "      <th>CountryCode</th>\n",
       "      <th>Amount</th>\n",
       "      <th>Value</th>\n",
       "      <th>PricingStrategy</th>\n",
       "      <th>FraudResult</th>\n",
       "    </tr>\n",
       "  </thead>\n",
       "  <tbody>\n",
       "    <tr>\n",
       "      <th>count</th>\n",
       "      <td>0.002022</td>\n",
       "      <td>0.002022</td>\n",
       "      <td>0.002022</td>\n",
       "      <td>0.002022</td>\n",
       "      <td>0.002022</td>\n",
       "    </tr>\n",
       "    <tr>\n",
       "      <th>mean</th>\n",
       "      <td>1.000000</td>\n",
       "      <td>423.205557</td>\n",
       "      <td>230.928166</td>\n",
       "      <td>0.755249</td>\n",
       "      <td>inf</td>\n",
       "    </tr>\n",
       "    <tr>\n",
       "      <th>std</th>\n",
       "      <td>NaN</td>\n",
       "      <td>52.048457</td>\n",
       "      <td>52.037401</td>\n",
       "      <td>1.316035</td>\n",
       "      <td>NaN</td>\n",
       "    </tr>\n",
       "    <tr>\n",
       "      <th>min</th>\n",
       "      <td>1.000000</td>\n",
       "      <td>0.900000</td>\n",
       "      <td>250.000000</td>\n",
       "      <td>NaN</td>\n",
       "      <td>inf</td>\n",
       "    </tr>\n",
       "    <tr>\n",
       "      <th>25%</th>\n",
       "      <td>1.000000</td>\n",
       "      <td>-10000.000000</td>\n",
       "      <td>2000.000000</td>\n",
       "      <td>1.000000</td>\n",
       "      <td>inf</td>\n",
       "    </tr>\n",
       "    <tr>\n",
       "      <th>50%</th>\n",
       "      <td>1.000000</td>\n",
       "      <td>600.000000</td>\n",
       "      <td>650.000000</td>\n",
       "      <td>1.000000</td>\n",
       "      <td>inf</td>\n",
       "    </tr>\n",
       "    <tr>\n",
       "      <th>75%</th>\n",
       "      <td>1.000000</td>\n",
       "      <td>800.000000</td>\n",
       "      <td>400.000000</td>\n",
       "      <td>1.000000</td>\n",
       "      <td>inf</td>\n",
       "    </tr>\n",
       "    <tr>\n",
       "      <th>max</th>\n",
       "      <td>1.000000</td>\n",
       "      <td>4.116667</td>\n",
       "      <td>4.116667</td>\n",
       "      <td>1.000000</td>\n",
       "      <td>inf</td>\n",
       "    </tr>\n",
       "  </tbody>\n",
       "</table>\n",
       "</div>"
      ],
      "text/plain": [
       "       CountryCode        Amount        Value  PricingStrategy  FraudResult\n",
       "count     0.002022      0.002022     0.002022         0.002022     0.002022\n",
       "mean      1.000000    423.205557   230.928166         0.755249          inf\n",
       "std            NaN     52.048457    52.037401         1.316035          NaN\n",
       "min       1.000000      0.900000   250.000000              NaN          inf\n",
       "25%       1.000000 -10000.000000  2000.000000         1.000000          inf\n",
       "50%       1.000000    600.000000   650.000000         1.000000          inf\n",
       "75%       1.000000    800.000000   400.000000         1.000000          inf\n",
       "max       1.000000      4.116667     4.116667         1.000000          inf"
      ]
     },
     "execution_count": 15,
     "metadata": {},
     "output_type": "execute_result"
    }
   ],
   "source": [
    "# we see that the Amount is very large in Frauds\n",
    "stats_fraud/stats_normal"
   ]
  },
  {
   "cell_type": "markdown",
   "metadata": {},
   "source": [
    "### Understand CustomerId, accountId, SubscriptionId"
   ]
  },
  {
   "cell_type": "code",
   "execution_count": 9,
   "metadata": {},
   "outputs": [],
   "source": [
    "identifiers = ['SubscriptionId','AccountId','CustomerId']"
   ]
  },
  {
   "cell_type": "code",
   "execution_count": 10,
   "metadata": {},
   "outputs": [
    {
     "data": {
      "text/plain": [
       "SubscriptionId    3627\n",
       "AccountId         3633\n",
       "CustomerId        3742\n",
       "dtype: int64"
      ]
     },
     "execution_count": 10,
     "metadata": {},
     "output_type": "execute_result"
    }
   ],
   "source": [
    "df_data[identifiers].nunique()"
   ]
  },
  {
   "cell_type": "code",
   "execution_count": 11,
   "metadata": {},
   "outputs": [
    {
     "data": {
      "text/html": [
       "<div>\n",
       "<style scoped>\n",
       "    .dataframe tbody tr th:only-of-type {\n",
       "        vertical-align: middle;\n",
       "    }\n",
       "\n",
       "    .dataframe tbody tr th {\n",
       "        vertical-align: top;\n",
       "    }\n",
       "\n",
       "    .dataframe thead th {\n",
       "        text-align: right;\n",
       "    }\n",
       "</style>\n",
       "<table border=\"1\" class=\"dataframe\">\n",
       "  <thead>\n",
       "    <tr style=\"text-align: right;\">\n",
       "      <th></th>\n",
       "      <th></th>\n",
       "      <th>CustomerId</th>\n",
       "    </tr>\n",
       "    <tr>\n",
       "      <th>SubscriptionId</th>\n",
       "      <th>AccountId</th>\n",
       "      <th></th>\n",
       "    </tr>\n",
       "  </thead>\n",
       "  <tbody>\n",
       "    <tr>\n",
       "      <th>SubscriptionId_10</th>\n",
       "      <th>AccountId_2708</th>\n",
       "      <td>1</td>\n",
       "    </tr>\n",
       "    <tr>\n",
       "      <th>SubscriptionId_1000</th>\n",
       "      <th>AccountId_3421</th>\n",
       "      <td>1</td>\n",
       "    </tr>\n",
       "    <tr>\n",
       "      <th>SubscriptionId_1001</th>\n",
       "      <th>AccountId_1297</th>\n",
       "      <td>1</td>\n",
       "    </tr>\n",
       "    <tr>\n",
       "      <th>SubscriptionId_1002</th>\n",
       "      <th>AccountId_1344</th>\n",
       "      <td>1</td>\n",
       "    </tr>\n",
       "    <tr>\n",
       "      <th>SubscriptionId_1004</th>\n",
       "      <th>AccountId_4474</th>\n",
       "      <td>1</td>\n",
       "    </tr>\n",
       "    <tr>\n",
       "      <th>...</th>\n",
       "      <th>...</th>\n",
       "      <td>...</td>\n",
       "    </tr>\n",
       "    <tr>\n",
       "      <th>SubscriptionId_993</th>\n",
       "      <th>AccountId_4674</th>\n",
       "      <td>1</td>\n",
       "    </tr>\n",
       "    <tr>\n",
       "      <th>SubscriptionId_995</th>\n",
       "      <th>AccountId_3226</th>\n",
       "      <td>1</td>\n",
       "    </tr>\n",
       "    <tr>\n",
       "      <th>SubscriptionId_997</th>\n",
       "      <th>AccountId_2575</th>\n",
       "      <td>1</td>\n",
       "    </tr>\n",
       "    <tr>\n",
       "      <th>SubscriptionId_998</th>\n",
       "      <th>AccountId_4184</th>\n",
       "      <td>1</td>\n",
       "    </tr>\n",
       "    <tr>\n",
       "      <th>SubscriptionId_999</th>\n",
       "      <th>AccountId_862</th>\n",
       "      <td>1</td>\n",
       "    </tr>\n",
       "  </tbody>\n",
       "</table>\n",
       "<p>3634 rows × 1 columns</p>\n",
       "</div>"
      ],
      "text/plain": [
       "                                    CustomerId\n",
       "SubscriptionId      AccountId                 \n",
       "SubscriptionId_10   AccountId_2708           1\n",
       "SubscriptionId_1000 AccountId_3421           1\n",
       "SubscriptionId_1001 AccountId_1297           1\n",
       "SubscriptionId_1002 AccountId_1344           1\n",
       "SubscriptionId_1004 AccountId_4474           1\n",
       "...                                        ...\n",
       "SubscriptionId_993  AccountId_4674           1\n",
       "SubscriptionId_995  AccountId_3226           1\n",
       "SubscriptionId_997  AccountId_2575           1\n",
       "SubscriptionId_998  AccountId_4184           1\n",
       "SubscriptionId_999  AccountId_862            1\n",
       "\n",
       "[3634 rows x 1 columns]"
      ]
     },
     "execution_count": 11,
     "metadata": {},
     "output_type": "execute_result"
    }
   ],
   "source": [
    "df_data.groupby(identifiers[:-1]).nunique()[identifiers[-1:]]"
   ]
  },
  {
   "cell_type": "code",
   "execution_count": 12,
   "metadata": {},
   "outputs": [
    {
     "data": {
      "text/plain": [
       "CustomerId    10\n",
       "dtype: int64"
      ]
     },
     "execution_count": 12,
     "metadata": {},
     "output_type": "execute_result"
    }
   ],
   "source": [
    "# subscriptionId and AccountID are not sufficient to identify a unique person doing a transaction\n",
    "\n",
    "(df_data.groupby(identifiers[:-1]).nunique()[identifiers[-1:]]>1).sum()"
   ]
  },
  {
   "cell_type": "code",
   "execution_count": 13,
   "metadata": {},
   "outputs": [
    {
     "data": {
      "text/html": [
       "<div>\n",
       "<style scoped>\n",
       "    .dataframe tbody tr th:only-of-type {\n",
       "        vertical-align: middle;\n",
       "    }\n",
       "\n",
       "    .dataframe tbody tr th {\n",
       "        vertical-align: top;\n",
       "    }\n",
       "\n",
       "    .dataframe thead th {\n",
       "        text-align: right;\n",
       "    }\n",
       "</style>\n",
       "<table border=\"1\" class=\"dataframe\">\n",
       "  <thead>\n",
       "    <tr style=\"text-align: right;\">\n",
       "      <th></th>\n",
       "      <th></th>\n",
       "      <th>SubscriptionId</th>\n",
       "    </tr>\n",
       "    <tr>\n",
       "      <th>AccountId</th>\n",
       "      <th>CustomerId</th>\n",
       "      <th></th>\n",
       "    </tr>\n",
       "  </thead>\n",
       "  <tbody>\n",
       "    <tr>\n",
       "      <th>AccountId_1</th>\n",
       "      <th>CustomerId_46</th>\n",
       "      <td>1</td>\n",
       "    </tr>\n",
       "    <tr>\n",
       "      <th rowspan=\"4\" valign=\"top\">AccountId_10</th>\n",
       "      <th>CustomerId_1074</th>\n",
       "      <td>1</td>\n",
       "    </tr>\n",
       "    <tr>\n",
       "      <th>CustomerId_1093</th>\n",
       "      <td>1</td>\n",
       "    </tr>\n",
       "    <tr>\n",
       "      <th>CustomerId_1096</th>\n",
       "      <td>1</td>\n",
       "    </tr>\n",
       "    <tr>\n",
       "      <th>CustomerId_1156</th>\n",
       "      <td>1</td>\n",
       "    </tr>\n",
       "    <tr>\n",
       "      <th>...</th>\n",
       "      <th>...</th>\n",
       "      <td>...</td>\n",
       "    </tr>\n",
       "    <tr>\n",
       "      <th>AccountId_99</th>\n",
       "      <th>CustomerId_420</th>\n",
       "      <td>1</td>\n",
       "    </tr>\n",
       "    <tr>\n",
       "      <th>AccountId_990</th>\n",
       "      <th>CustomerId_1339</th>\n",
       "      <td>1</td>\n",
       "    </tr>\n",
       "    <tr>\n",
       "      <th>AccountId_992</th>\n",
       "      <th>CustomerId_1341</th>\n",
       "      <td>1</td>\n",
       "    </tr>\n",
       "    <tr>\n",
       "      <th>AccountId_994</th>\n",
       "      <th>CustomerId_1343</th>\n",
       "      <td>1</td>\n",
       "    </tr>\n",
       "    <tr>\n",
       "      <th>AccountId_998</th>\n",
       "      <th>CustomerId_1349</th>\n",
       "      <td>1</td>\n",
       "    </tr>\n",
       "  </tbody>\n",
       "</table>\n",
       "<p>8222 rows × 1 columns</p>\n",
       "</div>"
      ],
      "text/plain": [
       "                               SubscriptionId\n",
       "AccountId     CustomerId                     \n",
       "AccountId_1   CustomerId_46                 1\n",
       "AccountId_10  CustomerId_1074               1\n",
       "              CustomerId_1093               1\n",
       "              CustomerId_1096               1\n",
       "              CustomerId_1156               1\n",
       "...                                       ...\n",
       "AccountId_99  CustomerId_420                1\n",
       "AccountId_990 CustomerId_1339               1\n",
       "AccountId_992 CustomerId_1341               1\n",
       "AccountId_994 CustomerId_1343               1\n",
       "AccountId_998 CustomerId_1349               1\n",
       "\n",
       "[8222 rows x 1 columns]"
      ]
     },
     "execution_count": 13,
     "metadata": {},
     "output_type": "execute_result"
    }
   ],
   "source": [
    "df_data.groupby(identifiers[1:]).nunique()[identifiers[:1]]"
   ]
  },
  {
   "cell_type": "code",
   "execution_count": 14,
   "metadata": {},
   "outputs": [
    {
     "data": {
      "text/plain": [
       "SubscriptionId    0\n",
       "dtype: int64"
      ]
     },
     "execution_count": 14,
     "metadata": {},
     "output_type": "execute_result"
    }
   ],
   "source": [
    "# We can drop the ``subscriptionId`` column if we keep both ``AccountId`` and ``CustomerId``\n",
    "\n",
    "(df_data.groupby(identifiers[1:]).nunique()[identifiers[:1]]>1).sum()"
   ]
  },
  {
   "cell_type": "code",
   "execution_count": 15,
   "metadata": {},
   "outputs": [
    {
     "data": {
      "text/plain": [
       "SubscriptionId       CustomerId     \n",
       "SubscriptionId_10    CustomerId_3128    1\n",
       "SubscriptionId_1000  CustomerId_3855    1\n",
       "SubscriptionId_1001  CustomerId_1659    1\n",
       "SubscriptionId_1002  CustomerId_1707    1\n",
       "SubscriptionId_1004  CustomerId_4934    1\n",
       "                                       ..\n",
       "SubscriptionId_993   CustomerId_5142    1\n",
       "SubscriptionId_995   CustomerId_3654    1\n",
       "SubscriptionId_997   CustomerId_2992    1\n",
       "SubscriptionId_998   CustomerId_4636    1\n",
       "SubscriptionId_999   CustomerId_1210    1\n",
       "Name: AccountId, Length: 6545, dtype: int64"
      ]
     },
     "execution_count": 15,
     "metadata": {},
     "output_type": "execute_result"
    }
   ],
   "source": [
    "df_data.groupby(['SubscriptionId','CustomerId']).nunique()['AccountId']"
   ]
  },
  {
   "cell_type": "code",
   "execution_count": 16,
   "metadata": {},
   "outputs": [
    {
     "data": {
      "text/plain": [
       "AccountId    1677\n",
       "dtype: int64"
      ]
     },
     "execution_count": 16,
     "metadata": {},
     "output_type": "execute_result"
    }
   ],
   "source": [
    "# subscriptionId and CustomerId are not sufficient to identify a unique person doing a transaction\n",
    "(df_data.groupby(['SubscriptionId','CustomerId']).nunique()[['AccountId']] > 1).sum()"
   ]
  },
  {
   "cell_type": "code",
   "execution_count": 17,
   "metadata": {},
   "outputs": [],
   "source": [
    "# discard 'SubscriptionId' column\n",
    "columns_to_drop.append('SubscriptionId')"
   ]
  },
  {
   "cell_type": "markdown",
   "metadata": {},
   "source": [
    "# Train-test split\n",
    "\n",
    "The train-test split should be done in a way that we have different customers in the training and test set\n"
   ]
  },
  {
   "cell_type": "markdown",
   "metadata": {},
   "source": [
    "### functions"
   ]
  },
  {
   "cell_type": "code",
   "execution_count": 57,
   "metadata": {},
   "outputs": [],
   "source": [
    "from fraudetect.dataset import train_test_split\n",
    "from fraudetect.helpers import get_train_test_set\n",
    "import matplotlib.pyplot as plt\n",
    "import numpy as np"
   ]
  },
  {
   "cell_type": "markdown",
   "metadata": {},
   "source": [
    "### debugging"
   ]
  },
  {
   "cell_type": "code",
   "execution_count": null,
   "metadata": {},
   "outputs": [
    {
     "data": {
      "text/plain": [
       "Index(['TRANSACTION_ID', 'BatchId', 'AccountId', 'SubscriptionId',\n",
       "       'CUSTOMER_ID', 'CurrencyCode', 'CountryCode', 'ProviderId', 'ProductId',\n",
       "       'ProductCategory', 'ChannelId', 'TX_AMOUNT', 'Value', 'TX_DATETIME',\n",
       "       'PricingStrategy', 'TX_FRAUD', 'TX_TIME_DAYS'],\n",
       "      dtype='object')"
      ]
     },
     "execution_count": 62,
     "metadata": {},
     "output_type": "execute_result"
    }
   ],
   "source": [
    "# renaming columns\n",
    "rename_cols = {\n",
    "    'FraudResult': 'TX_FRAUD',\n",
    "    'Amount': 'TX_AMOUNT',\n",
    "    'CustomerId': 'CUSTOMER_ID',\n",
    "    'TransactionStartTime': 'TX_DATETIME',\n",
    "    'TransactionId': 'TRANSACTION_ID',\n",
    "}\n",
    "\n",
    "df_data.rename(columns=rename_cols, inplace=True)\n",
    "df_data.columns"
   ]
  },
  {
   "cell_type": "code",
   "execution_count": 7,
   "metadata": {},
   "outputs": [],
   "source": [
    "# create TX_TIME_DAYS column\n",
    "df_data['TX_TIME_DAYS'] = (df_data['TX_DATETIME'] - df_data['TX_DATETIME'].min()).dt.days\n",
    "\n",
    "# create TX_TIME_SECONDS column\n",
    "# df_data['TX_TIME_SECONDS'] = (df_data['TX_DATETIME'] - df_data['TX_DATETIME'].min()).dt.seconds"
   ]
  },
  {
   "cell_type": "code",
   "execution_count": 8,
   "metadata": {},
   "outputs": [],
   "source": [
    "# df_data.set_index('TX_DATETIME',inplace=True)\n",
    "df_data.sort_values('TX_DATETIME',inplace=True,ascending=True)"
   ]
  },
  {
   "cell_type": "code",
   "execution_count": 9,
   "metadata": {},
   "outputs": [],
   "source": [
    "df_data_copy = df_data.copy()\n",
    "df_data_copy['Fraud_cumsum'] = df_data_copy['TX_FRAUD'].cumsum()"
   ]
  },
  {
   "cell_type": "code",
   "execution_count": 10,
   "metadata": {},
   "outputs": [
    {
     "data": {
      "text/plain": [
       "<Axes: title={'center': 'Fraud over time'}, xlabel='TX_DATETIME'>"
      ]
     },
     "execution_count": 10,
     "metadata": {},
     "output_type": "execute_result"
    },
    {
     "data": {
      "image/png": "[encoded data removed]",
      "text/plain": [
       "<Figure size 2000x1000 with 2 Axes>"
      ]
     },
     "metadata": {},
     "output_type": "display_data"
    }
   ],
   "source": [
    "fig,axes = plt.subplots(2,1,figsize=(20,10),sharex=True)\n",
    "df_data_copy.plot(ax=axes[0], x='TX_DATETIME', y='Fraud_cumsum', title='Number of fraud over time (cumulative sum)', legend=False)\n",
    "\n",
    "df_data_copy.plot(ax=axes[1], x='TX_DATETIME', y='TX_FRAUD', title='Fraud over time', legend=False)"
   ]
  },
  {
   "cell_type": "code",
   "execution_count": 11,
   "metadata": {},
   "outputs": [],
   "source": [
    "# Set the starting day for the training period, and the deltas\n",
    "start_date_training = df_data['TX_DATETIME'].iloc[0]\n",
    "delta_train=62\n",
    "delta_delay=7\n",
    "delta_test=21\n",
    "\n",
    "train_df, test_df = get_train_test_set(df_data,\n",
    "                                    start_date_training=start_date_training,\n",
    "                                    delta_train=delta_train,\n",
    "                                    delta_test=delta_test,\n",
    "                                    delta_delay=delta_delay,\n",
    "                                    sampling_ratio=1.0\n",
    "                                    )"
   ]
  },
  {
   "cell_type": "code",
   "execution_count": 12,
   "metadata": {},
   "outputs": [
    {
     "data": {
      "text/plain": [
       "(61407, 25932)"
      ]
     },
     "execution_count": 12,
     "metadata": {},
     "output_type": "execute_result"
    }
   ],
   "source": [
    "# number of samples\n",
    "train_df.shape[0], test_df.shape[0]"
   ]
  },
  {
   "cell_type": "code",
   "execution_count": 13,
   "metadata": {},
   "outputs": [
    {
     "data": {
      "text/plain": [
       "(93, 82)"
      ]
     },
     "execution_count": 13,
     "metadata": {},
     "output_type": "execute_result"
    }
   ],
   "source": [
    "# number of positive samples\n",
    "train_df[train_df.TX_FRAUD==1].shape[0], test_df[test_df.TX_FRAUD==1].shape[0]"
   ]
  },
  {
   "cell_type": "code",
   "execution_count": 14,
   "metadata": {},
   "outputs": [
    {
     "data": {
      "text/plain": [
       "0.001514"
      ]
     },
     "execution_count": 14,
     "metadata": {},
     "output_type": "execute_result"
    }
   ],
   "source": [
    "# ratio of positive samples in Train set\n",
    "round(train_df[train_df.TX_FRAUD==1].shape[0]/train_df.shape[0], 6)"
   ]
  },
  {
   "cell_type": "code",
   "execution_count": 15,
   "metadata": {},
   "outputs": [
    {
     "data": {
      "text/plain": [
       "0.003162"
      ]
     },
     "execution_count": 15,
     "metadata": {},
     "output_type": "execute_result"
    }
   ],
   "source": [
    "# ratio of positive samples in Test set\n",
    "round(test_df[test_df.TX_FRAUD==1].shape[0]/test_df.shape[0], 6)"
   ]
  },
  {
   "cell_type": "code",
   "execution_count": 16,
   "metadata": {},
   "outputs": [
    {
     "data": {
      "text/plain": [
       "(893,)"
      ]
     },
     "execution_count": 16,
     "metadata": {},
     "output_type": "execute_result"
    }
   ],
   "source": [
    "# customers overlap between train and test set\n",
    "customers_intersec = np.intersect1d(train_df['CUSTOMER_ID'].unique(), test_df['CUSTOMER_ID'].unique())\n",
    "customers_intersec.shape"
   ]
  },
  {
   "cell_type": "code",
   "execution_count": 17,
   "metadata": {},
   "outputs": [
    {
     "data": {
      "text/plain": [
       "(1870, 0.6768005790807093)"
      ]
     },
     "execution_count": 17,
     "metadata": {},
     "output_type": "execute_result"
    }
   ],
   "source": [
    "# unique customers to train set\n",
    "customers_unique_to_train = [a for a in train_df['CUSTOMER_ID'].unique() if a not in customers_intersec]\n",
    "len(customers_unique_to_train), len(customers_unique_to_train)/len(train_df['CUSTOMER_ID'].unique())"
   ]
  },
  {
   "cell_type": "code",
   "execution_count": 18,
   "metadata": {},
   "outputs": [
    {
     "data": {
      "text/plain": [
       "(865, 0.4920364050056883)"
      ]
     },
     "execution_count": 18,
     "metadata": {},
     "output_type": "execute_result"
    }
   ],
   "source": [
    "# unique customers to test set\n",
    "customers_unique_to_test = [a for a in test_df['CUSTOMER_ID'].unique() if a not in customers_intersec]\n",
    "len(customers_unique_to_test), len(customers_unique_to_test)/len(test_df['CUSTOMER_ID'].unique())"
   ]
  },
  {
   "cell_type": "markdown",
   "metadata": {},
   "source": [
    "# Feature engineering"
   ]
  },
  {
   "cell_type": "markdown",
   "metadata": {},
   "source": [
    "### functions"
   ]
  },
  {
   "cell_type": "code",
   "execution_count": 58,
   "metadata": {},
   "outputs": [],
   "source": [
    "from fraudetect.dataset import load_data\n",
    "from fraudetect.features import transform_data"
   ]
  },
  {
   "cell_type": "markdown",
   "metadata": {},
   "source": [
    "### debugging"
   ]
  },
  {
   "cell_type": "code",
   "execution_count": 22,
   "metadata": {},
   "outputs": [
    {
     "data": {
      "text/html": [
       "<div>\n",
       "<style scoped>\n",
       "    .dataframe tbody tr th:only-of-type {\n",
       "        vertical-align: middle;\n",
       "    }\n",
       "\n",
       "    .dataframe tbody tr th {\n",
       "        vertical-align: top;\n",
       "    }\n",
       "\n",
       "    .dataframe thead th {\n",
       "        text-align: right;\n",
       "    }\n",
       "</style>\n",
       "<table border=\"1\" class=\"dataframe\">\n",
       "  <thead>\n",
       "    <tr style=\"text-align: right;\">\n",
       "      <th></th>\n",
       "      <th>TRANSACTION_ID</th>\n",
       "      <th>BatchId</th>\n",
       "      <th>AccountId</th>\n",
       "      <th>SubscriptionId</th>\n",
       "      <th>CUSTOMER_ID</th>\n",
       "      <th>CurrencyCode</th>\n",
       "      <th>CountryCode</th>\n",
       "      <th>ProviderId</th>\n",
       "      <th>ProductId</th>\n",
       "      <th>ProductCategory</th>\n",
       "      <th>ChannelId</th>\n",
       "      <th>TX_AMOUNT</th>\n",
       "      <th>Value</th>\n",
       "      <th>TX_DATETIME</th>\n",
       "      <th>PricingStrategy</th>\n",
       "      <th>TX_FRAUD</th>\n",
       "      <th>TX_TIME_DAYS</th>\n",
       "    </tr>\n",
       "  </thead>\n",
       "  <tbody>\n",
       "    <tr>\n",
       "      <th>0</th>\n",
       "      <td>TransactionId_76871</td>\n",
       "      <td>BatchId_36123</td>\n",
       "      <td>AccountId_3957</td>\n",
       "      <td>SubscriptionId_887</td>\n",
       "      <td>CustomerId_4406</td>\n",
       "      <td>UGX</td>\n",
       "      <td>256</td>\n",
       "      <td>ProviderId_6</td>\n",
       "      <td>ProductId_10</td>\n",
       "      <td>airtime</td>\n",
       "      <td>ChannelId_3</td>\n",
       "      <td>1000.0</td>\n",
       "      <td>1000</td>\n",
       "      <td>2018-11-15 02:18:49+00:00</td>\n",
       "      <td>2</td>\n",
       "      <td>0</td>\n",
       "      <td>0</td>\n",
       "    </tr>\n",
       "    <tr>\n",
       "      <th>1</th>\n",
       "      <td>TransactionId_73770</td>\n",
       "      <td>BatchId_15642</td>\n",
       "      <td>AccountId_4841</td>\n",
       "      <td>SubscriptionId_3829</td>\n",
       "      <td>CustomerId_4406</td>\n",
       "      <td>UGX</td>\n",
       "      <td>256</td>\n",
       "      <td>ProviderId_4</td>\n",
       "      <td>ProductId_6</td>\n",
       "      <td>financial_services</td>\n",
       "      <td>ChannelId_2</td>\n",
       "      <td>-20.0</td>\n",
       "      <td>20</td>\n",
       "      <td>2018-11-15 02:19:08+00:00</td>\n",
       "      <td>2</td>\n",
       "      <td>0</td>\n",
       "      <td>0</td>\n",
       "    </tr>\n",
       "    <tr>\n",
       "      <th>2</th>\n",
       "      <td>TransactionId_26203</td>\n",
       "      <td>BatchId_53941</td>\n",
       "      <td>AccountId_4229</td>\n",
       "      <td>SubscriptionId_222</td>\n",
       "      <td>CustomerId_4683</td>\n",
       "      <td>UGX</td>\n",
       "      <td>256</td>\n",
       "      <td>ProviderId_6</td>\n",
       "      <td>ProductId_1</td>\n",
       "      <td>airtime</td>\n",
       "      <td>ChannelId_3</td>\n",
       "      <td>500.0</td>\n",
       "      <td>500</td>\n",
       "      <td>2018-11-15 02:44:21+00:00</td>\n",
       "      <td>2</td>\n",
       "      <td>0</td>\n",
       "      <td>0</td>\n",
       "    </tr>\n",
       "  </tbody>\n",
       "</table>\n",
       "</div>"
      ],
      "text/plain": [
       "        TRANSACTION_ID        BatchId       AccountId       SubscriptionId  \\\n",
       "0  TransactionId_76871  BatchId_36123  AccountId_3957   SubscriptionId_887   \n",
       "1  TransactionId_73770  BatchId_15642  AccountId_4841  SubscriptionId_3829   \n",
       "2  TransactionId_26203  BatchId_53941  AccountId_4229   SubscriptionId_222   \n",
       "\n",
       "       CUSTOMER_ID CurrencyCode  CountryCode    ProviderId     ProductId  \\\n",
       "0  CustomerId_4406          UGX          256  ProviderId_6  ProductId_10   \n",
       "1  CustomerId_4406          UGX          256  ProviderId_4   ProductId_6   \n",
       "2  CustomerId_4683          UGX          256  ProviderId_6   ProductId_1   \n",
       "\n",
       "      ProductCategory    ChannelId  TX_AMOUNT  Value  \\\n",
       "0             airtime  ChannelId_3     1000.0   1000   \n",
       "1  financial_services  ChannelId_2      -20.0     20   \n",
       "2             airtime  ChannelId_3      500.0    500   \n",
       "\n",
       "                TX_DATETIME  PricingStrategy  TX_FRAUD  TX_TIME_DAYS  \n",
       "0 2018-11-15 02:18:49+00:00                2         0             0  \n",
       "1 2018-11-15 02:19:08+00:00                2         0             0  \n",
       "2 2018-11-15 02:44:21+00:00                2         0             0  "
      ]
     },
     "execution_count": 22,
     "metadata": {},
     "output_type": "execute_result"
    }
   ],
   "source": [
    "df_data.head(3)"
   ]
  },
  {
   "cell_type": "code",
   "execution_count": 120,
   "metadata": {},
   "outputs": [
    {
     "data": {
      "text/plain": [
       "TRANSACTION_ID     95662\n",
       "BatchId            94809\n",
       "AccountId           3633\n",
       "SubscriptionId      3627\n",
       "CUSTOMER_ID         3742\n",
       "CurrencyCode           1\n",
       "CountryCode            1\n",
       "ProviderId             6\n",
       "ProductId             23\n",
       "ProductCategory        9\n",
       "ChannelId              4\n",
       "TX_AMOUNT           1676\n",
       "Value               1517\n",
       "TX_DATETIME        94556\n",
       "PricingStrategy        4\n",
       "TX_FRAUD               2\n",
       "TX_TIME_DAYS          91\n",
       "dtype: int64"
      ]
     },
     "execution_count": 120,
     "metadata": {},
     "output_type": "execute_result"
    }
   ],
   "source": [
    "df_data.nunique()"
   ]
  },
  {
   "cell_type": "code",
   "execution_count": null,
   "metadata": {},
   "outputs": [],
   "source": [
    "COLUMNS_TO_DROP = ['CurrencyCode','CountryCode','SubscriptionId','BatchId','CUSTOMER_ID','AccountId','TRANSACTION_ID','TX_DATETIME','TX_TIME_DAYS']\n",
    "COLUMNS_TO_ONE_HOT_ENCODE = ['PricingStrategy','ChannelId', 'ProductCategory', 'ProviderId', 'ProductId']\n",
    "COLUMNS_TO_SCALE = ['TX_DURING_WEEKEND','TX_DURING_NIGHT','TX_AMOUNT','Value'] # or None to select all numeric columns"
   ]
  },
  {
   "cell_type": "code",
   "execution_count": 25,
   "metadata": {},
   "outputs": [
    {
     "data": {
      "text/plain": [
       "np.int64(46)"
      ]
     },
     "execution_count": 25,
     "metadata": {},
     "output_type": "execute_result"
    }
   ],
   "source": [
    "df_data.nunique().loc[COLUMNS_TO_ONE_HOT_ENCODE].sum()"
   ]
  },
  {
   "cell_type": "code",
   "execution_count": 26,
   "metadata": {},
   "outputs": [
    {
     "data": {
      "text/plain": [
       "Index(['TRANSACTION_ID', 'BatchId', 'AccountId', 'SubscriptionId',\n",
       "       'CUSTOMER_ID', 'CurrencyCode', 'CountryCode', 'ProviderId', 'ProductId',\n",
       "       'ProductCategory', 'ChannelId', 'TX_AMOUNT', 'Value', 'TX_DATETIME',\n",
       "       'PricingStrategy', 'TX_FRAUD', 'TX_TIME_DAYS'],\n",
       "      dtype='object')"
      ]
     },
     "execution_count": 26,
     "metadata": {},
     "output_type": "execute_result"
    }
   ],
   "source": [
    "train_df.columns"
   ]
  },
  {
   "cell_type": "code",
   "execution_count": null,
   "metadata": {},
   "outputs": [],
   "source": [
    "(X_train, y_train),(onehot_encoder, scaler) = transform_data(train_df=train_df, \n",
    "                                                            val_df=None,\n",
    "                                                            columns_to_drop=COLUMNS_TO_DROP,\n",
    "                                                            columns_to_onehot_encode=COLUMNS_TO_ONE_HOT_ENCODE,\n",
    "                                                            columns_to_scale=COLUMNS_TO_SCALE,\n",
    "                                                            windows_size_in_days=[1,7,30])"
   ]
  },
  {
   "cell_type": "code",
   "execution_count": 125,
   "metadata": {},
   "outputs": [
    {
     "data": {
      "text/plain": [
       "((61407, 62), dtype('float64'))"
      ]
     },
     "execution_count": 125,
     "metadata": {},
     "output_type": "execute_result"
    }
   ],
   "source": [
    "X_train.shape, X_train.dtype"
   ]
  },
  {
   "cell_type": "code",
   "execution_count": 58,
   "metadata": {},
   "outputs": [
    {
     "data": {
      "text/plain": [
       "[array(['0', '1', '2', '4'], dtype=object),\n",
       " array(['ChannelId_1', 'ChannelId_2', 'ChannelId_3', 'ChannelId_5'],\n",
       "       dtype=object),\n",
       " array(['airtime', 'data_bundles', 'financial_services', 'movies', 'other',\n",
       "        'ticket', 'transport', 'tv', 'utility_bill'], dtype=object),\n",
       " array(['ProviderId_1', 'ProviderId_2', 'ProviderId_3', 'ProviderId_4',\n",
       "        'ProviderId_5', 'ProviderId_6'], dtype=object),\n",
       " array(['ProductId_1', 'ProductId_10', 'ProductId_11', 'ProductId_12',\n",
       "        'ProductId_13', 'ProductId_14', 'ProductId_15', 'ProductId_16',\n",
       "        'ProductId_19', 'ProductId_2', 'ProductId_20', 'ProductId_21',\n",
       "        'ProductId_22', 'ProductId_23', 'ProductId_24', 'ProductId_27',\n",
       "        'ProductId_3', 'ProductId_4', 'ProductId_5', 'ProductId_6',\n",
       "        'ProductId_7', 'ProductId_8', 'ProductId_9'], dtype=object)]"
      ]
     },
     "execution_count": 58,
     "metadata": {},
     "output_type": "execute_result"
    }
   ],
   "source": [
    "onehot_encoder.categories_"
   ]
  },
  {
   "cell_type": "code",
   "execution_count": null,
   "metadata": {},
   "outputs": [],
   "source": [
    "kwargs_tranform_data = dict(columns_to_drop=COLUMNS_TO_DROP,\n",
    "                            columns_to_onehot_encode=COLUMNS_TO_ONE_HOT_ENCODE,\n",
    "                            columns_to_scale=COLUMNS_TO_SCALE,\n",
    "                            windows_size_in_days=[1,7,30])\n",
    "\n",
    "data = data_loader(kwargs_tranform_data=kwargs_tranform_data,\n",
    "                    data_path=\"../data/training.csv\", \n",
    "                    split_method='hold-out',\n",
    "                    delta_train=40, \n",
    "                    delta_delay=7, \n",
    "                    delta_test=20,\n",
    "                    n_folds=None,\n",
    "                    random_state=41,\n",
    "                    sampling_ratio=1.0\n",
    "                )"
   ]
  },
  {
   "cell_type": "code",
   "execution_count": 155,
   "metadata": {},
   "outputs": [
    {
     "data": {
      "text/plain": [
       "4"
      ]
     },
     "execution_count": 155,
     "metadata": {},
     "output_type": "execute_result"
    }
   ],
   "source": [
    "len(data)\n",
    "# X_train, y_train, X_val, y_val = data"
   ]
  },
  {
   "cell_type": "code",
   "execution_count": 159,
   "metadata": {},
   "outputs": [
    {
     "data": {
      "text/plain": [
       "2"
      ]
     },
     "execution_count": 159,
     "metadata": {},
     "output_type": "execute_result"
    }
   ],
   "source": [
    "data = data_loader(kwargs_tranform_data=kwargs_tranform_data,\n",
    "                    data_path=\"../data/training.csv\", \n",
    "                    split_method='prequential',\n",
    "                    delta_train=40, \n",
    "                    delta_delay=7, \n",
    "                    delta_test=20,\n",
    "                    n_folds=5,\n",
    "                    random_state=41,\n",
    "                    sampling_ratio=1.0\n",
    "                )\n",
    "len(data)"
   ]
  },
  {
   "cell_type": "code",
   "execution_count": null,
   "metadata": {},
   "outputs": [
    {
     "data": {
      "text/plain": [
       "((95662, 62), (95662,))"
      ]
     },
     "execution_count": 164,
     "metadata": {},
     "output_type": "execute_result"
    }
   ],
   "source": [
    "data[0][0].shape, data[0][1].shape, len(data[1])"
   ]
  },
  {
   "cell_type": "markdown",
   "metadata": {},
   "source": [
    "# Training classifiers"
   ]
  },
  {
   "cell_type": "code",
   "execution_count": 1,
   "metadata": {},
   "outputs": [],
   "source": [
    "from sklearn.linear_model import LogisticRegression, SGDClassifier\n",
    "from sklearn.svm import LinearSVC, SVC\n",
    "from sklearn.tree import DecisionTreeClassifier\n",
    "from sklearn.ensemble import (RandomForestClassifier, \n",
    "                              GradientBoostingClassifier, \n",
    "                              AdaBoostClassifier,\n",
    "                              BaggingClassifier,\n",
    "                              VotingClassifier,\n",
    "                              StackingClassifier,\n",
    "                              HistGradientBoostingClassifier, \n",
    "                              IsolationForest\n",
    "                            )\n",
    "   \n",
    "import time"
   ]
  },
  {
   "cell_type": "markdown",
   "metadata": {},
   "source": [
    "### Evaluation"
   ]
  },
  {
   "cell_type": "code",
   "execution_count": 48,
   "metadata": {},
   "outputs": [],
   "source": [
    "from fraudetect.modeling.utils import evaluate, get_scorer_names"
   ]
  },
  {
   "cell_type": "markdown",
   "metadata": {},
   "source": [
    "### Hyperparameters search config"
   ]
  },
  {
   "cell_type": "code",
   "execution_count": 4,
   "metadata": {},
   "outputs": [],
   "source": [
    "import numpy as np"
   ]
  },
  {
   "cell_type": "code",
   "execution_count": 47,
   "metadata": {},
   "outputs": [],
   "source": [
    "config = dict()\n",
    "\n",
    "config['logisticReg'] = dict(penalty=['l2'],\n",
    "                             C=np.logspace(-4, 4, 10).tolist(),\n",
    "                             class_weight=['balanced', None],\n",
    "                             solver=['liblinear'],\n",
    "                             max_iter=[int(1e4)],\n",
    "                             random_state=[None],\n",
    "                             tol=[1e-4],\n",
    "                             model=LogisticRegression,\n",
    "                            )\n",
    "\n",
    "config['svc'] = dict(C=np.logspace(-4, 4, 10).tolist(),\n",
    "                     kernel=['poly', 'rbf','linear'],\n",
    "                     degree=[2,3,5,7],\n",
    "                     gamma=['auto','scale'],\n",
    "                     tol=[1e-4],\n",
    "                     class_weight=['balanced', None],\n",
    "                     max_iter=[int(1e4)],\n",
    "                     random_state=[None],\n",
    "                     probability=[False],\n",
    "                     model=SVC,\n",
    "                    )\n",
    "\n",
    "config['linearSVC'] = dict(penalty=['l2'],\n",
    "                        loss=['square_hinge','hinge'],\n",
    "                        C=np.logspace(-4, 4, 10).tolist(),\n",
    "                        class_weight=['balanced', None],\n",
    "                        max_iter=[int(1e4)],\n",
    "                        random_state=[None],\n",
    "                        model=LinearSVC,\n",
    "                        tol=[1e-4],\n",
    "                    )\n",
    "\n",
    "config['sgdClassifier'] = dict(loss=['hinge','squared_hinge','modified_huber','log_loss',],\n",
    "                               penalty=['l2','l1','elasticnet',None],\n",
    "                                alpha=np.logspace(-4, 4, 10).tolist(),\n",
    "                                l1_ratio=[0.15, 0.5, 0.85],\n",
    "                                class_weight=['balanced', None],\n",
    "                                max_iter=[int(1e3)],\n",
    "                                learning_rate=['optimal','invscaling','adaptive'],\n",
    "                                random_state=[None],\n",
    "                                shuffle=[True,False],\n",
    "                                tol=[1e-4],\n",
    "                                eta0=[1e-5],\n",
    "                                early_stopping=[False],\n",
    "                                n_iter_no_change=[10],\n",
    "                                model=SGDClassifier,\n",
    "                            )\n",
    "\n",
    "config['decisionTree'] = dict(criterion=['gini','entropy','log_loss'],\n",
    "                               splitter=['best'],\n",
    "                               max_depth=[None,5,7,9,10,15,20],\n",
    "                               min_samples_split=[2,3,4],\n",
    "                               min_samples_leaf=[1,2],\n",
    "                               class_weight=['balanced', None],\n",
    "                               max_features=['sqrt','log2',None],\n",
    "                               random_state=[None],\n",
    "                               model=DecisionTreeClassifier,\n",
    "                            )\n",
    "\n",
    "config['randomForest'] = dict(n_estimators=[10,20,50,100,200,500],\n",
    "                               criterion=['gini','entropy','log_loss'],\n",
    "                               max_depth=[None,5,7,9,10,15,20],\n",
    "                               min_samples_split=[2,3,4],\n",
    "                               min_samples_leaf=[1,2],\n",
    "                               class_weight=['balanced', 'balanced_subsample', None],\n",
    "                               max_features=['sqrt','log2',None],\n",
    "                               random_state=[None],\n",
    "                               n_jobs=[8],\n",
    "                               model=RandomForestClassifier,\n",
    "                            )\n",
    "\n",
    "config['gradientBoosting'] = dict(loss=['log_loss','exponential'],\n",
    "                                  n_estimators=[10,50,100,200,500],\n",
    "                                  learning_rate=np.logspace(-4, -1, 10).tolist(),\n",
    "                                  subsample=[0.5, 0.75, 1.0],\n",
    "                                  criterion='friedman_mse',\n",
    "                                  max_depth=[None,3,5,7,9,10,15,20],\n",
    "                                  min_samples_split=[2,3,4],\n",
    "                                  min_samples_leaf=[1,2],\n",
    "                                  max_features=['sqrt','log2',None],\n",
    "                                  random_state=[None],\n",
    "                                  tol=1e-4,\n",
    "                                  model=GradientBoostingClassifier,\n",
    "                                )\n",
    "\n",
    "# -> handles missig values\n",
    "config['histGradientBoosting'] = dict(loss=['log_loss'],\n",
    "                                       max_iter=[100,500,1000,10000],\n",
    "                                       learning_rate=np.logspace(-4, -1, 10).tolist(),\n",
    "                                       max_depth=[None,3,5,7,9,10,15,20],\n",
    "                                       l2_regularization=np.logspace(-4, 4, 10).tolist(),\n",
    "                                       categorical_features=[None],\n",
    "                                       random_state=[None],\n",
    "                                       max_bins=[2**5-1, 2**6-1, 2**7-1, 2**8-1],\n",
    "                                       class_weight=['balanced', None],\n",
    "                                       n_iter_no_change=[10],\n",
    "                                       tol=[1e-7],\n",
    "                                       model=HistGradientBoostingClassifier,\n",
    "                                    )\n",
    "\n",
    "# #TODO: For the models below, try only after optimizing the previous model\n",
    "# config['baggingClassifier'] = dict(estimator=[RandomForestClassifier(), \n",
    "#                                               HistGradientBoostingClassifier(), \n",
    "#                                               DecisionTreeClassifier(), \n",
    "#                                               LinearSVC(),\n",
    "#                                               SGDClassifier()],\n",
    "#                                    n_estimators=[3, 5, 7, 15],\n",
    "#                                    max_samples=[0.5, 0.75, 1.0],\n",
    "#                                    max_features=[0.5, 0.75, 1.0],\n",
    "#                                    bootstrap=[True, False],\n",
    "#                                    bootstrap_features=[True, False],\n",
    "#                                    random_state=[41],\n",
    "#                                    model=BaggingClassifier,\n",
    "#                                 )\n",
    "\n",
    "# config['votingClassifier'] = dict(estimators=[...],\n",
    "#                                    voting=['soft'],\n",
    "#                                    random_state=[41],\n",
    "#                                    model=VotingClassifier,\n",
    "#                                 )\n",
    "\n",
    "# config['adaBoostClassifier'] = dict(estimator=[RandomForestClassifier(), \n",
    "#                                               HistGradientBoostingClassifier(), \n",
    "#                                               DecisionTreeClassifier(), \n",
    "#                                               LinearSVC(),\n",
    "#                                               SGDClassifier()],\n",
    "#                          n_estimators=[10,50,75,100],\n",
    "#                          learning_rate=np.logspace(-4, -1, 10).tolist(),\n",
    "#                          algorithm=['SAMME'],\n",
    "#                          random_state=[41],\n",
    "#                          model=AdaBoostClassifier,\n",
    "#                         )\n",
    "\n",
    "# config['stackingClassifier'] = dict(estimators=[...],\n",
    "#                                  final_estimator=[LogisticRegression(),SVC(),SGDClassifier()],\n",
    "#                                  cv=[None],\n",
    "#                                  stack_method=['auto'],\n",
    "#                                  passthrough=[False],\n",
    "#                                  verbose=[0],\n",
    "#                                  model=StackingClassifier,\n",
    "#                               )\n"
   ]
  },
  {
   "cell_type": "markdown",
   "metadata": {},
   "source": [
    "### Model selection"
   ]
  },
  {
   "cell_type": "code",
   "execution_count": 9,
   "metadata": {},
   "outputs": [],
   "source": [
    "# TODO: GroupKFold -> Assess if there is a leakage from training to test set ?\n",
    "# https://scikit-learn.org/stable/modules/generated/sklearn.model_selection.GroupKFold.html"
   ]
  },
  {
   "cell_type": "markdown",
   "metadata": {},
   "source": [
    "### functions"
   ]
  },
  {
   "cell_type": "code",
   "execution_count": 60,
   "metadata": {},
   "outputs": [],
   "source": [
    "from fraudetect.modeling.utils import hyperparameter_tuning, results_from_search\n",
    "from fraudetect.dataset import data_loader\n",
    "from sklearn.model_selection import TimeSeriesSplit"
   ]
  },
  {
   "cell_type": "markdown",
   "metadata": {},
   "source": [
    "### debugging"
   ]
  },
  {
   "cell_type": "code",
   "execution_count": 40,
   "metadata": {},
   "outputs": [],
   "source": [
    "COLUMNS_TO_DROP = ['CurrencyCode','CountryCode','SubscriptionId','BatchId','CUSTOMER_ID','AccountId','TRANSACTION_ID','TX_DATETIME','TX_TIME_DAYS']\n",
    "COLUMNS_TO_ONE_HOT_ENCODE = ['PricingStrategy','ChannelId', 'ProductCategory', 'ProviderId', 'ProductId']\n",
    "COLUMNS_TO_SCALE = ['TX_DURING_WEEKEND','TX_DURING_NIGHT','TX_AMOUNT','Value'] # or None to select all numeric columns"
   ]
  },
  {
   "cell_type": "code",
   "execution_count": 41,
   "metadata": {},
   "outputs": [],
   "source": [
    "# prepare data\n",
    "kwargs_tranform_data = dict(columns_to_drop=COLUMNS_TO_DROP,\n",
    "                            columns_to_onehot_encode=COLUMNS_TO_ONE_HOT_ENCODE,\n",
    "                            columns_to_scale=COLUMNS_TO_SCALE,\n",
    "                            windows_size_in_days=[1,7,30])\n",
    "\n",
    "(X_train, y_train), prequential_split_indices  = data_loader(kwargs_tranform_data=kwargs_tranform_data,\n",
    "                                                            data_path=\"../data/training.csv\", \n",
    "                                                            split_method='prequential',\n",
    "                                                            delta_train=40, \n",
    "                                                            delta_delay=7, \n",
    "                                                            delta_test=20,\n",
    "                                                            n_folds=5,\n",
    "                                                            random_state=41,\n",
    "                                                            sampling_ratio=1.0\n",
    "                                                        )"
   ]
  },
  {
   "cell_type": "code",
   "execution_count": 42,
   "metadata": {},
   "outputs": [
    {
     "data": {
      "text/plain": [
       "((95662, 62), (95662,))"
      ]
     },
     "execution_count": 42,
     "metadata": {},
     "output_type": "execute_result"
    }
   ],
   "source": [
    "X_train.shape, y_train.shape"
   ]
  },
  {
   "cell_type": "code",
   "execution_count": 43,
   "metadata": {},
   "outputs": [
    {
     "data": {
      "text/plain": [
       "1051"
      ]
     },
     "execution_count": 43,
     "metadata": {},
     "output_type": "execute_result"
    }
   ],
   "source": [
    "# Average number of transaction per day\n",
    "df_data = load_data(\"../data/training.csv\")\n",
    "round(df_data.groupby('TX_TIME_DAYS').count().mean()['TRANSACTION_ID'])"
   ]
  },
  {
   "cell_type": "code",
   "execution_count": null,
   "metadata": {},
   "outputs": [
    {
     "name": "stdout",
     "output_type": "stream",
     "text": [
      "Hyperparameter tuning for model: logisticReg\n",
      "Hyperparameter tuning for model: svc\n",
      "Hyperparameter tuning for model: linearSVC\n",
      "Hyperparameter tuning for model: sgdClassifier\n",
      "Hyperparameter tuning for model: decisionTree\n",
      "Hyperparameter tuning for model: randomForest\n",
      "Hyperparameter tuning for model: gradientBoosting\n",
      "Parameter grid for parameter 'tol' is not iterable or a distribution (value=0.0001)\n",
      "Hyperparameter tuning for model: histGradientBoosting\n",
      "Parameter grid for parameter 'loss' needs to be a list or a numpy array, but got 'log_loss' (of type str) instead. Single values need to be wrapped in a list with one element.\n"
     ]
    }
   ],
   "source": [
    "# Hyperparameter optimization\n",
    "cv= TimeSeriesSplit(n_splits=5, gap=1051*5) # 5 days, 1051 = average number of transactions per day\n",
    "\n",
    "best_results = dict()\n",
    "for model_name in config.keys():\n",
    "    try:\n",
    "        print(f\"Hyperparameter tuning for model: {model_name}\")\n",
    "        search_engine = hyperparameter_tuning(cv=cv, \n",
    "                                            config=config,\n",
    "                                            X_train=X_train,\n",
    "                                            y_train=y_train,\n",
    "                                            model_name=model_name, \n",
    "                                            scoring='f1',\n",
    "                                            method='random', # other, gridsearch\n",
    "                                            verbose=0,\n",
    "                                            n_iter=100,\n",
    "                                            n_jobs=-1,\n",
    "                                            )\n",
    "    except Exception as e:\n",
    "        print(e)\n",
    "        continue\n",
    "    best_results[model_name] = [search_engine.best_params_, search_engine.best_score_, search_engine]"
   ]
  },
  {
   "cell_type": "code",
   "execution_count": null,
   "metadata": {},
   "outputs": [],
   "source": [
    "# model_name = 'randomForest'\n",
    "# search_engine = hyperparameter_tuning(cv=cv, \n",
    "#                                 X_train=X_train,\n",
    "#                                 y_train=y_train,\n",
    "#                                 model_name=model_name, \n",
    "#                                 scoring='f1',\n",
    "#                                 method='random', # halving, gridsearch, random\n",
    "#                                 verbose=0,\n",
    "#                                 n_iter=50,\n",
    "#                                 n_jobs=-1,\n",
    "#                                 )\n",
    "# search_engine.best_params_, search_engine.best_score_\n"
   ]
  },
  {
   "cell_type": "code",
   "execution_count": 72,
   "metadata": {},
   "outputs": [
    {
     "data": {
      "text/html": [
       "<style>#sk-container-id-4 {\n",
       "  /* Definition of color scheme common for light and dark mode */\n",
       "  --sklearn-color-text: #000;\n",
       "  --sklearn-color-text-muted: #666;\n",
       "  --sklearn-color-line: gray;\n",
       "  /* Definition of color scheme for unfitted estimators */\n",
       "  --sklearn-color-unfitted-level-0: #fff5e6;\n",
       "  --sklearn-color-unfitted-level-1: #f6e4d2;\n",
       "  --sklearn-color-unfitted-level-2: #ffe0b3;\n",
       "  --sklearn-color-unfitted-level-3: chocolate;\n",
       "  /* Definition of color scheme for fitted estimators */\n",
       "  --sklearn-color-fitted-level-0: #f0f8ff;\n",
       "  --sklearn-color-fitted-level-1: #d4ebff;\n",
       "  --sklearn-color-fitted-level-2: #b3dbfd;\n",
       "  --sklearn-color-fitted-level-3: cornflowerblue;\n",
       "\n",
       "  /* Specific color for light theme */\n",
       "  --sklearn-color-text-on-default-background: var(--sg-text-color, var(--theme-code-foreground, var(--jp-content-font-color1, black)));\n",
       "  --sklearn-color-background: var(--sg-background-color, var(--theme-background, var(--jp-layout-color0, white)));\n",
       "  --sklearn-color-border-box: var(--sg-text-color, var(--theme-code-foreground, var(--jp-content-font-color1, black)));\n",
       "  --sklearn-color-icon: #696969;\n",
       "\n",
       "  @media (prefers-color-scheme: dark) {\n",
       "    /* Redefinition of color scheme for dark theme */\n",
       "    --sklearn-color-text-on-default-background: var(--sg-text-color, var(--theme-code-foreground, var(--jp-content-font-color1, white)));\n",
       "    --sklearn-color-background: var(--sg-background-color, var(--theme-background, var(--jp-layout-color0, #111)));\n",
       "    --sklearn-color-border-box: var(--sg-text-color, var(--theme-code-foreground, var(--jp-content-font-color1, white)));\n",
       "    --sklearn-color-icon: #878787;\n",
       "  }\n",
       "}\n",
       "\n",
       "#sk-container-id-4 {\n",
       "  color: var(--sklearn-color-text);\n",
       "}\n",
       "\n",
       "#sk-container-id-4 pre {\n",
       "  padding: 0;\n",
       "}\n",
       "\n",
       "#sk-container-id-4 input.sk-hidden--visually {\n",
       "  border: 0;\n",
       "  clip: rect(1px 1px 1px 1px);\n",
       "  clip: rect(1px, 1px, 1px, 1px);\n",
       "  height: 1px;\n",
       "  margin: -1px;\n",
       "  overflow: hidden;\n",
       "  padding: 0;\n",
       "  position: absolute;\n",
       "  width: 1px;\n",
       "}\n",
       "\n",
       "#sk-container-id-4 div.sk-dashed-wrapped {\n",
       "  border: 1px dashed var(--sklearn-color-line);\n",
       "  margin: 0 0.4em 0.5em 0.4em;\n",
       "  box-sizing: border-box;\n",
       "  padding-bottom: 0.4em;\n",
       "  background-color: var(--sklearn-color-background);\n",
       "}\n",
       "\n",
       "#sk-container-id-4 div.sk-container {\n",
       "  /* jupyter's `normalize.less` sets `[hidden] { display: none; }`\n",
       "     but bootstrap.min.css set `[hidden] { display: none !important; }`\n",
       "     so we also need the `!important` here to be able to override the\n",
       "     default hidden behavior on the sphinx rendered scikit-learn.org.\n",
       "     See: https://github.com/scikit-learn/scikit-learn/issues/21755 */\n",
       "  display: inline-block !important;\n",
       "  position: relative;\n",
       "}\n",
       "\n",
       "#sk-container-id-4 div.sk-text-repr-fallback {\n",
       "  display: none;\n",
       "}\n",
       "\n",
       "div.sk-parallel-item,\n",
       "div.sk-serial,\n",
       "div.sk-item {\n",
       "  /* draw centered vertical line to link estimators */\n",
       "  background-image: linear-gradient(var(--sklearn-color-text-on-default-background), var(--sklearn-color-text-on-default-background));\n",
       "  background-size: 2px 100%;\n",
       "  background-repeat: no-repeat;\n",
       "  background-position: center center;\n",
       "}\n",
       "\n",
       "/* Parallel-specific style estimator block */\n",
       "\n",
       "#sk-container-id-4 div.sk-parallel-item::after {\n",
       "  content: \"\";\n",
       "  width: 100%;\n",
       "  border-bottom: 2px solid var(--sklearn-color-text-on-default-background);\n",
       "  flex-grow: 1;\n",
       "}\n",
       "\n",
       "#sk-container-id-4 div.sk-parallel {\n",
       "  display: flex;\n",
       "  align-items: stretch;\n",
       "  justify-content: center;\n",
       "  background-color: var(--sklearn-color-background);\n",
       "  position: relative;\n",
       "}\n",
       "\n",
       "#sk-container-id-4 div.sk-parallel-item {\n",
       "  display: flex;\n",
       "  flex-direction: column;\n",
       "}\n",
       "\n",
       "#sk-container-id-4 div.sk-parallel-item:first-child::after {\n",
       "  align-self: flex-end;\n",
       "  width: 50%;\n",
       "}\n",
       "\n",
       "#sk-container-id-4 div.sk-parallel-item:last-child::after {\n",
       "  align-self: flex-start;\n",
       "  width: 50%;\n",
       "}\n",
       "\n",
       "#sk-container-id-4 div.sk-parallel-item:only-child::after {\n",
       "  width: 0;\n",
       "}\n",
       "\n",
       "/* Serial-specific style estimator block */\n",
       "\n",
       "#sk-container-id-4 div.sk-serial {\n",
       "  display: flex;\n",
       "  flex-direction: column;\n",
       "  align-items: center;\n",
       "  background-color: var(--sklearn-color-background);\n",
       "  padding-right: 1em;\n",
       "  padding-left: 1em;\n",
       "}\n",
       "\n",
       "\n",
       "/* Toggleable style: style used for estimator/Pipeline/ColumnTransformer box that is\n",
       "clickable and can be expanded/collapsed.\n",
       "- Pipeline and ColumnTransformer use this feature and define the default style\n",
       "- Estimators will overwrite some part of the style using the `sk-estimator` class\n",
       "*/\n",
       "\n",
       "/* Pipeline and ColumnTransformer style (default) */\n",
       "\n",
       "#sk-container-id-4 div.sk-toggleable {\n",
       "  /* Default theme specific background. It is overwritten whether we have a\n",
       "  specific estimator or a Pipeline/ColumnTransformer */\n",
       "  background-color: var(--sklearn-color-background);\n",
       "}\n",
       "\n",
       "/* Toggleable label */\n",
       "#sk-container-id-4 label.sk-toggleable__label {\n",
       "  cursor: pointer;\n",
       "  display: flex;\n",
       "  width: 100%;\n",
       "  margin-bottom: 0;\n",
       "  padding: 0.5em;\n",
       "  box-sizing: border-box;\n",
       "  text-align: center;\n",
       "  align-items: start;\n",
       "  justify-content: space-between;\n",
       "  gap: 0.5em;\n",
       "}\n",
       "\n",
       "#sk-container-id-4 label.sk-toggleable__label .caption {\n",
       "  font-size: 0.6rem;\n",
       "  font-weight: lighter;\n",
       "  color: var(--sklearn-color-text-muted);\n",
       "}\n",
       "\n",
       "#sk-container-id-4 label.sk-toggleable__label-arrow:before {\n",
       "  /* Arrow on the left of the label */\n",
       "  content: \"▸\";\n",
       "  float: left;\n",
       "  margin-right: 0.25em;\n",
       "  color: var(--sklearn-color-icon);\n",
       "}\n",
       "\n",
       "#sk-container-id-4 label.sk-toggleable__label-arrow:hover:before {\n",
       "  color: var(--sklearn-color-text);\n",
       "}\n",
       "\n",
       "/* Toggleable content - dropdown */\n",
       "\n",
       "#sk-container-id-4 div.sk-toggleable__content {\n",
       "  max-height: 0;\n",
       "  max-width: 0;\n",
       "  overflow: hidden;\n",
       "  text-align: left;\n",
       "  /* unfitted */\n",
       "  background-color: var(--sklearn-color-unfitted-level-0);\n",
       "}\n",
       "\n",
       "#sk-container-id-4 div.sk-toggleable__content.fitted {\n",
       "  /* fitted */\n",
       "  background-color: var(--sklearn-color-fitted-level-0);\n",
       "}\n",
       "\n",
       "#sk-container-id-4 div.sk-toggleable__content pre {\n",
       "  margin: 0.2em;\n",
       "  border-radius: 0.25em;\n",
       "  color: var(--sklearn-color-text);\n",
       "  /* unfitted */\n",
       "  background-color: var(--sklearn-color-unfitted-level-0);\n",
       "}\n",
       "\n",
       "#sk-container-id-4 div.sk-toggleable__content.fitted pre {\n",
       "  /* unfitted */\n",
       "  background-color: var(--sklearn-color-fitted-level-0);\n",
       "}\n",
       "\n",
       "#sk-container-id-4 input.sk-toggleable__control:checked~div.sk-toggleable__content {\n",
       "  /* Expand drop-down */\n",
       "  max-height: 200px;\n",
       "  max-width: 100%;\n",
       "  overflow: auto;\n",
       "}\n",
       "\n",
       "#sk-container-id-4 input.sk-toggleable__control:checked~label.sk-toggleable__label-arrow:before {\n",
       "  content: \"▾\";\n",
       "}\n",
       "\n",
       "/* Pipeline/ColumnTransformer-specific style */\n",
       "\n",
       "#sk-container-id-4 div.sk-label input.sk-toggleable__control:checked~label.sk-toggleable__label {\n",
       "  color: var(--sklearn-color-text);\n",
       "  background-color: var(--sklearn-color-unfitted-level-2);\n",
       "}\n",
       "\n",
       "#sk-container-id-4 div.sk-label.fitted input.sk-toggleable__control:checked~label.sk-toggleable__label {\n",
       "  background-color: var(--sklearn-color-fitted-level-2);\n",
       "}\n",
       "\n",
       "/* Estimator-specific style */\n",
       "\n",
       "/* Colorize estimator box */\n",
       "#sk-container-id-4 div.sk-estimator input.sk-toggleable__control:checked~label.sk-toggleable__label {\n",
       "  /* unfitted */\n",
       "  background-color: var(--sklearn-color-unfitted-level-2);\n",
       "}\n",
       "\n",
       "#sk-container-id-4 div.sk-estimator.fitted input.sk-toggleable__control:checked~label.sk-toggleable__label {\n",
       "  /* fitted */\n",
       "  background-color: var(--sklearn-color-fitted-level-2);\n",
       "}\n",
       "\n",
       "#sk-container-id-4 div.sk-label label.sk-toggleable__label,\n",
       "#sk-container-id-4 div.sk-label label {\n",
       "  /* The background is the default theme color */\n",
       "  color: var(--sklearn-color-text-on-default-background);\n",
       "}\n",
       "\n",
       "/* On hover, darken the color of the background */\n",
       "#sk-container-id-4 div.sk-label:hover label.sk-toggleable__label {\n",
       "  color: var(--sklearn-color-text);\n",
       "  background-color: var(--sklearn-color-unfitted-level-2);\n",
       "}\n",
       "\n",
       "/* Label box, darken color on hover, fitted */\n",
       "#sk-container-id-4 div.sk-label.fitted:hover label.sk-toggleable__label.fitted {\n",
       "  color: var(--sklearn-color-text);\n",
       "  background-color: var(--sklearn-color-fitted-level-2);\n",
       "}\n",
       "\n",
       "/* Estimator label */\n",
       "\n",
       "#sk-container-id-4 div.sk-label label {\n",
       "  font-family: monospace;\n",
       "  font-weight: bold;\n",
       "  display: inline-block;\n",
       "  line-height: 1.2em;\n",
       "}\n",
       "\n",
       "#sk-container-id-4 div.sk-label-container {\n",
       "  text-align: center;\n",
       "}\n",
       "\n",
       "/* Estimator-specific */\n",
       "#sk-container-id-4 div.sk-estimator {\n",
       "  font-family: monospace;\n",
       "  border: 1px dotted var(--sklearn-color-border-box);\n",
       "  border-radius: 0.25em;\n",
       "  box-sizing: border-box;\n",
       "  margin-bottom: 0.5em;\n",
       "  /* unfitted */\n",
       "  background-color: var(--sklearn-color-unfitted-level-0);\n",
       "}\n",
       "\n",
       "#sk-container-id-4 div.sk-estimator.fitted {\n",
       "  /* fitted */\n",
       "  background-color: var(--sklearn-color-fitted-level-0);\n",
       "}\n",
       "\n",
       "/* on hover */\n",
       "#sk-container-id-4 div.sk-estimator:hover {\n",
       "  /* unfitted */\n",
       "  background-color: var(--sklearn-color-unfitted-level-2);\n",
       "}\n",
       "\n",
       "#sk-container-id-4 div.sk-estimator.fitted:hover {\n",
       "  /* fitted */\n",
       "  background-color: var(--sklearn-color-fitted-level-2);\n",
       "}\n",
       "\n",
       "/* Specification for estimator info (e.g. \"i\" and \"?\") */\n",
       "\n",
       "/* Common style for \"i\" and \"?\" */\n",
       "\n",
       ".sk-estimator-doc-link,\n",
       "a:link.sk-estimator-doc-link,\n",
       "a:visited.sk-estimator-doc-link {\n",
       "  float: right;\n",
       "  font-size: smaller;\n",
       "  line-height: 1em;\n",
       "  font-family: monospace;\n",
       "  background-color: var(--sklearn-color-background);\n",
       "  border-radius: 1em;\n",
       "  height: 1em;\n",
       "  width: 1em;\n",
       "  text-decoration: none !important;\n",
       "  margin-left: 0.5em;\n",
       "  text-align: center;\n",
       "  /* unfitted */\n",
       "  border: var(--sklearn-color-unfitted-level-1) 1pt solid;\n",
       "  color: var(--sklearn-color-unfitted-level-1);\n",
       "}\n",
       "\n",
       ".sk-estimator-doc-link.fitted,\n",
       "a:link.sk-estimator-doc-link.fitted,\n",
       "a:visited.sk-estimator-doc-link.fitted {\n",
       "  /* fitted */\n",
       "  border: var(--sklearn-color-fitted-level-1) 1pt solid;\n",
       "  color: var(--sklearn-color-fitted-level-1);\n",
       "}\n",
       "\n",
       "/* On hover */\n",
       "div.sk-estimator:hover .sk-estimator-doc-link:hover,\n",
       ".sk-estimator-doc-link:hover,\n",
       "div.sk-label-container:hover .sk-estimator-doc-link:hover,\n",
       ".sk-estimator-doc-link:hover {\n",
       "  /* unfitted */\n",
       "  background-color: var(--sklearn-color-unfitted-level-3);\n",
       "  color: var(--sklearn-color-background);\n",
       "  text-decoration: none;\n",
       "}\n",
       "\n",
       "div.sk-estimator.fitted:hover .sk-estimator-doc-link.fitted:hover,\n",
       ".sk-estimator-doc-link.fitted:hover,\n",
       "div.sk-label-container:hover .sk-estimator-doc-link.fitted:hover,\n",
       ".sk-estimator-doc-link.fitted:hover {\n",
       "  /* fitted */\n",
       "  background-color: var(--sklearn-color-fitted-level-3);\n",
       "  color: var(--sklearn-color-background);\n",
       "  text-decoration: none;\n",
       "}\n",
       "\n",
       "/* Span, style for the box shown on hovering the info icon */\n",
       ".sk-estimator-doc-link span {\n",
       "  display: none;\n",
       "  z-index: 9999;\n",
       "  position: relative;\n",
       "  font-weight: normal;\n",
       "  right: .2ex;\n",
       "  padding: .5ex;\n",
       "  margin: .5ex;\n",
       "  width: min-content;\n",
       "  min-width: 20ex;\n",
       "  max-width: 50ex;\n",
       "  color: var(--sklearn-color-text);\n",
       "  box-shadow: 2pt 2pt 4pt #999;\n",
       "  /* unfitted */\n",
       "  background: var(--sklearn-color-unfitted-level-0);\n",
       "  border: .5pt solid var(--sklearn-color-unfitted-level-3);\n",
       "}\n",
       "\n",
       ".sk-estimator-doc-link.fitted span {\n",
       "  /* fitted */\n",
       "  background: var(--sklearn-color-fitted-level-0);\n",
       "  border: var(--sklearn-color-fitted-level-3);\n",
       "}\n",
       "\n",
       ".sk-estimator-doc-link:hover span {\n",
       "  display: block;\n",
       "}\n",
       "\n",
       "/* \"?\"-specific style due to the `<a>` HTML tag */\n",
       "\n",
       "#sk-container-id-4 a.estimator_doc_link {\n",
       "  float: right;\n",
       "  font-size: 1rem;\n",
       "  line-height: 1em;\n",
       "  font-family: monospace;\n",
       "  background-color: var(--sklearn-color-background);\n",
       "  border-radius: 1rem;\n",
       "  height: 1rem;\n",
       "  width: 1rem;\n",
       "  text-decoration: none;\n",
       "  /* unfitted */\n",
       "  color: var(--sklearn-color-unfitted-level-1);\n",
       "  border: var(--sklearn-color-unfitted-level-1) 1pt solid;\n",
       "}\n",
       "\n",
       "#sk-container-id-4 a.estimator_doc_link.fitted {\n",
       "  /* fitted */\n",
       "  border: var(--sklearn-color-fitted-level-1) 1pt solid;\n",
       "  color: var(--sklearn-color-fitted-level-1);\n",
       "}\n",
       "\n",
       "/* On hover */\n",
       "#sk-container-id-4 a.estimator_doc_link:hover {\n",
       "  /* unfitted */\n",
       "  background-color: var(--sklearn-color-unfitted-level-3);\n",
       "  color: var(--sklearn-color-background);\n",
       "  text-decoration: none;\n",
       "}\n",
       "\n",
       "#sk-container-id-4 a.estimator_doc_link.fitted:hover {\n",
       "  /* fitted */\n",
       "  background-color: var(--sklearn-color-fitted-level-3);\n",
       "}\n",
       "</style><div id=\"sk-container-id-4\" class=\"sk-top-container\"><div class=\"sk-text-repr-fallback\"><pre>LogisticRegression(C=2.782559402207126, class_weight=&#x27;balanced&#x27;, max_iter=10000,\n",
       "                   solver=&#x27;liblinear&#x27;)</pre><b>In a Jupyter environment, please rerun this cell to show the HTML representation or trust the notebook. <br />On GitHub, the HTML representation is unable to render, please try loading this page with nbviewer.org.</b></div><div class=\"sk-container\" hidden><div class=\"sk-item\"><div class=\"sk-estimator fitted sk-toggleable\"><input class=\"sk-toggleable__control sk-hidden--visually\" id=\"sk-estimator-id-6\" type=\"checkbox\" checked><label for=\"sk-estimator-id-6\" class=\"sk-toggleable__label fitted sk-toggleable__label-arrow\"><div><div>LogisticRegression</div></div><div><a class=\"sk-estimator-doc-link fitted\" rel=\"noreferrer\" target=\"_blank\" href=\"https://scikit-learn.org/1.6/modules/generated/sklearn.linear_model.LogisticRegression.html\">?<span>Documentation for LogisticRegression</span></a><span class=\"sk-estimator-doc-link fitted\">i<span>Fitted</span></span></div></label><div class=\"sk-toggleable__content fitted\"><pre>LogisticRegression(C=2.782559402207126, class_weight=&#x27;balanced&#x27;, max_iter=10000,\n",
       "                   solver=&#x27;liblinear&#x27;)</pre></div> </div></div></div></div>"
      ],
      "text/plain": [
       "LogisticRegression(C=2.782559402207126, class_weight='balanced', max_iter=10000,\n",
       "                   solver='liblinear')"
      ]
     },
     "execution_count": 72,
     "metadata": {},
     "output_type": "execute_result"
    }
   ],
   "source": [
    "best_results['logisticReg'][-1].best_estimator_"
   ]
  },
  {
   "cell_type": "code",
   "execution_count": null,
   "metadata": {},
   "outputs": [
    {
     "data": {
      "text/plain": [
       "<Axes: title={'center': 'F1 scores distribution cross-validation'}>"
      ]
     },
     "execution_count": 338,
     "metadata": {},
     "output_type": "execute_result"
    },
    {
     "data": {
      "image/png": "[encoded data removed]",
      "text/plain": [
       "<Figure size 700x300 with 1 Axes>"
      ]
     },
     "metadata": {},
     "output_type": "display_data"
    }
   ],
   "source": [
    "performances_df = results_from_search(search_engine, performance_metrics_list=['score'])\n",
    "performances_df.plot(figsize=(7,3),kind='box',y='score val',ylim=[0,1],title=\"F1 scores distribution / Cross-validation\")"
   ]
  },
  {
   "cell_type": "code",
   "execution_count": 276,
   "metadata": {},
   "outputs": [],
   "source": [
    "# model, model_cfg = get_model('logisticReg', config)\n",
    "# model_cfg = sample_model_cfg(model_cfg)\n",
    "# model = instantiate_model(model, **model_cfg)\n",
    "# model"
   ]
  },
  {
   "cell_type": "code",
   "execution_count": 272,
   "metadata": {},
   "outputs": [],
   "source": [
    "# model_trained, training_execution_time = fit_model(model, X_train, y_train,return_execution_time=True)\n",
    "# evaluate(model_trained, X_train, y_train)"
   ]
  },
  {
   "cell_type": "code",
   "execution_count": 46,
   "metadata": {},
   "outputs": [
    {
     "data": {
      "text/plain": [
       "6"
      ]
     },
     "execution_count": 46,
     "metadata": {},
     "output_type": "execute_result"
    }
   ],
   "source": [
    "len(best_results)"
   ]
  },
  {
   "cell_type": "code",
   "execution_count": null,
   "metadata": {},
   "outputs": [],
   "source": []
  }
 ],
 "metadata": {
  "kernelspec": {
   "display_name": ".venv",
   "language": "python",
   "name": "python3"
  },
  "language_info": {
   "codemirror_mode": {
    "name": "ipython",
    "version": 3
   },
   "file_extension": ".py",
   "mimetype": "text/x-python",
   "name": "python",
   "nbconvert_exporter": "python",
   "pygments_lexer": "ipython3",
   "version": "3.12.9"
  }
 },
 "nbformat": 4,
 "nbformat_minor": 2
}

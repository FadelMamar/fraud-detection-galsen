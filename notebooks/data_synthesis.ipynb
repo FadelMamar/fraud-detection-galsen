{
 "cells": [
  {
   "cell_type": "markdown",
   "id": "d4901105",
   "metadata": {},
   "source": [
    "- Ref 1: https://colab.research.google.com/drive/1YLk2uwn8yrSRPy0soEeJwu8Hdk_tGTlE?usp=sharing#scrollTo=HPDpEPCKJ4EJ\n",
    "\n",
    "- Ref 2: https://colab.research.google.com/drive/1F3WWduNjcX4oKck6XkjlwZ9zIsWlTGEM?usp=sharing\n",
    "\n",
    "- Ref 0: https://sdv.dev/\n",
    "\n",
    "- Ref 3: https://scikit-learn.org/stable/auto_examples/applications/plot_cyclical_feature_engineering.html#trigonometric-features"
   ]
  },
  {
   "cell_type": "code",
   "execution_count": null,
   "id": "72097037",
   "metadata": {},
   "outputs": [],
   "source": [
    "!pip install sdv"
   ]
  },
  {
   "cell_type": "markdown",
   "id": "a54b1b14",
   "metadata": {},
   "source": [
    "# Oversampling"
   ]
  },
  {
   "cell_type": "code",
   "execution_count": null,
   "id": "dc12a486",
   "metadata": {},
   "outputs": [],
   "source": [
    "# select samplers\n",
    "# sampler_cfgs, sampler_names = None, None\n",
    "# if not trial.suggest_categorical(\n",
    "#     \"disable_samplers\", [True, self.disable_samplers]\n",
    "# ):\n",
    "#     conbimed_sampler = trial.suggest_categorical(\n",
    "#         \"conbined_sampler\", self.HYP_CONFIGS.combinedsamplers\n",
    "#     )\n",
    "#     sampler_names = [\n",
    "#         conbimed_sampler,\n",
    "#     ]\n",
    "\n",
    "# augment or resample data on the fly if \n",
    "# (X, y), fitted_models_pyod = self.datamodule.augment_resample_dataset(\n",
    "#     X=X,\n",
    "#     y=y,\n",
    "#     outliers_det_configs=outliers_det_configs,\n",
    "#     sampler_names=sampler_names,\n",
    "#     sampler_cfgs=sampler_cfgs,\n",
    "#     fitted_detector_list=None,\n",
    "# )"
   ]
  },
  {
   "cell_type": "markdown",
   "id": "92102c1b",
   "metadata": {},
   "source": [
    "# Using Synthesize Sequences (PAR)\n"
   ]
  },
  {
   "cell_type": "code",
   "execution_count": 1,
   "id": "3253147e",
   "metadata": {},
   "outputs": [],
   "source": [
    "from fraudetect.dataset import load_data"
   ]
  },
  {
   "cell_type": "code",
   "execution_count": null,
   "id": "c529cfb3",
   "metadata": {},
   "outputs": [],
   "source": [
    "df_data = load_data(\"../data/training.csv\")\n",
    "df_data.head(3)"
   ]
  },
  {
   "cell_type": "code",
   "execution_count": null,
   "id": "2e0db1c3",
   "metadata": {},
   "outputs": [],
   "source": []
  },
  {
   "cell_type": "code",
   "execution_count": null,
   "id": "f0885da2",
   "metadata": {},
   "outputs": [],
   "source": []
  },
  {
   "cell_type": "markdown",
   "id": "a8150e68",
   "metadata": {},
   "source": [
    "# Using Copulas"
   ]
  },
  {
   "cell_type": "code",
   "execution_count": null,
   "id": "dde81815",
   "metadata": {},
   "outputs": [],
   "source": []
  },
  {
   "cell_type": "markdown",
   "id": "969a2cc4",
   "metadata": {},
   "source": [
    "# Using CTGAN"
   ]
  },
  {
   "cell_type": "code",
   "execution_count": null,
   "id": "e1b2d329",
   "metadata": {},
   "outputs": [],
   "source": []
  },
  {
   "cell_type": "markdown",
   "id": "488a94ed",
   "metadata": {},
   "source": [
    "# Using RDT"
   ]
  },
  {
   "cell_type": "code",
   "execution_count": null,
   "id": "ef3b3cba",
   "metadata": {},
   "outputs": [],
   "source": []
  }
 ],
 "metadata": {
  "kernelspec": {
   "display_name": ".venv",
   "language": "python",
   "name": "python3"
  },
  "language_info": {
   "codemirror_mode": {
    "name": "ipython",
    "version": 3
   },
   "file_extension": ".py",
   "mimetype": "text/x-python",
   "name": "python",
   "nbconvert_exporter": "python",
   "pygments_lexer": "ipython3",
   "version": "3.12.10"
  }
 },
 "nbformat": 4,
 "nbformat_minor": 5
}

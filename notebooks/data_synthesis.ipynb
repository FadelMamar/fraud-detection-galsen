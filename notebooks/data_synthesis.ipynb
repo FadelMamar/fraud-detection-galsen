{
 "cells": [
  {
   "cell_type": "markdown",
   "id": "d4901105",
   "metadata": {},
   "source": [
    "- Ref 1: https://colab.research.google.com/drive/1YLk2uwn8yrSRPy0soEeJwu8Hdk_tGTlE?usp=sharing#scrollTo=HPDpEPCKJ4EJ\n",
    "\n",
    "- Ref 2: https://colab.research.google.com/drive/1F3WWduNjcX4oKck6XkjlwZ9zIsWlTGEM?usp=sharing\n",
    "\n",
    "- Ref 0: https://sdv.dev/"
   ]
  },
  {
   "cell_type": "code",
   "execution_count": null,
   "id": "72097037",
   "metadata": {},
   "outputs": [],
   "source": [
    "!pip install sdv"
   ]
  },
  {
   "cell_type": "markdown",
   "id": "92102c1b",
   "metadata": {},
   "source": [
    "# Using Synthesize Sequences (PAR)\n"
   ]
  },
  {
   "cell_type": "code",
   "execution_count": 1,
   "id": "3253147e",
   "metadata": {},
   "outputs": [],
   "source": [
    "from fraudetect.dataset import load_data"
   ]
  },
  {
   "cell_type": "code",
   "execution_count": null,
   "id": "c529cfb3",
   "metadata": {},
   "outputs": [],
   "source": [
    "df_data = load_data(\"../data/training.csv\")\n",
    "df_data.head(3)"
   ]
  },
  {
   "cell_type": "code",
   "execution_count": null,
   "id": "2e0db1c3",
   "metadata": {},
   "outputs": [],
   "source": []
  },
  {
   "cell_type": "code",
   "execution_count": null,
   "id": "f0885da2",
   "metadata": {},
   "outputs": [],
   "source": []
  },
  {
   "cell_type": "markdown",
   "id": "a8150e68",
   "metadata": {},
   "source": [
    "# Using Copulas"
   ]
  },
  {
   "cell_type": "code",
   "execution_count": null,
   "id": "dde81815",
   "metadata": {},
   "outputs": [],
   "source": []
  },
  {
   "cell_type": "markdown",
   "id": "969a2cc4",
   "metadata": {},
   "source": [
    "# Using CTGAN"
   ]
  },
  {
   "cell_type": "code",
   "execution_count": null,
   "id": "e1b2d329",
   "metadata": {},
   "outputs": [],
   "source": []
  },
  {
   "cell_type": "markdown",
   "id": "488a94ed",
   "metadata": {},
   "source": [
    "# Using RDT"
   ]
  },
  {
   "cell_type": "code",
   "execution_count": null,
   "id": "ef3b3cba",
   "metadata": {},
   "outputs": [],
   "source": []
  }
 ],
 "metadata": {
  "kernelspec": {
   "display_name": ".venv",
   "language": "python",
   "name": "python3"
  },
  "language_info": {
   "codemirror_mode": {
    "name": "ipython",
    "version": 3
   },
   "file_extension": ".py",
   "mimetype": "text/x-python",
   "name": "python",
   "nbconvert_exporter": "python",
   "pygments_lexer": "ipython3",
   "version": "3.12.10"
  }
 },
 "nbformat": 4,
 "nbformat_minor": 5
}
